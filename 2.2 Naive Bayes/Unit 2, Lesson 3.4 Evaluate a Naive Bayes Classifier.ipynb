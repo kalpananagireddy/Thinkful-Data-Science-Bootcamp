{
 "cells": [
  {
   "cell_type": "markdown",
   "metadata": {
    "run_control": {
     "frozen": false,
     "read_only": false
    }
   },
   "source": [
    "# Naive Bayes Classifier: Feedback analysis #\n",
    "\n",
    "Using data from the Yelp Reviews dataset, let's build a Naive Bayes classifier to classify the sentiment polarity of restaurant reviews (positive or negative). We will start by exploring the data, and then we'll extract some features to start modeling. We will use unigrams to build and test a classifier. To demonstrate the problem of overfitting, the classifier built based on Yelp Review data will be tested on an additional, unseen dataset (as per Lesson 2.7 Challenge). \n",
    "\n",
    "To cross-validate and refine the model further, the classifier will be evaluated using 5 folds. Finally, we'll retest it on the unseen dataset to see how well the cross-validation has improved the classifer.\n",
    "\n",
    "## Overview of the data ##\n",
    "\n",
    "The dataset of 1000 rows includes just the review text and a sentiment polarity: 1 = positive, 0 = negative."
   ]
  },
  {
   "cell_type": "code",
   "execution_count": 91,
   "metadata": {
    "collapsed": true,
    "run_control": {
     "frozen": false,
     "read_only": false
    }
   },
   "outputs": [],
   "source": [
    "##Numpy and pandas\n",
    "import numpy as np\n",
    "import pandas as pd\n",
    "\n",
    "##Visualization\n",
    "import matplotlib.pyplot as plt\n",
    "%matplotlib inline\n",
    "import seaborn as sns\n",
    "\n",
    "##NLP tools\n",
    "import nltk\n",
    "from nltk.corpus import stopwords \n",
    "\n",
    "##Modeling\n",
    "import sklearn\n",
    "from sklearn.naive_bayes import BernoulliNB\n",
    "\n",
    "#Bag of words model\n",
    "from sklearn.feature_extraction.text import CountVectorizer\n",
    "from sklearn.feature_extraction.text import TfidfTransformer\n",
    "\n",
    "##Cross-validation\n",
    "from sklearn.model_selection import train_test_split\n",
    "from sklearn.metrics import classification_report\n",
    "from sklearn.metrics import confusion_matrix\n",
    "from sklearn.pipeline import Pipeline\n",
    "from sklearn.model_selection import cross_val_score\n",
    "from sklearn.model_selection import KFold"
   ]
  },
  {
   "cell_type": "code",
   "execution_count": 92,
   "metadata": {
    "run_control": {
     "frozen": false,
     "read_only": false
    }
   },
   "outputs": [
    {
     "data": {
      "text/html": [
       "<div>\n",
       "<style>\n",
       "    .dataframe thead tr:only-child th {\n",
       "        text-align: right;\n",
       "    }\n",
       "\n",
       "    .dataframe thead th {\n",
       "        text-align: left;\n",
       "    }\n",
       "\n",
       "    .dataframe tbody tr th {\n",
       "        vertical-align: top;\n",
       "    }\n",
       "</style>\n",
       "<table border=\"1\" class=\"dataframe\">\n",
       "  <thead>\n",
       "    <tr style=\"text-align: right;\">\n",
       "      <th></th>\n",
       "      <th>review</th>\n",
       "      <th>sentiment</th>\n",
       "    </tr>\n",
       "  </thead>\n",
       "  <tbody>\n",
       "    <tr>\n",
       "      <th>0</th>\n",
       "      <td>Wow... Loved this place.</td>\n",
       "      <td>1</td>\n",
       "    </tr>\n",
       "    <tr>\n",
       "      <th>1</th>\n",
       "      <td>Crust is not good.</td>\n",
       "      <td>0</td>\n",
       "    </tr>\n",
       "    <tr>\n",
       "      <th>2</th>\n",
       "      <td>Not tasty and the texture was just nasty.</td>\n",
       "      <td>0</td>\n",
       "    </tr>\n",
       "    <tr>\n",
       "      <th>3</th>\n",
       "      <td>Stopped by during the late May bank holiday of...</td>\n",
       "      <td>1</td>\n",
       "    </tr>\n",
       "    <tr>\n",
       "      <th>4</th>\n",
       "      <td>The selection on the menu was great and so wer...</td>\n",
       "      <td>1</td>\n",
       "    </tr>\n",
       "  </tbody>\n",
       "</table>\n",
       "</div>"
      ],
      "text/plain": [
       "                                              review  sentiment\n",
       "0                           Wow... Loved this place.          1\n",
       "1                                 Crust is not good.          0\n",
       "2          Not tasty and the texture was just nasty.          0\n",
       "3  Stopped by during the late May bank holiday of...          1\n",
       "4  The selection on the menu was great and so wer...          1"
      ]
     },
     "execution_count": 92,
     "metadata": {},
     "output_type": "execute_result"
    }
   ],
   "source": [
    "# Grab and process the raw data.\n",
    "yelp_raw = pd.read_csv('/Users/teresaoneill/Dropbox/Thinkful/Datasets/yelp_labelled.txt', delimiter= '\\t', header=None, encoding='utf-8')\n",
    "yelp_raw.columns = ['review', 'sentiment']\n",
    "yelp_raw.head()"
   ]
  },
  {
   "cell_type": "markdown",
   "metadata": {},
   "source": [
    "This dataset includes two balanced classes, with 500 observations in each, so we do not need to employ any special sampling strategies."
   ]
  },
  {
   "cell_type": "code",
   "execution_count": 93,
   "metadata": {},
   "outputs": [
    {
     "data": {
      "text/plain": [
       "1    500\n",
       "0    500\n",
       "Name: sentiment, dtype: int64"
      ]
     },
     "execution_count": 93,
     "metadata": {},
     "output_type": "execute_result"
    }
   ],
   "source": [
    "#Check how many datapoints are in each category.\n",
    "yelp_raw['sentiment'].value_counts()"
   ]
  },
  {
   "cell_type": "markdown",
   "metadata": {
    "run_control": {
     "frozen": false,
     "read_only": false
    }
   },
   "source": [
    "For our first try, let's construct a set of keywords for negative sentiment. "
   ]
  },
  {
   "cell_type": "code",
   "execution_count": 94,
   "metadata": {
    "collapsed": true,
    "run_control": {
     "frozen": false,
     "read_only": false
    }
   },
   "outputs": [],
   "source": [
    "keywords_neg = ['suck', 'else', 'wait', 'gross', 'bad', 'waste', 'rude', 'never', 'terrible']\n",
    "\n",
    "for key in keywords_neg:\n",
    "    # Note that we add spaces around the key so that we're getting the word,\n",
    "    # not just pattern matching.\n",
    "    yelp_raw[str(key)] = yelp_raw.review.str.contains(\n",
    "        ' ' + str(key),\n",
    "        case=False\n",
    "    )"
   ]
  },
  {
   "cell_type": "markdown",
   "metadata": {
    "run_control": {
     "frozen": false,
     "read_only": false
    }
   },
   "source": [
    "Let's check how independent these keywords are with a heatmap. The keywords we've chosen are pretty independent, so we're not violating the assumptions of the model. "
   ]
  },
  {
   "cell_type": "code",
   "execution_count": 95,
   "metadata": {
    "run_control": {
     "frozen": false,
     "read_only": false
    }
   },
   "outputs": [
    {
     "data": {
      "text/plain": [
       "<matplotlib.axes._subplots.AxesSubplot at 0x1a19a16898>"
      ]
     },
     "execution_count": 95,
     "metadata": {},
     "output_type": "execute_result"
    },
    {
     "data": {
      "image/png": "[encoded data removed]",
      "text/plain": [
       "<matplotlib.figure.Figure at 0x1a19a16f98>"
      ]
     },
     "metadata": {},
     "output_type": "display_data"
    }
   ],
   "source": [
    "sns.heatmap(yelp_raw.corr(), cmap=\"YlGnBu\")"
   ]
  },
  {
   "cell_type": "markdown",
   "metadata": {
    "run_control": {
     "frozen": false,
     "read_only": false
    }
   },
   "source": [
    "Next, let's specify the outcome and input variables, and try the model. \n",
    "\n",
    "### Iteration 1"
   ]
  },
  {
   "cell_type": "code",
   "execution_count": 96,
   "metadata": {
    "collapsed": true,
    "run_control": {
     "frozen": false,
     "read_only": false
    }
   },
   "outputs": [],
   "source": [
    "data = yelp_raw[keywords_neg]\n",
    "target = yelp_raw['sentiment']"
   ]
  },
  {
   "cell_type": "code",
   "execution_count": 97,
   "metadata": {
    "run_control": {
     "frozen": false,
     "read_only": false
    }
   },
   "outputs": [
    {
     "name": "stdout",
     "output_type": "stream",
     "text": [
      "Number of mislabeled points out of a total 1000 points : 417\n"
     ]
    }
   ],
   "source": [
    "# Instantiate the Bernoulli model and store it in a new variable.\n",
    "bnb = BernoulliNB()\n",
    "\n",
    "# Fit our model to the data.\n",
    "bnb.fit(data, target)\n",
    "\n",
    "# Classify, storing the result in a new variable.\n",
    "y_pred1 = bnb.predict(data)\n",
    "\n",
    "# Display our results.\n",
    "print(\"Number of mislabeled points out of a total {} points : {}\".format(\n",
    "    data.shape[0],\n",
    "    (target != y_pred1).sum()\n",
    "))\n",
    "\n"
   ]
  },
  {
   "cell_type": "markdown",
   "metadata": {
    "collapsed": true,
    "run_control": {
     "frozen": false,
     "read_only": false
    }
   },
   "source": [
    "This initial model fares just a little better than chance, so it needs to be refined. A confusion matrix will narrow in on the model's weakness: sensitivity or specificity. "
   ]
  },
  {
   "cell_type": "code",
   "execution_count": 98,
   "metadata": {},
   "outputs": [
    {
     "name": "stdout",
     "output_type": "stream",
     "text": [
      "[[ 94 406]\n",
      " [ 11 489]]\n",
      "2.2\n",
      "81.2\n",
      "             precision    recall  f1-score   support\n",
      "\n",
      "          0       0.90      0.19      0.31       500\n",
      "          1       0.55      0.98      0.70       500\n",
      "\n",
      "avg / total       0.72      0.58      0.51      1000\n",
      "\n"
     ]
    }
   ],
   "source": [
    "from sklearn.metrics import confusion_matrix, f1_score\n",
    "confusion1 = confusion_matrix(target, y_pred1)\n",
    "print(confusion1)\n",
    "\n",
    "type1_error = confusion1[1][0]/(confusion1[1][0]+confusion1[1][1])*100\n",
    "print(type1_error)\n",
    "\n",
    "type2_error = confusion1[0][1]/(confusion1[0][0]+confusion1[0][1])*100\n",
    "print(type2_error)\n",
    "print (classification_report(target, y_pred1))"
   ]
  },
  {
   "cell_type": "markdown",
   "metadata": {},
   "source": [
    "The model's Type 1 error rate is pretty good: only 11 positive reviews were misclassified as negative reviews (2.2%), while the Type 2 error rate is extremely high: 406 negative reviews were missed (81.2%). Our simple list of 9 negative words was only enough to catch 19% of negative reviews.\n",
    "\n",
    "### Iteration 2 ###\n",
    "\n",
    "To refine the model, we'll construct a bag of words model and examine which unigrams occur most frequently in reviews with each sentiment. We'll start by cleaning and tokenizing the reviews (stripping non-alphabetic characters, casting to lowercase, and separating into words). \n",
    "\n",
    "The CountVectorizer function from sklearn takes care of tokenization. We could manually remove stopwords, but the term frequency - inverse document frequency (TF-IDF) transformer should have the same effect."
   ]
  },
  {
   "cell_type": "code",
   "execution_count": 99,
   "metadata": {
    "collapsed": true
   },
   "outputs": [],
   "source": [
    "#Start by removing nonalphabetic characters and converting to lowercase.\n",
    "\n",
    "yelp_token = yelp_raw['review'].str.replace('[^a-zA-Z]', ' ')\n",
    "yelp_token = yelp_raw['review'].str.lower()\n",
    "\n",
    "#words = yelp_token.str.split(' ')\n",
    "#Standardize british vs. am spelling"
   ]
  },
  {
   "cell_type": "markdown",
   "metadata": {},
   "source": [
    "The Count Vectorizer generates an array where each row is a review from the original dataset, and each column is a word of at least two characters. Each item in the area is a Boolean indicating whether the word is present in that review. Since the highest frequency words contribute little information to the model, we'll transform the dataset so that more informative features are weighted more heavily. \n",
    "\n",
    "As we can see from the shape of the array, there are 1000 reviews (the original dataset) and 2034 unigrams."
   ]
  },
  {
   "cell_type": "code",
   "execution_count": 100,
   "metadata": {},
   "outputs": [
    {
     "name": "stdout",
     "output_type": "stream",
     "text": [
      "(1000, 2034)\n"
     ]
    }
   ],
   "source": [
    "#Use CountVectorizer to generate an array of unigram counts for each review.\n",
    "vectorizer = CountVectorizer(stop_words=None, max_features=None)\n",
    "X = vectorizer.fit(yelp_token)\n",
    "X = vectorizer.transform(yelp_token)\n",
    "\n",
    "#Use term frequency - inverse document frequency transformation to weight more informative unigrams.\n",
    "tfidf_transformer = TfidfTransformer().fit(X)\n",
    "X_tfidf = tfidf_transformer.transform(X)\n",
    "\n",
    "#Take a look at the shape of the array.\n",
    "print(X_tfidf.shape)"
   ]
  },
  {
   "cell_type": "markdown",
   "metadata": {},
   "source": [
    "Next, we'll refit the model using bag of words instead of the manually constructed list of negative keywords from Iteration 1. This model correctly accounts for 945/1000 datapoints: an accuracy of 94.5%--much better than our first model!"
   ]
  },
  {
   "cell_type": "code",
   "execution_count": 101,
   "metadata": {},
   "outputs": [
    {
     "name": "stdout",
     "output_type": "stream",
     "text": [
      "Number of mislabeled points out of a total 1000 points : 55\n"
     ]
    }
   ],
   "source": [
    "#Refit the model using tfidf in place of the manually constructed keywords list.\n",
    "bnb.fit(X_tfidf, target)\n",
    "y_pred2 = bnb.predict(X_tfidf)\n",
    "\n",
    "#Read out the result.\n",
    "print(\"Number of mislabeled points out of a total {} points : {}\".format(\n",
    "    data.shape[0],\n",
    "    (target != y_pred2).sum()\n",
    "))\n"
   ]
  },
  {
   "cell_type": "markdown",
   "metadata": {},
   "source": [
    "Let's evaluate the model using a confusion matrix, to see where it can be improved. The Type 1 and 2 error rates are actually quite similar (5.8% and 5.2%, respectively). This is a much stronger model."
   ]
  },
  {
   "cell_type": "code",
   "execution_count": 102,
   "metadata": {},
   "outputs": [
    {
     "name": "stdout",
     "output_type": "stream",
     "text": [
      "[[474  26]\n",
      " [ 29 471]]\n",
      "5.8\n",
      "5.2\n"
     ]
    }
   ],
   "source": [
    "#Evaluate the result in a confusion matrix.\n",
    "confusion2 = confusion_matrix(target, y_pred2)\n",
    "print(confusion2)\n",
    "\n",
    "type1_error = confusion2[1][0]/(confusion2[1][0]+confusion2[1][1])*100\n",
    "print(type1_error)\n",
    "\n",
    "type2_error = confusion2[0][1]/(confusion2[0][0]+confusion2[0][1])*100\n",
    "print(type2_error)"
   ]
  },
  {
   "cell_type": "markdown",
   "metadata": {},
   "source": [
    "### The problem!\n",
    "\n",
    "The bag of words model above is built using the entire dataset, so it suffers from overfitting. The model uses all the data in the yelp reviews corpus, so we expect it to fare well with the yelp review corpus. If we apply it to unseen data, say, the Amazon review corpus, we will not expect the same performance. Let's run through the process, fitting the model to the Amazon data, to demonstrate the problem. \n",
    "\n",
    "First, read in the Amazon data, and confirm that it has the same content and shape as the Yelp data."
   ]
  },
  {
   "cell_type": "code",
   "execution_count": 103,
   "metadata": {},
   "outputs": [
    {
     "name": "stdout",
     "output_type": "stream",
     "text": [
      "1    500\n",
      "0    500\n",
      "Name: sentiment, dtype: int64\n"
     ]
    },
    {
     "data": {
      "text/html": [
       "<div>\n",
       "<style>\n",
       "    .dataframe thead tr:only-child th {\n",
       "        text-align: right;\n",
       "    }\n",
       "\n",
       "    .dataframe thead th {\n",
       "        text-align: left;\n",
       "    }\n",
       "\n",
       "    .dataframe tbody tr th {\n",
       "        vertical-align: top;\n",
       "    }\n",
       "</style>\n",
       "<table border=\"1\" class=\"dataframe\">\n",
       "  <thead>\n",
       "    <tr style=\"text-align: right;\">\n",
       "      <th></th>\n",
       "      <th>review</th>\n",
       "      <th>sentiment</th>\n",
       "    </tr>\n",
       "  </thead>\n",
       "  <tbody>\n",
       "    <tr>\n",
       "      <th>0</th>\n",
       "      <td>So there is no way for me to plug it in here i...</td>\n",
       "      <td>0</td>\n",
       "    </tr>\n",
       "    <tr>\n",
       "      <th>1</th>\n",
       "      <td>Good case, Excellent value.</td>\n",
       "      <td>1</td>\n",
       "    </tr>\n",
       "    <tr>\n",
       "      <th>2</th>\n",
       "      <td>Great for the jawbone.</td>\n",
       "      <td>1</td>\n",
       "    </tr>\n",
       "    <tr>\n",
       "      <th>3</th>\n",
       "      <td>Tied to charger for conversations lasting more...</td>\n",
       "      <td>0</td>\n",
       "    </tr>\n",
       "    <tr>\n",
       "      <th>4</th>\n",
       "      <td>The mic is great.</td>\n",
       "      <td>1</td>\n",
       "    </tr>\n",
       "  </tbody>\n",
       "</table>\n",
       "</div>"
      ],
      "text/plain": [
       "                                              review  sentiment\n",
       "0  So there is no way for me to plug it in here i...          0\n",
       "1                        Good case, Excellent value.          1\n",
       "2                             Great for the jawbone.          1\n",
       "3  Tied to charger for conversations lasting more...          0\n",
       "4                                  The mic is great.          1"
      ]
     },
     "execution_count": 103,
     "metadata": {},
     "output_type": "execute_result"
    }
   ],
   "source": [
    "amazon_raw = pd.read_csv('/Users/teresaoneill/Dropbox/Thinkful/Datasets/amazon_cells_labelled.txt', delimiter= '\\t', header=None, encoding='utf-8')\n",
    "amazon_raw.columns = ['review', 'sentiment']\n",
    "print(amazon_raw['sentiment'].value_counts())\n",
    "amazon_raw.head()"
   ]
  },
  {
   "cell_type": "code",
   "execution_count": 104,
   "metadata": {},
   "outputs": [
    {
     "name": "stdout",
     "output_type": "stream",
     "text": [
      "Number of mislabeled points out of a total 1000 points : 263\n",
      "[[348 152]\n",
      " [111 389]]\n",
      "22.2\n",
      "30.4\n",
      "             precision    recall  f1-score   support\n",
      "\n",
      "          0       0.76      0.70      0.73       500\n",
      "          1       0.72      0.78      0.75       500\n",
      "\n",
      "avg / total       0.74      0.74      0.74      1000\n",
      "\n"
     ]
    }
   ],
   "source": [
    "#Create a variable to store the Amazon target data.\n",
    "\n",
    "am_token = amazon_raw['review'].str.replace('[^a-zA-Z]', ' ')\n",
    "am_token = amazon_raw['review'].str.lower()\n",
    "target_am = amazon_raw['sentiment']\n",
    "\n",
    "#Transform using the CountVectorizer from the yelp data.\n",
    "X = vectorizer.transform(am_token)\n",
    "\n",
    "#Use the model from the yelp data to classify the Amazon data.\n",
    "y_pred_am = bnb.predict(X)\n",
    "\n",
    "#Read out the result.\n",
    "print(\"Number of mislabeled points out of a total {} points : {}\".format(\n",
    "    data.shape[0],\n",
    "    (target_am != y_pred_am).sum()\n",
    "))\n",
    "\n",
    "#Evaluate the result in a confusion matrix.\n",
    "confusion_am = confusion_matrix(target_am, y_pred_am)\n",
    "print(confusion_am)\n",
    "\n",
    "type1_error = confusion_am[1][0]/(confusion_am[1][0]+confusion_am[1][1])*100\n",
    "print(type1_error)\n",
    "\n",
    "type2_error = confusion_am[0][1]/(confusion_am[0][0]+confusion_am[0][1])*100\n",
    "print(type2_error)\n",
    "print (classification_report(target_am, y_pred_am))"
   ]
  },
  {
   "cell_type": "markdown",
   "metadata": {},
   "source": [
    "Although the model performed very well on its Yelp training data, when confronted with unseen data, its performance declines markedly. Its Type 1 error rate jumped to 22.2%% and the Type 2 error to 30.4%. This is not surprising: the frequency distributions of words in restaurant reviews are expected to be different from those in general product reviews on Amazon. \n",
    "\n",
    "To improve the predictive power of the model, we need to tune it, and cross-validate it using a test dataset. Let's go back to the Yelp dataset, and try again. \n",
    "\n",
    "For the purpose of the exercise, we'll focus on the Yelp dataset, which includes context-specific vocabulary that will affect the model's generalizability. If we wanted a classifier that could be deployed across a wider range of contexts, we would need to train and test it on reviews from diverse sources.\n",
    "\n",
    "### Iteration 3 ###\n",
    "\n",
    "Let's rerun the model, this time separating it into a training set and a test set. The test set will be 20% of the data (200 of the 1000 reviews)."
   ]
  },
  {
   "cell_type": "code",
   "execution_count": 105,
   "metadata": {},
   "outputs": [
    {
     "name": "stdout",
     "output_type": "stream",
     "text": [
      "             precision    recall  f1-score   support\n",
      "\n",
      "          0       0.76      0.66      0.71        97\n",
      "          1       0.72      0.81      0.76       103\n",
      "\n",
      "avg / total       0.74      0.73      0.73       200\n",
      "\n",
      "[[64 33]\n",
      " [20 83]]\n",
      "19.4174757282\n",
      "34.0206185567\n"
     ]
    }
   ],
   "source": [
    "#Split the data into test and training sets.\n",
    "\n",
    "X_train, X_test, y_train, y_test = train_test_split(\n",
    "yelp_token, target, test_size=0.2, random_state=0, shuffle=True)\n",
    "\n",
    "#Define a pipeline to vectorize, tranfsorm, and classify.\n",
    "pipeline = Pipeline([\n",
    "    ('vectorizer',  CountVectorizer(stop_words='english')),\n",
    "    ('tfidf', TfidfTransformer()),\n",
    "    ('classifier',  BernoulliNB()),\n",
    "    ])\n",
    "\n",
    "#Train and test the model.\n",
    "pipeline.fit(X_train, y_train)\n",
    "predictions = pipeline.predict(X_test)\n",
    "\n",
    "#Evaluate the results.\n",
    "confusion = confusion_matrix(y_test, predictions)\n",
    "\n",
    "print (classification_report(y_test, predictions))\n",
    "print(confusion)\n",
    "type1_error = confusion[1][0]/(confusion[1][0]+confusion[1][1])*100\n",
    "print(type1_error)\n",
    "\n",
    "type2_error = confusion[0][1]/(confusion[0][0]+confusion[0][1])*100\n",
    "print(type2_error)"
   ]
  },
  {
   "cell_type": "markdown",
   "metadata": {},
   "source": [
    "This initial cross-validation shows that the model's performance is not as good as Iteration 2 would have us believe. We need to take a look inside the model to find out why it is not performing well. \n",
    "\n",
    "### Iteration 4###\n",
    "\n",
    "Let's make our cross-validation more robust using 4 random folds, rather than an 80/20 train/test split, and we'll add a minimum doc frequency parameter to our Count Vectorizer to minimize overfitting due to noise, and a maximum doc frequency parameter to prevent stop words and high-frequency but low semantic load words from affecting the model's performance. "
   ]
  },
  {
   "cell_type": "code",
   "execution_count": 106,
   "metadata": {},
   "outputs": [
    {
     "name": "stdout",
     "output_type": "stream",
     "text": [
      "{'wow': 2011, 'loved': 1046, 'this': 1797, 'place': 1330, 'crust': 427, 'is': 943, 'not': 1195, 'good': 764, 'tasty': 1760, 'and': 64, 'the': 1779, 'texture': 1773, 'was': 1939, 'just': 967, 'nasty': 1169, 'stopped': 1698, 'by': 264, 'during': 557, 'late': 991, 'may': 1087, 'bank': 139, 'holiday': 867, 'off': 1208, 'rick': 1488, 'steve': 1690, 'recommendation': 1444, 'it': 945, 'selection': 1560, 'on': 1221, 'menu': 1110, 'great': 778, 'so': 1630, 'were': 1964, 'prices': 1374, 'now': 1198, 'am': 57, 'getting': 746, 'angry': 66, 'want': 1933, 'my': 1162, 'damn': 439, 'pho': 1316, 'honeslty': 870, 'didn': 484, 'taste': 1756, 'that': 1777, 'fresh': 713, 'potatoes': 1362, 'like': 1016, 'rubber': 1505, 'you': 2026, 'could': 396, 'tell': 1765, 'they': 1787, 'had': 805, 'been': 167, 'made': 1061, 'up': 1882, 'ahead': 44, 'of': 1207, 'time': 1808, 'being': 173, 'kept': 969, 'under': 1865, 'warmer': 1937, 'fries': 719, 'too': 1823, 'touch': 1832, 'service': 1573, 'very': 1910, 'prompt': 1386, 'would': 2008, 'go': 757, 'back': 130, 'cashier': 295, 'no': 1188, 'care': 286, 'what': 1966, 'ever': 606, 'to': 1813, 'say': 1538, 'still': 1692, 'ended': 586, 'wayyy': 1952, 'overpriced': 1257, 'tried': 1845, 'cape': 282, 'cod': 349, 'ravoli': 1426, 'chicken': 321, 'with': 1990, 'cranberry': 412, 'mmmm': 1133, 'disgusted': 508, 'because': 164, 'pretty': 1371, 'sure': 1737, 'human': 892, 'hair': 807, 'shocked': 1587, 'signs': 1605, 'indicate': 924, 'cash': 293, 'only': 1226, 'highly': 858, 'recommended': 1445, 'waitress': 1928, 'little': 1026, 'slow': 1620, 'in': 916, 'worth': 2007, 'your': 2027, 'let': 1006, 'alone': 53, 'vegas': 1898, 'did': 483, 'at': 105, 'all': 49, 'burrittos': 255, 'blah': 199, 'food': 697, 'amazing': 58, 'also': 54, 'cute': 437, 'less': 1005, 'interior': 939, 'beautiful': 161, 'performed': 1306, 'right': 1490, 'red': 1447, 'velvet': 1903, 'cake': 270, 'ohhh': 1213, 'stuff': 1710, 'never': 1180, 'brought': 240, 'salad': 1516, 'we': 1953, 'asked': 102, 'for': 700, 'hole': 866, 'wall': 1931, 'has': 825, 'mexican': 1115, 'street': 1703, 'tacos': 1746, 'friendly': 717, 'staff': 1673, 'took': 1824, 'an': 63, 'hour': 885, 'get': 744, 'our': 1243, 'tables': 1744, 'restaurant': 1472, 'luke': 1056, 'warm': 1936, 'sever': 1578, 'running': 1508, 'around': 94, 'he': 834, 'totally': 1830, 'overwhelmed': 1258, 'worst': 2006, 'salmon': 1518, 'sashimi': 1529, 'there': 1785, 'are': 89, 'combos': 357, 'burger': 252, 'beer': 168, '23': 10, 'which': 1973, 'decent': 448, 'deal': 446, 'final': 669, 'blow': 208, 'found': 706, 'accident': 28, 'be': 156, 'happier': 820, 'seems': 1558, 'quick': 1408, 'grab': 771, 'bite': 195, 'some': 1635, 'familiar': 641, 'pub': 1394, 'but': 261, 'do': 515, 'yourself': 2028, 'favor': 652, 'look': 1036, 'elsewhere': 580, 'overall': 1254, 'lot': 1042, 'redeeming': 1448, 'quality': 1406, 'inexpensive': 927, 'ample': 62, 'portions': 1357, 'poor': 1352, 'waiter': 1926, 'me': 1090, 'feel': 655, 'stupid': 1712, 'every': 607, 'came': 276, 'table': 1743, 'first': 677, 'visit': 1916, 'hiro': 862, 'delight': 466, 'sucks': 1723, 'shrimp': 1600, 'tender': 1768, 'moist': 1135, 'enough': 591, 'drag': 535, 'into': 940, 'establishment': 598, 'again': 42, 'hard': 822, 'judge': 963, 'whether': 1972, 'these': 1786, 'sides': 1603, 'grossed': 791, 'out': 1245, 'melted': 1107, 'styrofoam': 1714, 'eat': 562, 'fear': 654, 'sick': 1601, 'positive': 1358, 'note': 1196, 'server': 1570, 'attentive': 112, 'provided': 1391, 'frozen': 722, 'pucks': 1397, 'disgust': 507, 'people': 1301, 'behind': 172, 'register': 1455, 'thing': 1790, 'prime': 1377, 'rib': 1484, 'dessert': 479, 'section': 1555, 'bad': 132, 'generic': 741, 'beef': 166, 'cooked': 386, 'if': 904, 'sandwich': 1526, 'any': 70, 'firehouse': 676, 'side': 1602, 'greek': 781, 'dressing': 541, 'pita': 1327, 'hummus': 894, 'refreshing': 1452, 'ordered': 1235, 'duck': 553, 'rare': 1416, 'pink': 1325, 'inside': 932, 'nice': 1183, 'char': 305, 'outside': 1249, 'after': 40, 'us': 1886, 'when': 1969, 'realized': 1432, 'husband': 898, 'left': 1000, 'his': 863, 'sunglasses': 1734, 'their': 1781, 'chow': 331, 'mein': 1104, 'have': 830, 'horrible': 879, 'attitudes': 113, 'towards': 1835, 'customers': 434, 'talk': 1750, 'down': 531, 'each': 560, 'one': 1223, 'don': 520, 'enjoy': 588, 'portion': 1356, 'huge': 891, 'servers': 1571, 'wonderful': 1994, 'imaginative': 909, 'heart': 839, 'attack': 110, 'grill': 785, 'downtown': 534, 'absolutely': 26, 'flat': 681, 'lined': 1022, 'excuse': 616, 'much': 1153, 'seafood': 1546, 'strings': 1706, 'pasta': 1285, 'bottom': 221, 'amount': 61, 'sauce': 1534, 'over': 1253, 'power': 1365, 'scallop': 1541, 'perfectly': 1305, 'ripped': 1493, 'banana': 138, 'petrified': 1312, 'tasteless': 1758, 'least': 996, 'think': 1792, 'refill': 1450, 'water': 1947, 'before': 170, 'struggle': 1709, 'wave': 1949, '10': 1, 'minutes': 1126, 'receives': 1440, 'stars': 1677, 'appetizers': 86, 'cocktails': 347, 'handmade': 816, 'delicious': 464, 'definitely': 459, 'here': 851, 'glad': 752, 'give': 749, 'military': 1121, 'discount': 504, 'always': 56, 'dos': 525, 'gringos': 787, 'update': 1883, 'went': 1963, 'second': 1554, 'as': 100, 'got': 768, 'apparently': 82, 'heard': 838, 'salt': 1521, 'batter': 153, 'fish': 678, 'chewy': 320, 'way': 1950, 'finish': 674, 'included': 918, 'tastings': 1759, 'drinks': 546, 'jeff': 953, 'above': 24, 'beyond': 183, 'expected': 620, 'really': 1433, 'rice': 1486, 'meh': 1103, '30': 11, 'min': 1124, 'milkshake': 1123, 'nothing': 1197, 'more': 1143, 'than': 1775, 'chocolate': 328, 'milk': 1122, 'guess': 797, 'should': 1595, 'known': 979, 'suck': 1720, 'excalibur': 612, 'use': 1887, 'common': 361, 'sense': 1564, 'dish': 510, 'quite': 1411, 'appalling': 81, 'value': 1893, 'well': 1962, 'times': 1809, 'customer': 433, 'sweet': 1741, 'potato': 1361, 'seasoned': 1549, 'today': 1816, 've': 1895, 'lunch': 1058, 'buffet': 246, 'cheated': 311, 'wasting': 1944, 'eating': 564, 'opportunity': 1230, 'going': 760, 'company': 363, 'coming': 360, 'experiencing': 624, 'underwhelming': 1868, 'relationship': 1459, 'where': 1971, 'both': 219, 'parties': 1281, 'can': 278, 'wait': 1924, 'other': 1239, 'person': 1309, 'ask': 101, 'break': 231, 'walked': 1930, 'smelled': 1625, 'old': 1216, 'grease': 776, 'trap': 1841, 'others': 1240, 'turkey': 1857, 'roast': 1495, 'bland': 201, 'pan': 1270, 'cakes': 271, 'everyone': 608, 'raving': 1425, 'about': 23, 'sugary': 1726, 'disaster': 502, 'tailored': 1747, 'palate': 1267, 'six': 1615, 'year': 2020, 'love': 1045, 'spring': 1671, 'rolls': 1500, 'oh': 1212, 'yummy': 2032, 'try': 1852, 'meat': 1095, 'ratio': 1423, 'tenders': 1769, 'unsatisfying': 1877, 'omelets': 1219, 'die': 485, 'everything': 609, 'summary': 1730, 'largely': 986, 'disappointing': 499, 'dining': 490, 'experience': 622, 'sexy': 1581, 'party': 1282, 'mouth': 1147, 're': 1427, 'outrageously': 1247, 'flirting': 688, 'hottest': 884, 'rock': 1497, 'casino': 296, 'will': 1983, 'step': 1688, 'forward': 705, 'best': 180, 'breakfast': 232, 'bye': 265, 'tip': 1811, 'lady': 984, 'll': 1030, 'arrived': 96, 'quickly': 1409, 'cafe': 268, 'serves': 1572, 'fantastic': 646, 'wife': 1981, 'loves': 1050, 'roasted': 1496, 'garlic': 736, 'bone': 215, 'marrow': 1083, 'added': 38, 'extra': 628, 'meal': 1091, 'another': 68, 'helpful': 849, 'bloddy': 205, 'mary': 1085, 'town': 1836, 'price': 1372, 'cannot': 280, 'beat': 159, 'mussels': 1160, 'wine': 1984, 'reduction': 1449, 'dishes': 511, 'better': 181, 'buffets': 247, 'tigerlilly': 1807, 'afternoon': 41, 'bartender': 145, 'personable': 1310, 'ambience': 60, 'music': 1159, 'playing': 1340, 'next': 1182, 'trip': 1847, 'sooooo': 1645, 'real': 1431, 'sushi': 1740, 'lovers': 1049, 'honest': 871, 'yama': 2017, '40min': 15, 'passed': 1283, 'between': 182, 'ordering': 1236, 'arriving': 98, 'wasn': 1941, 'busy': 260, 'thai': 1774, 'spicy': 1665, 'check': 312, 'gross': 790, 'atmosphere': 107, 'kind': 976, 'mess': 1113, 'steak': 1684, 'although': 55, 'liked': 1017, 'sound': 1649, 'actual': 36, 'bit': 193, 'know': 978, 'how': 888, 'managed': 1074, 'served': 1569, 'blandest': 202, 'eaten': 563, 'preparing': 1369, 'indian': 923, 'cuisine': 431, 'boot': 217, 'worries': 2004, 'fine': 672, 'guys': 801, 'steaks': 1686, 'loving': 1051, 'son': 1641, 'who': 1976, 'places': 1332, 'said': 1515, 'thought': 1801, 'venture': 1905, 'further': 731, 'away': 120, 'hit': 864, 'spot': 1668, 'night': 1185, 'host': 881, 'lack': 980, 'word': 1996, 'bitches': 194, 'liking': 1019, 'number': 1200, 'reasons': 1437, 'waste': 1942, 'reviewing': 1479, 'leave': 998, 'phenomenal': 1314, 'ambiance': 59, 'wouldn': 2009, 'return': 1474, 'venturing': 1906, 'strip': 1707, 'pork': 1355, 'belly': 177, 'mediocre': 1099, 'penne': 1300, 'vodka': 1918, 'excellent': 614, 'including': 919, 'massive': 1086, 'meatloaf': 1097, 'crispy': 421, 'wrap': 2012, 'delish': 469, 'tuna': 1856, 'melt': 1106, 'burgers': 253, 'management': 1075, 'rude': 1506, 'nyc': 1203, 'bagels': 133, 'selections': 1561, 'cream': 416, 'cheese': 315, 'lox': 1053, 'capers': 283, 'even': 602, 'subway': 1717, 'fact': 634, 'come': 358, 'meet': 1102, 'expectations': 619, 'seriously': 1566, 'solid': 1633, 'bars': 144, 'extremely': 630, 'many': 1079, 'restaurants': 1473, 'dine': 489, 'weekend': 1958, 'drink': 544, 'empty': 584, 'suggestions': 1728, 'or': 1233, 'rarely': 1417, 'checked': 313, 'ate': 106, 'disappointed': 498, 'curry': 432, 'bamboo': 137, 'shoots': 1589, 'blanket': 203, 'moz': 1151, 'top': 1825, 'done': 521, 'cover': 405, 'subpar': 1716, 'bathrooms': 152, 'clean': 340, 'itself': 949, 'decorated': 453, 'changing': 304, 'considering': 377, 'pace': 1263, 'thumbs': 1805, 'watched': 1946, 'pay': 1292, 'attention': 111, 'ignore': 905, 'fiancé': 663, 'middle': 1118, 'day': 444, 'greeted': 784, 'seated': 1552, 'mandalay': 1077, 'bay': 154, 'waited': 1925, 'forty': 704, 'five': 679, 'vain': 1891, 'crostini': 422, 'stale': 1674, 'highlights': 857, 'nigiri': 1186, 'joint': 960, 'different': 487, 'cut': 436, 'piece': 1321, 'flavored': 683, 'voodoo': 1920, 'since': 1611, 'gluten': 756, 'free': 710, 'several': 1579, 'years': 2021, 'ago': 43, 'unfortunately': 1870, 'must': 1161, 'bakery': 134, 'leftover': 1001, 'relocated': 1463, 'impressed': 914, 'immediately': 912, 'diverse': 514, 'reasonably': 1436, 'priced': 1373, 'avoid': 118, 'cost': 393, 'full': 728, 'hands': 817, 'phoenix': 1317, 'metro': 1114, 'area': 90, 'looking': 1038, 'treated': 1843, 'bacon': 131, 'hella': 845, 'salty': 1522, 'spinach': 1666, 'avocado': 117, 'ingredients': 930, 'sad': 1511, 'literally': 1025, 'zero': 2033, 'used': 1888, 'menus': 1111, 'handed': 813, 'ladies': 983, 'listed': 1024, 'waitresses': 1929, 'lordy': 1040, 'khao': 971, 'soi': 1632, 'missed': 1129, 'terrific': 1772, 'thrilled': 1803, 'accommodations': 29, 'vegetarian': 1900, 'daughter': 443, 'perhaps': 1307, 'caught': 298, 'them': 1782, 'judging': 964, 'reviews': 1480, 'inspired': 933, 'leaves': 999, 'desired': 476, 'modern': 1134, 'hip': 861, 'while': 1974, 'maintaining': 1069, 'coziness': 409, 'weekly': 1959, 'haunt': 829, 'once': 1222, 'sat': 1530, '20': 8, 'asking': 103, 'take': 1748, 'order': 1234, 'flavor': 682, 'overcooked': 1255, 'charcoal': 306, 'decided': 450, 'send': 1563, 'looked': 1037, 'she': 1585, 'verge': 1908, 'having': 832, 'dressed': 540, 'rudely': 1507, 'probably': 1379, 'dirt': 494, 'hits': 865, 'something': 1639, 'healthy': 837, 'lacking': 982, 'quantity': 1407, 'lemon': 1004, 'raspberry': 1418, 'ice': 901, 'cocktail': 346, 'incredible': 921, 'sucked': 1721, 'imagined': 911, 'interesting': 938, 'decor': 452, 'crepe': 419, 'station': 1680, 'hot': 883, 'bread': 230, 'butter': 262, 'home': 868, 'chips': 327, 'bits': 197, 'original': 1238, 'watch': 1945, 'egg': 573, 'gyros': 803, 'missing': 1130, 'wings': 1986, 'feeling': 656, 'satisfied': 1532, 'joey': 958, 'voted': 1921, 'dog': 517, 'valley': 1892, 'readers': 1429, 'magazine': 1064, 'bowl': 224, 'live': 1027, 'fridays': 714, 'blows': 210, 'insulted': 936, 'felt': 661, 'disrespected': 513, 'drive': 548, 'things': 1791, 'exceeding': 613, 'hope': 875, 'dreamed': 538, 'serivce': 1567, 'help': 847, 'brunch': 242, 'inviting': 941, 'lived': 1028, '1979': 7, 'last': 989, 'stepped': 1689, 'foot': 699, 'mixed': 1132, 'mushrooms': 1158, 'yukon': 2030, 'gold': 761, 'puree': 1400, 'white': 1975, 'corn': 389, 'beateous': 160, 'bug': 248, 'showed': 1598, 'given': 750, 'climbing': 341, 'kitchen': 977, 'waiting': 1927, 'her': 850, 'soon': 1643, 'friend': 716, 'tartar': 1754, 'won': 1993, 'though': 1800, 'soggy': 1631, 'jamaican': 951, 'mojitos': 1136, 'small': 1621, 'rich': 1487, 'accordingly': 31, 'shower': 1599, 'rinse': 1492, 'unless': 1874, 'mind': 1125, 'nude': 1199, 'see': 1556, 'lobster': 1031, 'bisque': 192, 'bussell': 259, 'sprouts': 1672, 'risotto': 1494, 'filet': 665, 'needed': 1174, 'pepper': 1302, 'course': 402, 'none': 1192, 'hopefully': 876, 'bodes': 213, 'business': 257, 'someone': 1637, 'cook': 385, 'either': 576, 'cold': 351, 'wrapped': 2013, 'dates': 442, 'unbelievable': 1863, 'bargain': 143, 'folks': 695, 'otto': 1242, 'make': 1070, 'welcome': 1961, 'special': 1657, 'mains': 1068, 'uninspired': 1872, 'stop': 1697, 'whenever': 1970, 'isn': 944, 'then': 1784, 'dealing': 447, 'world': 2003, 'annoying': 67, 'drunk': 551, 'fun': 729, 'chef': 318, 'double': 526, 'cheeseburger': 316, 'single': 1612, 'patty': 1291, 'falling': 640, 'apart': 77, 'picture': 1319, 'uploaded': 1885, 'yeah': 2019, 'couple': 399, 'sporting': 1667, 'events': 605, 'walls': 1932, 'covered': 406, 'tv': 1859, 'possible': 1359, 'descriptions': 474, 'yum': 2031, 'eel': 569, 'yet': 2025, 'mayo': 1089, 'sauces': 1535, 'hardest': 823, 'decision': 451, 'honestly': 872, 'supposed': 1736, 'rolled': 1499, 'eyes': 632, 'stayed': 1682, 'providing': 1393, 'money': 1138, 'flavourful': 687, 'almost': 52, 'building': 249, 'freezing': 711, 'reviewer': 1478, 'couldn': 397, 'close': 342, 'point': 1348, 'flavorful': 684, 'delights': 468, 'ayce': 125, 'lighting': 1014, 'dark': 440, 'set': 1576, 'mood': 1141, 'based': 148, 'sub': 1715, 'par': 1276, 'received': 1439, 'effort': 572, 'show': 1597, 'gratitude': 774, 'owner': 1260, 'privileged': 1378, 'working': 2001, 'creamy': 417, 'parents': 1278, 'most': 1145, 'similar': 1607, 'complaints': 365, 'silently': 1606, 'pizza': 1328, 'peanut': 1295, 'fast': 649, 'godfathers': 759, 'tough': 1834, 'short': 1593, 'sticks': 1691, 'few': 662, 'recall': 1438, 'charged': 308, 'tap': 1752, 'exquisite': 626, 'generous': 742, 'plus': 1346, 'bucks': 245, 'thus': 1806, 'far': 647, 'visited': 1917, 'twice': 1860, 'self': 1562, 'proclaimed': 1381, 'coffee': 350, 'wildly': 1982, 'veggitarian': 1902, 'platter': 1338, 'cant': 281, 'wrong': 2015, 'madison': 1063, 'ironman': 942, 'chefs': 319, 'job': 957, 'from': 720, 'dedicated': 454, 'boba': 212, 'tea': 1762, 'spots': 1669, 'jenni': 954, 'patio': 1288, 'outstanding': 1250, 'goat': 758, 'taco': 1745, 'skimp': 1616, 'mac': 1059, 'bachi': 129, 'stinks': 1693, 'recommend': 1443, 'salads': 1517, 'burned': 254, 'saganaki': 1514, '100': 2, 'hate': 827, 'disagree': 496, 'fellow': 660, 'yelpers': 2024, 'hours': 886, 'pizzas': 1329, 'later': 992, 'why': 1978, 'neighborhood': 1178, 'convenient': 384, 'location': 1033, 'pulled': 1398, 'soooo': 1644, 'incredibly': 922, 'prepared': 1368, 'gave': 738, 'star': 1676, 'rating': 1422, 'please': 1342, 'third': 1795, 'writing': 2014, 'review': 1477, 'stay': 1681, 'stir': 1694, 'fried': 715, 'noodles': 1193, 'chip': 324, 'count': 398, 'box': 225, '12': 4, 'boring': 218, 'greedy': 780, 'corporation': 390, 'dime': 488, 'atrocious': 108, 'summer': 1731, 'charming': 309, 'outdoor': 1246, 'delightful': 467, 'expect': 618, 'toasted': 1815, 'english': 587, 'muffin': 1154, 'untoasted': 1879, 'high': 854, 'house': 887, 'bus': 256, 'boy': 227, 'hand': 812, 'friends': 718, 'basically': 149, 'figured': 664, 'joke': 961, 'making': 1071, 'publicly': 1396, 'loudly': 1044, 'bbq': 155, 'lighter': 1013, 'fare': 648, 'reasonable': 1435, 'pricing': 1376, 'public': 1395, 'ways': 1951, 'two': 1861, 'happy': 821, 'downside': 533, 'without': 1991, 'doubt': 527, 'exceptional': 615, 'months': 1140, 'returned': 1475, 'favorite': 653, 'shawarrrrrrma': 1584, 'black': 198, 'eyed': 631, 'peas': 1298, 'unreal': 1876, 'serve': 1568, 'vinaigrette': 1913, 'seen': 1559, 'especially': 597, '00': 0, 'mom': 1137, 'bites': 196, 'pleasant': 1341, 'honor': 873, 'hut': 899, 'coupons': 401, 'truly': 1851, 'unbelievably': 1864, 'pleased': 1343, 'dirty': 495, 'seat': 1551, 'covers': 407, 'replenished': 1467, 'plain': 1333, 'yucky': 2029, 'standard': 1675, '17': 6, 'omg': 1220, 'delicioso': 463, 'authentic': 115, 'spaghetti': 1656, 'whatsoever': 1967, 'vegetables': 1899, 'feels': 657, 'driving': 549, 'tucson': 1854, 'chipotle': 326, 'classy': 339, 'succulent': 1718, 'baseball': 147, 'brick': 235, 'oven': 1252, 'app': 80, 'multiple': 1156, 'ten': 1767, 'finally': 670, 'terrible': 1771, 'equally': 596, 'shouldn': 1596, 'pancakes': 1272, 'eggs': 575, 'genuinely': 743, 'enthusiastic': 593, 'treat': 1842, 'sadly': 1512, 'gordon': 767, 'ramsey': 1412, 'shall': 1582, 'sharply': 1583, 'evening': 603, 'life': 1011, 'bathroom': 151, 'door': 524, 'offered': 1209, 'tasted': 1757, 'cool': 388, 'turn': 1858, 'else': 579, 'buying': 263, 'handling': 815, 'large': 985, 'rowdy': 1504, 'find': 671, 'despicable': 477, 'soup': 1651, 'lukewarm': 1057, 'craving': 413, 'deserves': 475, 'stomach': 1695, 'ache': 33, 'rest': 1470, 'dropped': 550, 'ball': 136, 'space': 1655, 'tiny': 1810, 'elegantly': 577, 'comfortable': 359, 'customize': 435, 'usual': 1889, 'eggplant': 574, 'green': 782, 'bean': 157, 'fry': 725, 'beans': 158, 'outta': 1251, 'part': 1279, 'inconsiderate': 920, 'says': 1540, 'hi': 853, 'dinners': 492, 'outshining': 1248, 'halibut': 809, 'told': 1818, 'happened': 819, 'car': 284, 'breaks': 233, 'front': 721, 'starving': 1679, '90': 21, 'disgrace': 505, 'def': 457, 'ethic': 600, 'continue': 383, 'andddd': 65, 'date': 441, 'anyone': 72, 'past': 1284, 'stuffed': 1711, 'located': 1032, 'crystals': 429, 'shopping': 1591, 'mall': 1072, 'aria': 93, 'summarize': 1729, 'nay': 1170, 'transcendant': 1840, 'brings': 237, 'joy': 962, 'memory': 1108, 'pneumatic': 1347, 'condiment': 373, 'dispenser': 512, 'ians': 900, 'kids': 974, 'lots': 1043, 'options': 1232, 'kiddos': 973, 'perfect': 1303, 'family': 642, 'perfection': 1304, 'impeccable': 913, 'simply': 1610, 'disappointment': 500, 'bouchon': 222, 'accountant': 32, 'screwed': 1545, 'reminds': 1466, 'pop': 1354, 'shops': 1592, 'san': 1525, 'francisco': 708, 'buldogis': 250, 'gourmet': 770, 'frustrated': 724, 'petty': 1313, 'total': 1829, 'iced': 902, 'hungry': 896, 'assure': 104, 'trying': 1853, 'teeth': 1764, 'sore': 1646, 'completely': 367, 'enjoyed': 590, 'become': 165, 'regular': 1456, 'needs': 1176, 'professional': 1382, 'until': 1878, 'end': 585, 'dinner': 491, 'companions': 362, 'ground': 792, 'smeared': 1624, 'tracked': 1837, 'everywhere': 610, 'pile': 1322, 'bird': 189, 'poop': 1351, 'furthermore': 732, 'operation': 1228, 'website': 1955, 'mistake': 1131, 'expert': 625, 'connisseur': 374, 'topic': 1826, 'jerk': 955, 'strike': 1705, 'wants': 1935, 'rushed': 1509, 'nicest': 1184, 'owners': 1261, 'across': 35, 'biscuits': 191, 'appetizer': 85, '40': 14, 'absolutley': 27, 'awkward': 123, '5lb': 18, 'cow': 408, '4ths': 17, 'gristle': 788, 'fat': 650, 'steiners': 1687, 'bar': 140, 'dollars': 519, 'anyway': 75, 'fs': 726, 'week': 1957, 'mention': 1109, 'combination': 355, 'pears': 1297, 'almonds': 51, 'big': 184, 'winner': 1987, 'spicier': 1664, 'prefer': 1366, 'ribeye': 1485, 'mesquite': 1112, 'anytime': 74, 'gooodd': 766, 'connoisseur': 375, 'difference': 486, 'certainly': 301, 'contained': 381, 'driest': 543, 'mouthful': 1148, 'enjoyable': 589, 'relaxed': 1461, 'venue': 1907, 'couples': 400, 'groups': 794, 'etc': 599, 'nargile': 1168, 'tater': 1761, 'tots': 1831, 'southwest': 1654, 'paid': 1266, 'vanilla': 1894, 'smooth': 1628, 'profiterole': 1383, 'choux': 330, 'pastry': 1287, 'im': 907, 'az': 126, 'new': 1181, 'manager': 1076, 'carly': 288, 'due': 555, 'acknowledged': 34, '35': 13, 'forgetting': 702, 'margaritas': 1080, 'disappoint': 497, 'ventilation': 1904, 'upgrading': 1884, 'letdown': 1007, 'rather': 1421, 'camelback': 277, 'flower': 690, 'shop': 1590, 'cartel': 291, 'trimmed': 1846, 'group': 793, '70': 19, 'claimed': 335, 'handled': 814, 'beautifully': 162, 'bill': 187, 'bring': 236, 'jewel': 956, 'las': 988, 'exactly': 611, 'hoping': 878, 'nearly': 1171, 'living': 1029, 'limited': 1021, 'boiled': 214, 'crab': 410, 'legs': 1003, 'toro': 1828, 'tartare': 1755, 'cavier': 300, 'extraordinary': 629, 'thinly': 1794, 'sliced': 1618, 'wagyu': 1923, 'truffle': 1850, 'dont': 522, 'long': 1034, 'attached': 109, 'gas': 737, 'sign': 1604, 'awesome': 121, 'decide': 449, 'worse': 2005, 'humiliated': 893, 'worker': 1999, 'bunch': 251, 'name': 1166, 'callings': 275, 'conclusion': 372, 'filling': 668, 'meals': 1092, 'daily': 438, 'specials': 1658, 'tragedy': 1839, 'struck': 1708, 'pancake': 1271, 'crawfish': 414, 'monster': 1139, 'funny': 730, 'multi': 1155, 'grain': 772, 'pumpkin': 1399, 'pecan': 1299, 'fluffy': 691, 'airline': 45, 'noca': 1190, 'gyro': 802, 'lettuce': 1009, 'thoroughly': 1798, 'homemade': 869, 'pastas': 1286, 'thin': 1789, 'cheesecurds': 317, 'typical': 1862, 'glance': 753, 'lovely': 1047, 'finger': 673, 'item': 947, 'such': 1719, 'beauty': 163, 'haven': 831, 'gone': 763, 'greasy': 777, 'unhealthy': 1871, 'might': 1119, 'those': 1799, 'similarly': 1608, 'delivery': 471, 'man': 1073, 'apology': 79, '45': 16, 'expensive': 621, 'need': 1173, 'pack': 1264, 'tiramisu': 1812, 'cannoli': 279, 'sun': 1732, 'whole': 1977, 'meats': 1098, 'choose': 329, 'experienced': 623, 'frenchman': 712, 'desserts': 480, 'martini': 1084, 'opinion': 1229, 'entrees': 595, 'gc': 739, 'sample': 1524, 'thirty': 1796, 'vacant': 1890, 'yellowtail': 2023, 'carpaccio': 289, 'strangers': 1701, 'actually': 37, 'hello': 846, 'strange': 1700, 'boyfriend': 228, 'recent': 1441, 'donut': 523, 'saving': 1537, 'room': 1501, 'maybe': 1088, 'disgraceful': 506, 'however': 889, 'particular': 1280, 'suffers': 1724, 'tapas': 1753, 'vinegrette': 1914, 'baby': 128, 'greens': 783, 'hearts': 840, 'palm': 1269, 'disgusting': 509, 'believe': 174, 'hankering': 818, 'forth': 703, 'helped': 848, 'consider': 376, 'theft': 1780, 'eew': 570, 'complete': 366, 'overhaul': 1256, 'recently': 1442, 'witnessed': 1992, 'guests': 799, 'regularly': 1457, 'super': 1735, 'swung': 1742, 'deeply': 456, 'efficient': 571, 'fan': 644, 'sucker': 1722, 'dry': 552, 'rated': 1420, '15': 5, 'setting': 1577, 'cheap': 310, 'olives': 1218, 'perpared': 1308, 'presentation': 1370, 'giant': 747, 'slices': 1619, 'toast': 1814, 'lightly': 1015, 'dusted': 558, 'powdered': 1364, 'sugar': 1725, 'play': 1339, 'fo': 693, 'accomodate': 30, 'vegan': 1897, 'veggie': 1901, 'crumby': 426, 'pale': 1268, 'color': 354, 'instead': 935, 'croutons': 423, 'trips': 1849, 'crema': 418, 'café': 269, 'expanded': 617, 'miss': 1128, 'wish': 1989, 'philadelphia': 1315, 'sitting': 1614, 'fairly': 638, 'crisp': 420, 'satisfying': 1533, 'wanted': 1934, 'north': 1194, 'scottsdale': 1543, 'quit': 1410, 'freaking': 709, 'papers': 1275, 'reheated': 1458, 'ok': 1215, 'wedges': 1956, 'sorry': 1648, 'absolute': 25, 'tongue': 1821, 'cheek': 314, 'bloody': 207, 'despite': 478, 'rate': 1419, 'businesses': 258, 'its': 948, 'grilled': 786, 'yellow': 2022, 'saffron': 1513, 'seasoning': 1550, 'thru': 1804, 'means': 1094, 'half': 808, 'somehow': 1636, 'luck': 1055, 'non': 1191, 'focused': 694, 'grandmother': 773, 'list': 1023, 'ignored': 906, 'hostess': 882, 'myself': 1163, 'boys': 229, 'four': 707, 'guy': 800, 'blue': 211, 'shirt': 1586, 'vibe': 1912, 'letting': 1008, 'same': 1523, 'him': 860, 'drastically': 536, 'caesar': 267, 'promptly': 1387, 'madhouse': 1062, 'proven': 1390, 'dead': 445, 'greatest': 779, 'moods': 1142, 'macarons': 1060, 'insanely': 931, 'informative': 929, 'weren': 1965, 'somewhat': 1640, 'edible': 566, 'promise': 1385, 'fails': 636, 'deliver': 470, 'average': 116, 'plater': 1337, 'relax': 1460, 'sit': 1613, 'together': 1817, 'poorly': 1353, 'constructed': 379, 'seating': 1553, 'italian': 946, 'screams': 1544, 'legit': 1002, 'book': 216, 'somethat': 1638, 'duo': 556, 'violinists': 1915, 'songs': 1642, 'requested': 1468, 'personally': 1311, 'baklava': 135, 'falafels': 639, 'baba': 127, 'ganoush': 734, 'staying': 1683, 'mgm': 1116, 'courteous': 404, 'eclectic': 565, 'onion': 1225, 'rings': 1491, 'pictures': 1320, 'work': 1998, 'nobu': 1189, 'google': 765, 'imagine': 910, 'smashburger': 1623, 'lover': 1048, 'gem': 740, 'plantains': 1334, 'giving': 751, 'spends': 1661, 'talking': 1751, 'themselves': 1783, 'panna': 1273, 'cotta': 395, 'fail': 635, 'flavors': 686, 'slaw': 1617, 'drenched': 539, 'piano': 1318, 'soundtrack': 1650, 'rge': 1482, 'fillet': 667, 'relleno': 1462, 'plate': 1336, 'sergeant': 1565, 'auju': 114, 'hawaiian': 833, 'breeze': 234, 'mango': 1078, 'magic': 1065, 'pineapple': 1324, 'smoothies': 1629, 'mortified': 1144, 'needless': 1175, 'anyways': 76, 'dripping': 547, 'mostly': 1146, '2007': 9, 'serving': 1575, 'hospitality': 880, 'industry': 926, 'paradise': 1277, 'refrained': 1451, 'recommending': 1446, 'cibo': 333, 'longer': 1035, 'orders': 1237, 'mean': 1093, 'famous': 643, 'mouths': 1149, 'bellies': 176, 'reading': 1430, 'reminded': 1465, 'pros': 1389, 'simple': 1609, 'dough': 529, 'tonight': 1822, 'elk': 578, 'hooked': 874, 'classics': 338, 'sorely': 1647, 'quaint': 1404, 'deliciously': 465, 'compliments': 368, 'thanks': 1776, 'dylan': 559, 'tummy': 1855, 'gratuity': 775, 'larger': 987, 'fly': 692, 'apple': 87, 'juice': 965, 'han': 811, 'nan': 1167, 'barely': 142, 'ryan': 1510, 'edinburgh': 567, 'revisiting': 1481, 'chinese': 323, 'naan': 1164, 'pine': 1323, 'nut': 1201, 'touched': 1833, 'airport': 46, 'speedy': 1659, 'calligraphy': 274, 'paper': 1274, 'anything': 73, 'complain': 364, 'stood': 1696, 'begin': 171, 'awkwardly': 124, 'opened': 1227, 'guest': 798, 'extensive': 627, 'provides': 1392, 'wide': 1979, 'array': 95, 'inflate': 928, 'smaller': 1622, 'grow': 795, 'rapidly': 1415, 'lil': 1020, 'fuzzy': 733, 'fabulous': 633, 'wontons': 1995, 'thick': 1788, 'level': 1010, 'spice': 1662, 'whelm': 1968, 'main': 1066, 'crowd': 424, 'older': 1217, 'mid': 1117, '30s': 12, 'arepas': 92, 'jalapeno': 950, 'thats': 1778, 'shoe': 1588, 'leather': 997, 'definately': 458, 'block': 204, 'low': 1052, 'key': 970, 'fancy': 645, 'affordable': 39, 'sour': 1653, 'soups': 1652, 'sunday': 1733, 'traditional': 1838, 'hunan': 895, 'style': 1713, 'bother': 220, 'flair': 680, 'bartenders': 146, 'nutshell': 1202, 'restaraunt': 1471, 'smells': 1626, 'market': 1082, 'sewer': 1580, 'girlfriend': 748, 'veal': 1896, 'satifying': 1531, 'join': 959, 'club': 344, 'offers': 1210, 'via': 1911, 'email': 581, 'likes': 1018, 'case': 292, 'colder': 352, 'flavorless': 685, 'describing': 473, 'tepid': 1770, 'chains': 303, 'easily': 561, 'nachos': 1165, 'words': 1997, 'does': 516, 'crazy': 415, 'crowds': 425, 'juries': 966, 'lawyers': 995, 'court': 403, 'arrives': 97, 'paying': 1293, '85': 20, 'looks': 1039, 'kid': 972, 'wienerschnitzel': 1980, 'idea': 903, 'classic': 337, 'maine': 1067, 'roll': 1498, 'brother': 239, 'law': 994, 'works': 2002, 'hereas': 852, 'tribute': 1844, 'event': 604, 'held': 843, 'salsa': 1520, 'pissd': 1326, 'surprise': 1738, 'golden': 762, 'hopes': 877, 'fell': 658, 'bruschetta': 243, 'devine': 482, 'employee': 582, 'lastly': 990, 'mozzarella': 1152, 'negligent': 1177, 'unwelcome': 1880, 'suggest': 1727, 'consistent': 378, 'packed': 1265, 'seasonal': 1548, 'fruit': 723, 'peach': 1294, 'officially': 1211, 'blown': 209, 'put': 1402, 'plastic': 1335, 'containers': 382, 'opposed': 1231, 'cramming': 411, 'takeout': 1749, 'boxes': 226, 'crêpe': 430, 'delicate': 462, 'awful': 122, 'fair': 637, 'kabuki': 968, 'services': 1574, 'maria': 1081, 'surprised': 1739, 'article': 99, 'read': 1428, 'spices': 1663, 'fucking': 727, 'caballero': 266, 'head': 835, 'oysters': 1262, 'round': 1503, 'disbelief': 503, 'qualified': 1405, 'version': 1909, 'foods': 698, 'tolerance': 1819, 'polite': 1350, 'wash': 1940, 'otherwise': 1241, 'biscuit': 190, 'heat': 841, 'hated': 828, 'coconut': 348, 'fella': 659, 'huevos': 890, 'rancheros': 1414, 'appealing': 83, 'wines': 1985, 'pricey': 1375, 'temp': 1766, 'prepare': 1367, 'bare': 141, 'gloves': 755, 'deep': 455, 'oil': 1214, 'pleasure': 1344, 'plethora': 1345, 'sandwiches': 1527, 'gets': 745, 'seal': 1547, 'approval': 88, 'light': 1012, 'college': 353, 'cooking': 387, 'class': 336, 'started': 1678, 'editing': 568, 'besides': 179, 'costco': 394, 'highlighted': 856, 'unique': 1873, 'weird': 1960, 'hardly': 824, 'grocery': 789, 'store': 1699, 'japanese': 952, 'dude': 554, 'aren': 91, 'doughy': 530, 'inch': 917, 'wire': 1988, 'ourselves': 1244, 'albondigas': 48, 'tomato': 1820, 'meatballs': 1096, 'three': 1802, 'occasions': 1206, 'medium': 1101, 'bloodiest': 206, 'refused': 1454, 'anymore': 71, 'killer': 975, 'chai': 302, 'latte': 993, 'allergy': 50, 'warnings': 1938, 'clue': 345, 'contain': 380, 'peanuts': 1296, 'mediterranean': 1100, 'rotating': 1502, 'beers': 169, 'highlight': 855, 'concern': 371, 'mellow': 1105, 'mushroom': 1157, 'strawberry': 1702, 'unprofessional': 1875, 'loyal': 1054, 'patron': 1289, 'spend': 1660, 'occasional': 1205, 'pats': 1290, 'bellagio': 175, 'anticipated': 69, 'weak': 1954, 'correct': 391, 'bought': 223, 'sals': 1519, 'returning': 1476, 'fav': 651, 'unexperienced': 1869, 'employees': 583, 'chickens': 322, 'heads': 836, 'call': 273, 'steakhouse': 1685, 'properly': 1388, 'understand': 1867, 'concept': 370, 'guacamole': 796, 'puréed': 1401, 'postinos': 1360, 'poisoning': 1349, 'batch': 150, 'thinking': 1793, 'yay': 2018, 'hilarious': 859, 'christmas': 332, 'eve': 601, 'remember': 1464, 'biggest': 186, 'entire': 594, 'caring': 287, 'teamwork': 1763, 'degree': 460, 'ri': 1483, 'calamari': 272, 'fondue': 696, 'lost': 1041, 'forever': 701, 'ones': 1224, 'scene': 1542, 'denny': 472, 'downright': 532, 'waaaaaayyyyyyyyyy': 1922, 'saying': 1539, 'lacked': 981, 'sangria': 1528, 'glass': 754, 'ridiculous': 1489, 'brisket': 238, 'neat': 1172, 'trippy': 1848, 'hurry': 897, 'reservation': 1469, 'stretch': 1704, 'imagination': 908, 'cashew': 294, 'undercooked': 1866, 'chipolte': 325, 'ranch': 1413, 'dipping': 493, 'sause': 1536, 'seemed': 1557, 'watered': 1948, 'workers': 2000, 'douchey': 528, 'indoor': 925, 'garden': 735, 'con': 369, 'spotty': 1670, 'neither': 1179, 'ensued': 592, 'apologize': 78, 'reason': 1434, 'fill': 666, 'binge': 188, 'drinking': 545, 'carbs': 285, 'insults': 937, 'profound': 1384, 'deuchebaggery': 481, 'smoke': 1627, 'solidify': 1634, 'combo': 356, 'ala': 47, 'cart': 290, 'blame': 200, 'placed': 1331, 'rave': 1424, 'del': 461, 'avoided': 119, 'hamburger': 810, 'hell': 844, 'gotten': 769, 'ya': 2016, 'doing': 518, 'shots': 1594, 'fireball': 675, 'disapppointment': 501, 'correction': 392, 'heimer': 842, 'putting': 1403, 'cause': 299, 'owned': 1259, 'vomited': 1919, 'circumstances': 334, 'tops': 1827, 'brownish': 241, 'obviously': 1204, 'below': 178, 'movies': 1150, 'ha': 804, 'flop': 689, 'problem': 1380, 'charge': 307, '11': 3, '99': 22, 'bigger': 185, 'unwrapped': 1881, 'mile': 1120, 'brushfire': 244, 'impressive': 915, 'hasn': 826, 'closed': 343, 'mirage': 1127, 'refried': 1453, 'dried': 542, 'crusty': 428, 'caterpillar': 297, 'appetite': 84, 'instantly': 934, 'ninja': 1187, 'hadn': 806, 'wasted': 1943, 'poured': 1363, 'wound': 2010, 'drawing': 537}\n",
      "             precision    recall  f1-score   support\n",
      "\n",
      "          0       0.79      0.82      0.81       135\n",
      "          1       0.78      0.75      0.76       115\n",
      "\n",
      "avg / total       0.79      0.79      0.79       250\n",
      "\n"
     ]
    },
    {
     "name": "stdout",
     "output_type": "stream",
     "text": [
      "[[111  24]\n",
      " [ 29  86]]\n",
      "25.2173913043\n",
      "17.7777777778\n",
      "{'wow': 2011, 'loved': 1046, 'this': 1797, 'place': 1330, 'crust': 427, 'is': 943, 'not': 1195, 'good': 764, 'tasty': 1760, 'and': 64, 'the': 1779, 'texture': 1773, 'was': 1939, 'just': 967, 'nasty': 1169, 'stopped': 1698, 'by': 264, 'during': 557, 'late': 991, 'may': 1087, 'bank': 139, 'holiday': 867, 'off': 1208, 'rick': 1488, 'steve': 1690, 'recommendation': 1444, 'it': 945, 'selection': 1560, 'on': 1221, 'menu': 1110, 'great': 778, 'so': 1630, 'were': 1964, 'prices': 1374, 'now': 1198, 'am': 57, 'getting': 746, 'angry': 66, 'want': 1933, 'my': 1162, 'damn': 439, 'pho': 1316, 'honeslty': 870, 'didn': 484, 'taste': 1756, 'that': 1777, 'fresh': 713, 'potatoes': 1362, 'like': 1016, 'rubber': 1505, 'you': 2026, 'could': 396, 'tell': 1765, 'they': 1787, 'had': 805, 'been': 167, 'made': 1061, 'up': 1882, 'ahead': 44, 'of': 1207, 'time': 1808, 'being': 173, 'kept': 969, 'under': 1865, 'warmer': 1937, 'fries': 719, 'too': 1823, 'touch': 1832, 'service': 1573, 'very': 1910, 'prompt': 1386, 'would': 2008, 'go': 757, 'back': 130, 'cashier': 295, 'no': 1188, 'care': 286, 'what': 1966, 'ever': 606, 'to': 1813, 'say': 1538, 'still': 1692, 'ended': 586, 'wayyy': 1952, 'overpriced': 1257, 'tried': 1845, 'cape': 282, 'cod': 349, 'ravoli': 1426, 'chicken': 321, 'with': 1990, 'cranberry': 412, 'mmmm': 1133, 'disgusted': 508, 'because': 164, 'pretty': 1371, 'sure': 1737, 'human': 892, 'hair': 807, 'shocked': 1587, 'signs': 1605, 'indicate': 924, 'cash': 293, 'only': 1226, 'highly': 858, 'recommended': 1445, 'waitress': 1928, 'little': 1026, 'slow': 1620, 'in': 916, 'worth': 2007, 'your': 2027, 'let': 1006, 'alone': 53, 'vegas': 1898, 'did': 483, 'at': 105, 'all': 49, 'burrittos': 255, 'blah': 199, 'food': 697, 'amazing': 58, 'also': 54, 'cute': 437, 'less': 1005, 'interior': 939, 'beautiful': 161, 'performed': 1306, 'right': 1490, 'red': 1447, 'velvet': 1903, 'cake': 270, 'ohhh': 1213, 'stuff': 1710, 'never': 1180, 'brought': 240, 'salad': 1516, 'we': 1953, 'asked': 102, 'for': 700, 'hole': 866, 'wall': 1931, 'has': 825, 'mexican': 1115, 'street': 1703, 'tacos': 1746, 'friendly': 717, 'staff': 1673, 'took': 1824, 'an': 63, 'hour': 885, 'get': 744, 'our': 1243, 'tables': 1744, 'restaurant': 1472, 'luke': 1056, 'warm': 1936, 'sever': 1578, 'running': 1508, 'around': 94, 'he': 834, 'totally': 1830, 'overwhelmed': 1258, 'worst': 2006, 'salmon': 1518, 'sashimi': 1529, 'there': 1785, 'are': 89, 'combos': 357, 'burger': 252, 'beer': 168, '23': 10, 'which': 1973, 'decent': 448, 'deal': 446, 'final': 669, 'blow': 208, 'found': 706, 'accident': 28, 'be': 156, 'happier': 820, 'seems': 1558, 'quick': 1408, 'grab': 771, 'bite': 195, 'some': 1635, 'familiar': 641, 'pub': 1394, 'but': 261, 'do': 515, 'yourself': 2028, 'favor': 652, 'look': 1036, 'elsewhere': 580, 'overall': 1254, 'lot': 1042, 'redeeming': 1448, 'quality': 1406, 'inexpensive': 927, 'ample': 62, 'portions': 1357, 'poor': 1352, 'waiter': 1926, 'me': 1090, 'feel': 655, 'stupid': 1712, 'every': 607, 'came': 276, 'table': 1743, 'first': 677, 'visit': 1916, 'hiro': 862, 'delight': 466, 'sucks': 1723, 'shrimp': 1600, 'tender': 1768, 'moist': 1135, 'enough': 591, 'drag': 535, 'into': 940, 'establishment': 598, 'again': 42, 'hard': 822, 'judge': 963, 'whether': 1972, 'these': 1786, 'sides': 1603, 'grossed': 791, 'out': 1245, 'melted': 1107, 'styrofoam': 1714, 'eat': 562, 'fear': 654, 'sick': 1601, 'positive': 1358, 'note': 1196, 'server': 1570, 'attentive': 112, 'provided': 1391, 'frozen': 722, 'pucks': 1397, 'disgust': 507, 'people': 1301, 'behind': 172, 'register': 1455, 'thing': 1790, 'prime': 1377, 'rib': 1484, 'dessert': 479, 'section': 1555, 'bad': 132, 'generic': 741, 'beef': 166, 'cooked': 386, 'if': 904, 'sandwich': 1526, 'any': 70, 'firehouse': 676, 'side': 1602, 'greek': 781, 'dressing': 541, 'pita': 1327, 'hummus': 894, 'refreshing': 1452, 'ordered': 1235, 'duck': 553, 'rare': 1416, 'pink': 1325, 'inside': 932, 'nice': 1183, 'char': 305, 'outside': 1249, 'after': 40, 'us': 1886, 'when': 1969, 'realized': 1432, 'husband': 898, 'left': 1000, 'his': 863, 'sunglasses': 1734, 'their': 1781, 'chow': 331, 'mein': 1104, 'have': 830, 'horrible': 879, 'attitudes': 113, 'towards': 1835, 'customers': 434, 'talk': 1750, 'down': 531, 'each': 560, 'one': 1223, 'don': 520, 'enjoy': 588, 'portion': 1356, 'huge': 891, 'servers': 1571, 'wonderful': 1994, 'imaginative': 909, 'heart': 839, 'attack': 110, 'grill': 785, 'downtown': 534, 'absolutely': 26, 'flat': 681, 'lined': 1022, 'excuse': 616, 'much': 1153, 'seafood': 1546, 'strings': 1706, 'pasta': 1285, 'bottom': 221, 'amount': 61, 'sauce': 1534, 'over': 1253, 'power': 1365, 'scallop': 1541, 'perfectly': 1305, 'ripped': 1493, 'banana': 138, 'petrified': 1312, 'tasteless': 1758, 'least': 996, 'think': 1792, 'refill': 1450, 'water': 1947, 'before': 170, 'struggle': 1709, 'wave': 1949, '10': 1, 'minutes': 1126, 'receives': 1440, 'stars': 1677, 'appetizers': 86, 'cocktails': 347, 'handmade': 816, 'delicious': 464, 'definitely': 459, 'here': 851, 'glad': 752, 'give': 749, 'military': 1121, 'discount': 504, 'always': 56, 'dos': 525, 'gringos': 787, 'update': 1883, 'went': 1963, 'second': 1554, 'as': 100, 'got': 768, 'apparently': 82, 'heard': 838, 'salt': 1521, 'batter': 153, 'fish': 678, 'chewy': 320, 'way': 1950, 'finish': 674, 'included': 918, 'tastings': 1759, 'drinks': 546, 'jeff': 953, 'above': 24, 'beyond': 183, 'expected': 620, 'really': 1433, 'rice': 1486, 'meh': 1103, '30': 11, 'min': 1124, 'milkshake': 1123, 'nothing': 1197, 'more': 1143, 'than': 1775, 'chocolate': 328, 'milk': 1122, 'guess': 797, 'should': 1595, 'known': 979, 'suck': 1720, 'excalibur': 612, 'use': 1887, 'common': 361, 'sense': 1564, 'dish': 510, 'quite': 1411, 'appalling': 81, 'value': 1893, 'well': 1962, 'times': 1809, 'customer': 433, 'sweet': 1741, 'potato': 1361, 'seasoned': 1549, 'today': 1816, 've': 1895, 'lunch': 1058, 'buffet': 246, 'cheated': 311, 'wasting': 1944, 'eating': 564, 'opportunity': 1230, 'going': 760, 'company': 363, 'coming': 360, 'experiencing': 624, 'underwhelming': 1868, 'relationship': 1459, 'where': 1971, 'both': 219, 'parties': 1281, 'can': 278, 'wait': 1924, 'other': 1239, 'person': 1309, 'ask': 101, 'break': 231, 'walked': 1930, 'smelled': 1625, 'old': 1216, 'grease': 776, 'trap': 1841, 'others': 1240, 'turkey': 1857, 'roast': 1495, 'bland': 201, 'pan': 1270, 'cakes': 271, 'everyone': 608, 'raving': 1425, 'about': 23, 'sugary': 1726, 'disaster': 502, 'tailored': 1747, 'palate': 1267, 'six': 1615, 'year': 2020, 'love': 1045, 'spring': 1671, 'rolls': 1500, 'oh': 1212, 'yummy': 2032, 'try': 1852, 'meat': 1095, 'ratio': 1423, 'tenders': 1769, 'unsatisfying': 1877, 'omelets': 1219, 'die': 485, 'everything': 609, 'summary': 1730, 'largely': 986, 'disappointing': 499, 'dining': 490, 'experience': 622, 'sexy': 1581, 'party': 1282, 'mouth': 1147, 're': 1427, 'outrageously': 1247, 'flirting': 688, 'hottest': 884, 'rock': 1497, 'casino': 296, 'will': 1983, 'step': 1688, 'forward': 705, 'best': 180, 'breakfast': 232, 'bye': 265, 'tip': 1811, 'lady': 984, 'll': 1030, 'arrived': 96, 'quickly': 1409, 'cafe': 268, 'serves': 1572, 'fantastic': 646, 'wife': 1981, 'loves': 1050, 'roasted': 1496, 'garlic': 736, 'bone': 215, 'marrow': 1083, 'added': 38, 'extra': 628, 'meal': 1091, 'another': 68, 'helpful': 849, 'bloddy': 205, 'mary': 1085, 'town': 1836, 'price': 1372, 'cannot': 280, 'beat': 159, 'mussels': 1160, 'wine': 1984, 'reduction': 1449, 'dishes': 511, 'better': 181, 'buffets': 247, 'tigerlilly': 1807, 'afternoon': 41, 'bartender': 145, 'personable': 1310, 'ambience': 60, 'music': 1159, 'playing': 1340, 'next': 1182, 'trip': 1847, 'sooooo': 1645, 'real': 1431, 'sushi': 1740, 'lovers': 1049, 'honest': 871, 'yama': 2017, '40min': 15, 'passed': 1283, 'between': 182, 'ordering': 1236, 'arriving': 98, 'wasn': 1941, 'busy': 260, 'thai': 1774, 'spicy': 1665, 'check': 312, 'gross': 790, 'atmosphere': 107, 'kind': 976, 'mess': 1113, 'steak': 1684, 'although': 55, 'liked': 1017, 'sound': 1649, 'actual': 36, 'bit': 193, 'know': 978, 'how': 888, 'managed': 1074, 'served': 1569, 'blandest': 202, 'eaten': 563, 'preparing': 1369, 'indian': 923, 'cuisine': 431, 'boot': 217, 'worries': 2004, 'fine': 672, 'guys': 801, 'steaks': 1686, 'loving': 1051, 'son': 1641, 'who': 1976, 'places': 1332, 'said': 1515, 'thought': 1801, 'venture': 1905, 'further': 731, 'away': 120, 'hit': 864, 'spot': 1668, 'night': 1185, 'host': 881, 'lack': 980, 'word': 1996, 'bitches': 194, 'liking': 1019, 'number': 1200, 'reasons': 1437, 'waste': 1942, 'reviewing': 1479, 'leave': 998, 'phenomenal': 1314, 'ambiance': 59, 'wouldn': 2009, 'return': 1474, 'venturing': 1906, 'strip': 1707, 'pork': 1355, 'belly': 177, 'mediocre': 1099, 'penne': 1300, 'vodka': 1918, 'excellent': 614, 'including': 919, 'massive': 1086, 'meatloaf': 1097, 'crispy': 421, 'wrap': 2012, 'delish': 469, 'tuna': 1856, 'melt': 1106, 'burgers': 253, 'management': 1075, 'rude': 1506, 'nyc': 1203, 'bagels': 133, 'selections': 1561, 'cream': 416, 'cheese': 315, 'lox': 1053, 'capers': 283, 'even': 602, 'subway': 1717, 'fact': 634, 'come': 358, 'meet': 1102, 'expectations': 619, 'seriously': 1566, 'solid': 1633, 'bars': 144, 'extremely': 630, 'many': 1079, 'restaurants': 1473, 'dine': 489, 'weekend': 1958, 'drink': 544, 'empty': 584, 'suggestions': 1728, 'or': 1233, 'rarely': 1417, 'checked': 313, 'ate': 106, 'disappointed': 498, 'curry': 432, 'bamboo': 137, 'shoots': 1589, 'blanket': 203, 'moz': 1151, 'top': 1825, 'done': 521, 'cover': 405, 'subpar': 1716, 'bathrooms': 152, 'clean': 340, 'itself': 949, 'decorated': 453, 'changing': 304, 'considering': 377, 'pace': 1263, 'thumbs': 1805, 'watched': 1946, 'pay': 1292, 'attention': 111, 'ignore': 905, 'fiancé': 663, 'middle': 1118, 'day': 444, 'greeted': 784, 'seated': 1552, 'mandalay': 1077, 'bay': 154, 'waited': 1925, 'forty': 704, 'five': 679, 'vain': 1891, 'crostini': 422, 'stale': 1674, 'highlights': 857, 'nigiri': 1186, 'joint': 960, 'different': 487, 'cut': 436, 'piece': 1321, 'flavored': 683, 'voodoo': 1920, 'since': 1611, 'gluten': 756, 'free': 710, 'several': 1579, 'years': 2021, 'ago': 43, 'unfortunately': 1870, 'must': 1161, 'bakery': 134, 'leftover': 1001, 'relocated': 1463, 'impressed': 914, 'immediately': 912, 'diverse': 514, 'reasonably': 1436, 'priced': 1373, 'avoid': 118, 'cost': 393, 'full': 728, 'hands': 817, 'phoenix': 1317, 'metro': 1114, 'area': 90, 'looking': 1038, 'treated': 1843, 'bacon': 131, 'hella': 845, 'salty': 1522, 'spinach': 1666, 'avocado': 117, 'ingredients': 930, 'sad': 1511, 'literally': 1025, 'zero': 2033, 'used': 1888, 'menus': 1111, 'handed': 813, 'ladies': 983, 'listed': 1024, 'waitresses': 1929, 'lordy': 1040, 'khao': 971, 'soi': 1632, 'missed': 1129, 'terrific': 1772, 'thrilled': 1803, 'accommodations': 29, 'vegetarian': 1900, 'daughter': 443, 'perhaps': 1307, 'caught': 298, 'them': 1782, 'judging': 964, 'reviews': 1480, 'inspired': 933, 'leaves': 999, 'desired': 476, 'modern': 1134, 'hip': 861, 'while': 1974, 'maintaining': 1069, 'coziness': 409, 'weekly': 1959, 'haunt': 829, 'once': 1222, 'sat': 1530, '20': 8, 'asking': 103, 'take': 1748, 'order': 1234, 'flavor': 682, 'overcooked': 1255, 'charcoal': 306, 'decided': 450, 'send': 1563, 'looked': 1037, 'she': 1585, 'verge': 1908, 'having': 832, 'dressed': 540, 'rudely': 1507, 'probably': 1379, 'dirt': 494, 'hits': 865, 'something': 1639, 'healthy': 837, 'lacking': 982, 'quantity': 1407, 'lemon': 1004, 'raspberry': 1418, 'ice': 901, 'cocktail': 346, 'incredible': 921, 'sucked': 1721, 'imagined': 911, 'interesting': 938, 'decor': 452, 'crepe': 419, 'station': 1680, 'hot': 883, 'bread': 230, 'butter': 262, 'home': 868, 'chips': 327, 'bits': 197, 'original': 1238, 'watch': 1945, 'egg': 573, 'gyros': 803, 'missing': 1130, 'wings': 1986, 'feeling': 656, 'satisfied': 1532, 'joey': 958, 'voted': 1921, 'dog': 517, 'valley': 1892, 'readers': 1429, 'magazine': 1064, 'bowl': 224, 'live': 1027, 'fridays': 714, 'blows': 210, 'insulted': 936, 'felt': 661, 'disrespected': 513, 'drive': 548, 'things': 1791, 'exceeding': 613, 'hope': 875, 'dreamed': 538, 'serivce': 1567, 'help': 847, 'brunch': 242, 'inviting': 941, 'lived': 1028, '1979': 7, 'last': 989, 'stepped': 1689, 'foot': 699, 'mixed': 1132, 'mushrooms': 1158, 'yukon': 2030, 'gold': 761, 'puree': 1400, 'white': 1975, 'corn': 389, 'beateous': 160, 'bug': 248, 'showed': 1598, 'given': 750, 'climbing': 341, 'kitchen': 977, 'waiting': 1927, 'her': 850, 'soon': 1643, 'friend': 716, 'tartar': 1754, 'won': 1993, 'though': 1800, 'soggy': 1631, 'jamaican': 951, 'mojitos': 1136, 'small': 1621, 'rich': 1487, 'accordingly': 31, 'shower': 1599, 'rinse': 1492, 'unless': 1874, 'mind': 1125, 'nude': 1199, 'see': 1556, 'lobster': 1031, 'bisque': 192, 'bussell': 259, 'sprouts': 1672, 'risotto': 1494, 'filet': 665, 'needed': 1174, 'pepper': 1302, 'course': 402, 'none': 1192, 'hopefully': 876, 'bodes': 213, 'business': 257, 'someone': 1637, 'cook': 385, 'either': 576, 'cold': 351, 'wrapped': 2013, 'dates': 442, 'unbelievable': 1863, 'bargain': 143, 'folks': 695, 'otto': 1242, 'make': 1070, 'welcome': 1961, 'special': 1657, 'mains': 1068, 'uninspired': 1872, 'stop': 1697, 'whenever': 1970, 'isn': 944, 'then': 1784, 'dealing': 447, 'world': 2003, 'annoying': 67, 'drunk': 551, 'fun': 729, 'chef': 318, 'double': 526, 'cheeseburger': 316, 'single': 1612, 'patty': 1291, 'falling': 640, 'apart': 77, 'picture': 1319, 'uploaded': 1885, 'yeah': 2019, 'couple': 399, 'sporting': 1667, 'events': 605, 'walls': 1932, 'covered': 406, 'tv': 1859, 'possible': 1359, 'descriptions': 474, 'yum': 2031, 'eel': 569, 'yet': 2025, 'mayo': 1089, 'sauces': 1535, 'hardest': 823, 'decision': 451, 'honestly': 872, 'supposed': 1736, 'rolled': 1499, 'eyes': 632, 'stayed': 1682, 'providing': 1393, 'money': 1138, 'flavourful': 687, 'almost': 52, 'building': 249, 'freezing': 711, 'reviewer': 1478, 'couldn': 397, 'close': 342, 'point': 1348, 'flavorful': 684, 'delights': 468, 'ayce': 125, 'lighting': 1014, 'dark': 440, 'set': 1576, 'mood': 1141, 'based': 148, 'sub': 1715, 'par': 1276, 'received': 1439, 'effort': 572, 'show': 1597, 'gratitude': 774, 'owner': 1260, 'privileged': 1378, 'working': 2001, 'creamy': 417, 'parents': 1278, 'most': 1145, 'similar': 1607, 'complaints': 365, 'silently': 1606, 'pizza': 1328, 'peanut': 1295, 'fast': 649, 'godfathers': 759, 'tough': 1834, 'short': 1593, 'sticks': 1691, 'few': 662, 'recall': 1438, 'charged': 308, 'tap': 1752, 'exquisite': 626, 'generous': 742, 'plus': 1346, 'bucks': 245, 'thus': 1806, 'far': 647, 'visited': 1917, 'twice': 1860, 'self': 1562, 'proclaimed': 1381, 'coffee': 350, 'wildly': 1982, 'veggitarian': 1902, 'platter': 1338, 'cant': 281, 'wrong': 2015, 'madison': 1063, 'ironman': 942, 'chefs': 319, 'job': 957, 'from': 720, 'dedicated': 454, 'boba': 212, 'tea': 1762, 'spots': 1669, 'jenni': 954, 'patio': 1288, 'outstanding': 1250, 'goat': 758, 'taco': 1745, 'skimp': 1616, 'mac': 1059, 'bachi': 129, 'stinks': 1693, 'recommend': 1443, 'salads': 1517, 'burned': 254, 'saganaki': 1514, '100': 2, 'hate': 827, 'disagree': 496, 'fellow': 660, 'yelpers': 2024, 'hours': 886, 'pizzas': 1329, 'later': 992, 'why': 1978, 'neighborhood': 1178, 'convenient': 384, 'location': 1033, 'pulled': 1398, 'soooo': 1644, 'incredibly': 922, 'prepared': 1368, 'gave': 738, 'star': 1676, 'rating': 1422, 'please': 1342, 'third': 1795, 'writing': 2014, 'review': 1477, 'stay': 1681, 'stir': 1694, 'fried': 715, 'noodles': 1193, 'chip': 324, 'count': 398, 'box': 225, '12': 4, 'boring': 218, 'greedy': 780, 'corporation': 390, 'dime': 488, 'atrocious': 108, 'summer': 1731, 'charming': 309, 'outdoor': 1246, 'delightful': 467, 'expect': 618, 'toasted': 1815, 'english': 587, 'muffin': 1154, 'untoasted': 1879, 'high': 854, 'house': 887, 'bus': 256, 'boy': 227, 'hand': 812, 'friends': 718, 'basically': 149, 'figured': 664, 'joke': 961, 'making': 1071, 'publicly': 1396, 'loudly': 1044, 'bbq': 155, 'lighter': 1013, 'fare': 648, 'reasonable': 1435, 'pricing': 1376, 'public': 1395, 'ways': 1951, 'two': 1861, 'happy': 821, 'downside': 533, 'without': 1991, 'doubt': 527, 'exceptional': 615, 'months': 1140, 'returned': 1475, 'favorite': 653, 'shawarrrrrrma': 1584, 'black': 198, 'eyed': 631, 'peas': 1298, 'unreal': 1876, 'serve': 1568, 'vinaigrette': 1913, 'seen': 1559, 'especially': 597, '00': 0, 'mom': 1137, 'bites': 196, 'pleasant': 1341, 'honor': 873, 'hut': 899, 'coupons': 401, 'truly': 1851, 'unbelievably': 1864, 'pleased': 1343, 'dirty': 495, 'seat': 1551, 'covers': 407, 'replenished': 1467, 'plain': 1333, 'yucky': 2029, 'standard': 1675, '17': 6, 'omg': 1220, 'delicioso': 463, 'authentic': 115, 'spaghetti': 1656, 'whatsoever': 1967, 'vegetables': 1899, 'feels': 657, 'driving': 549, 'tucson': 1854, 'chipotle': 326, 'classy': 339, 'succulent': 1718, 'baseball': 147, 'brick': 235, 'oven': 1252, 'app': 80, 'multiple': 1156, 'ten': 1767, 'finally': 670, 'terrible': 1771, 'equally': 596, 'shouldn': 1596, 'pancakes': 1272, 'eggs': 575, 'genuinely': 743, 'enthusiastic': 593, 'treat': 1842, 'sadly': 1512, 'gordon': 767, 'ramsey': 1412, 'shall': 1582, 'sharply': 1583, 'evening': 603, 'life': 1011, 'bathroom': 151, 'door': 524, 'offered': 1209, 'tasted': 1757, 'cool': 388, 'turn': 1858, 'else': 579, 'buying': 263, 'handling': 815, 'large': 985, 'rowdy': 1504, 'find': 671, 'despicable': 477, 'soup': 1651, 'lukewarm': 1057, 'craving': 413, 'deserves': 475, 'stomach': 1695, 'ache': 33, 'rest': 1470, 'dropped': 550, 'ball': 136, 'space': 1655, 'tiny': 1810, 'elegantly': 577, 'comfortable': 359, 'customize': 435, 'usual': 1889, 'eggplant': 574, 'green': 782, 'bean': 157, 'fry': 725, 'beans': 158, 'outta': 1251, 'part': 1279, 'inconsiderate': 920, 'says': 1540, 'hi': 853, 'dinners': 492, 'outshining': 1248, 'halibut': 809, 'told': 1818, 'happened': 819, 'car': 284, 'breaks': 233, 'front': 721, 'starving': 1679, '90': 21, 'disgrace': 505, 'def': 457, 'ethic': 600, 'continue': 383, 'andddd': 65, 'date': 441, 'anyone': 72, 'past': 1284, 'stuffed': 1711, 'located': 1032, 'crystals': 429, 'shopping': 1591, 'mall': 1072, 'aria': 93, 'summarize': 1729, 'nay': 1170, 'transcendant': 1840, 'brings': 237, 'joy': 962, 'memory': 1108, 'pneumatic': 1347, 'condiment': 373, 'dispenser': 512, 'ians': 900, 'kids': 974, 'lots': 1043, 'options': 1232, 'kiddos': 973, 'perfect': 1303, 'family': 642, 'perfection': 1304, 'impeccable': 913, 'simply': 1610, 'disappointment': 500, 'bouchon': 222, 'accountant': 32, 'screwed': 1545, 'reminds': 1466, 'pop': 1354, 'shops': 1592, 'san': 1525, 'francisco': 708, 'buldogis': 250, 'gourmet': 770, 'frustrated': 724, 'petty': 1313, 'total': 1829, 'iced': 902, 'hungry': 896, 'assure': 104, 'trying': 1853, 'teeth': 1764, 'sore': 1646, 'completely': 367, 'enjoyed': 590, 'become': 165, 'regular': 1456, 'needs': 1176, 'professional': 1382, 'until': 1878, 'end': 585, 'dinner': 491, 'companions': 362, 'ground': 792, 'smeared': 1624, 'tracked': 1837, 'everywhere': 610, 'pile': 1322, 'bird': 189, 'poop': 1351, 'furthermore': 732, 'operation': 1228, 'website': 1955, 'mistake': 1131, 'expert': 625, 'connisseur': 374, 'topic': 1826, 'jerk': 955, 'strike': 1705, 'wants': 1935, 'rushed': 1509, 'nicest': 1184, 'owners': 1261, 'across': 35, 'biscuits': 191, 'appetizer': 85, '40': 14, 'absolutley': 27, 'awkward': 123, '5lb': 18, 'cow': 408, '4ths': 17, 'gristle': 788, 'fat': 650, 'steiners': 1687, 'bar': 140, 'dollars': 519, 'anyway': 75, 'fs': 726, 'week': 1957, 'mention': 1109, 'combination': 355, 'pears': 1297, 'almonds': 51, 'big': 184, 'winner': 1987, 'spicier': 1664, 'prefer': 1366, 'ribeye': 1485, 'mesquite': 1112, 'anytime': 74, 'gooodd': 766, 'connoisseur': 375, 'difference': 486, 'certainly': 301, 'contained': 381, 'driest': 543, 'mouthful': 1148, 'enjoyable': 589, 'relaxed': 1461, 'venue': 1907, 'couples': 400, 'groups': 794, 'etc': 599, 'nargile': 1168, 'tater': 1761, 'tots': 1831, 'southwest': 1654, 'paid': 1266, 'vanilla': 1894, 'smooth': 1628, 'profiterole': 1383, 'choux': 330, 'pastry': 1287, 'im': 907, 'az': 126, 'new': 1181, 'manager': 1076, 'carly': 288, 'due': 555, 'acknowledged': 34, '35': 13, 'forgetting': 702, 'margaritas': 1080, 'disappoint': 497, 'ventilation': 1904, 'upgrading': 1884, 'letdown': 1007, 'rather': 1421, 'camelback': 277, 'flower': 690, 'shop': 1590, 'cartel': 291, 'trimmed': 1846, 'group': 793, '70': 19, 'claimed': 335, 'handled': 814, 'beautifully': 162, 'bill': 187, 'bring': 236, 'jewel': 956, 'las': 988, 'exactly': 611, 'hoping': 878, 'nearly': 1171, 'living': 1029, 'limited': 1021, 'boiled': 214, 'crab': 410, 'legs': 1003, 'toro': 1828, 'tartare': 1755, 'cavier': 300, 'extraordinary': 629, 'thinly': 1794, 'sliced': 1618, 'wagyu': 1923, 'truffle': 1850, 'dont': 522, 'long': 1034, 'attached': 109, 'gas': 737, 'sign': 1604, 'awesome': 121, 'decide': 449, 'worse': 2005, 'humiliated': 893, 'worker': 1999, 'bunch': 251, 'name': 1166, 'callings': 275, 'conclusion': 372, 'filling': 668, 'meals': 1092, 'daily': 438, 'specials': 1658, 'tragedy': 1839, 'struck': 1708, 'pancake': 1271, 'crawfish': 414, 'monster': 1139, 'funny': 730, 'multi': 1155, 'grain': 772, 'pumpkin': 1399, 'pecan': 1299, 'fluffy': 691, 'airline': 45, 'noca': 1190, 'gyro': 802, 'lettuce': 1009, 'thoroughly': 1798, 'homemade': 869, 'pastas': 1286, 'thin': 1789, 'cheesecurds': 317, 'typical': 1862, 'glance': 753, 'lovely': 1047, 'finger': 673, 'item': 947, 'such': 1719, 'beauty': 163, 'haven': 831, 'gone': 763, 'greasy': 777, 'unhealthy': 1871, 'might': 1119, 'those': 1799, 'similarly': 1608, 'delivery': 471, 'man': 1073, 'apology': 79, '45': 16, 'expensive': 621, 'need': 1173, 'pack': 1264, 'tiramisu': 1812, 'cannoli': 279, 'sun': 1732, 'whole': 1977, 'meats': 1098, 'choose': 329, 'experienced': 623, 'frenchman': 712, 'desserts': 480, 'martini': 1084, 'opinion': 1229, 'entrees': 595, 'gc': 739, 'sample': 1524, 'thirty': 1796, 'vacant': 1890, 'yellowtail': 2023, 'carpaccio': 289, 'strangers': 1701, 'actually': 37, 'hello': 846, 'strange': 1700, 'boyfriend': 228, 'recent': 1441, 'donut': 523, 'saving': 1537, 'room': 1501, 'maybe': 1088, 'disgraceful': 506, 'however': 889, 'particular': 1280, 'suffers': 1724, 'tapas': 1753, 'vinegrette': 1914, 'baby': 128, 'greens': 783, 'hearts': 840, 'palm': 1269, 'disgusting': 509, 'believe': 174, 'hankering': 818, 'forth': 703, 'helped': 848, 'consider': 376, 'theft': 1780, 'eew': 570, 'complete': 366, 'overhaul': 1256, 'recently': 1442, 'witnessed': 1992, 'guests': 799, 'regularly': 1457, 'super': 1735, 'swung': 1742, 'deeply': 456, 'efficient': 571, 'fan': 644, 'sucker': 1722, 'dry': 552, 'rated': 1420, '15': 5, 'setting': 1577, 'cheap': 310, 'olives': 1218, 'perpared': 1308, 'presentation': 1370, 'giant': 747, 'slices': 1619, 'toast': 1814, 'lightly': 1015, 'dusted': 558, 'powdered': 1364, 'sugar': 1725, 'play': 1339, 'fo': 693, 'accomodate': 30, 'vegan': 1897, 'veggie': 1901, 'crumby': 426, 'pale': 1268, 'color': 354, 'instead': 935, 'croutons': 423, 'trips': 1849, 'crema': 418, 'café': 269, 'expanded': 617, 'miss': 1128, 'wish': 1989, 'philadelphia': 1315, 'sitting': 1614, 'fairly': 638, 'crisp': 420, 'satisfying': 1533, 'wanted': 1934, 'north': 1194, 'scottsdale': 1543, 'quit': 1410, 'freaking': 709, 'papers': 1275, 'reheated': 1458, 'ok': 1215, 'wedges': 1956, 'sorry': 1648, 'absolute': 25, 'tongue': 1821, 'cheek': 314, 'bloody': 207, 'despite': 478, 'rate': 1419, 'businesses': 258, 'its': 948, 'grilled': 786, 'yellow': 2022, 'saffron': 1513, 'seasoning': 1550, 'thru': 1804, 'means': 1094, 'half': 808, 'somehow': 1636, 'luck': 1055, 'non': 1191, 'focused': 694, 'grandmother': 773, 'list': 1023, 'ignored': 906, 'hostess': 882, 'myself': 1163, 'boys': 229, 'four': 707, 'guy': 800, 'blue': 211, 'shirt': 1586, 'vibe': 1912, 'letting': 1008, 'same': 1523, 'him': 860, 'drastically': 536, 'caesar': 267, 'promptly': 1387, 'madhouse': 1062, 'proven': 1390, 'dead': 445, 'greatest': 779, 'moods': 1142, 'macarons': 1060, 'insanely': 931, 'informative': 929, 'weren': 1965, 'somewhat': 1640, 'edible': 566, 'promise': 1385, 'fails': 636, 'deliver': 470, 'average': 116, 'plater': 1337, 'relax': 1460, 'sit': 1613, 'together': 1817, 'poorly': 1353, 'constructed': 379, 'seating': 1553, 'italian': 946, 'screams': 1544, 'legit': 1002, 'book': 216, 'somethat': 1638, 'duo': 556, 'violinists': 1915, 'songs': 1642, 'requested': 1468, 'personally': 1311, 'baklava': 135, 'falafels': 639, 'baba': 127, 'ganoush': 734, 'staying': 1683, 'mgm': 1116, 'courteous': 404, 'eclectic': 565, 'onion': 1225, 'rings': 1491, 'pictures': 1320, 'work': 1998, 'nobu': 1189, 'google': 765, 'imagine': 910, 'smashburger': 1623, 'lover': 1048, 'gem': 740, 'plantains': 1334, 'giving': 751, 'spends': 1661, 'talking': 1751, 'themselves': 1783, 'panna': 1273, 'cotta': 395, 'fail': 635, 'flavors': 686, 'slaw': 1617, 'drenched': 539, 'piano': 1318, 'soundtrack': 1650, 'rge': 1482, 'fillet': 667, 'relleno': 1462, 'plate': 1336, 'sergeant': 1565, 'auju': 114, 'hawaiian': 833, 'breeze': 234, 'mango': 1078, 'magic': 1065, 'pineapple': 1324, 'smoothies': 1629, 'mortified': 1144, 'needless': 1175, 'anyways': 76, 'dripping': 547, 'mostly': 1146, '2007': 9, 'serving': 1575, 'hospitality': 880, 'industry': 926, 'paradise': 1277, 'refrained': 1451, 'recommending': 1446, 'cibo': 333, 'longer': 1035, 'orders': 1237, 'mean': 1093, 'famous': 643, 'mouths': 1149, 'bellies': 176, 'reading': 1430, 'reminded': 1465, 'pros': 1389, 'simple': 1609, 'dough': 529, 'tonight': 1822, 'elk': 578, 'hooked': 874, 'classics': 338, 'sorely': 1647, 'quaint': 1404, 'deliciously': 465, 'compliments': 368, 'thanks': 1776, 'dylan': 559, 'tummy': 1855, 'gratuity': 775, 'larger': 987, 'fly': 692, 'apple': 87, 'juice': 965, 'han': 811, 'nan': 1167, 'barely': 142, 'ryan': 1510, 'edinburgh': 567, 'revisiting': 1481, 'chinese': 323, 'naan': 1164, 'pine': 1323, 'nut': 1201, 'touched': 1833, 'airport': 46, 'speedy': 1659, 'calligraphy': 274, 'paper': 1274, 'anything': 73, 'complain': 364, 'stood': 1696, 'begin': 171, 'awkwardly': 124, 'opened': 1227, 'guest': 798, 'extensive': 627, 'provides': 1392, 'wide': 1979, 'array': 95, 'inflate': 928, 'smaller': 1622, 'grow': 795, 'rapidly': 1415, 'lil': 1020, 'fuzzy': 733, 'fabulous': 633, 'wontons': 1995, 'thick': 1788, 'level': 1010, 'spice': 1662, 'whelm': 1968, 'main': 1066, 'crowd': 424, 'older': 1217, 'mid': 1117, '30s': 12, 'arepas': 92, 'jalapeno': 950, 'thats': 1778, 'shoe': 1588, 'leather': 997, 'definately': 458, 'block': 204, 'low': 1052, 'key': 970, 'fancy': 645, 'affordable': 39, 'sour': 1653, 'soups': 1652, 'sunday': 1733, 'traditional': 1838, 'hunan': 895, 'style': 1713, 'bother': 220, 'flair': 680, 'bartenders': 146, 'nutshell': 1202, 'restaraunt': 1471, 'smells': 1626, 'market': 1082, 'sewer': 1580, 'girlfriend': 748, 'veal': 1896, 'satifying': 1531, 'join': 959, 'club': 344, 'offers': 1210, 'via': 1911, 'email': 581, 'likes': 1018, 'case': 292, 'colder': 352, 'flavorless': 685, 'describing': 473, 'tepid': 1770, 'chains': 303, 'easily': 561, 'nachos': 1165, 'words': 1997, 'does': 516, 'crazy': 415, 'crowds': 425, 'juries': 966, 'lawyers': 995, 'court': 403, 'arrives': 97, 'paying': 1293, '85': 20, 'looks': 1039, 'kid': 972, 'wienerschnitzel': 1980, 'idea': 903, 'classic': 337, 'maine': 1067, 'roll': 1498, 'brother': 239, 'law': 994, 'works': 2002, 'hereas': 852, 'tribute': 1844, 'event': 604, 'held': 843, 'salsa': 1520, 'pissd': 1326, 'surprise': 1738, 'golden': 762, 'hopes': 877, 'fell': 658, 'bruschetta': 243, 'devine': 482, 'employee': 582, 'lastly': 990, 'mozzarella': 1152, 'negligent': 1177, 'unwelcome': 1880, 'suggest': 1727, 'consistent': 378, 'packed': 1265, 'seasonal': 1548, 'fruit': 723, 'peach': 1294, 'officially': 1211, 'blown': 209, 'put': 1402, 'plastic': 1335, 'containers': 382, 'opposed': 1231, 'cramming': 411, 'takeout': 1749, 'boxes': 226, 'crêpe': 430, 'delicate': 462, 'awful': 122, 'fair': 637, 'kabuki': 968, 'services': 1574, 'maria': 1081, 'surprised': 1739, 'article': 99, 'read': 1428, 'spices': 1663, 'fucking': 727, 'caballero': 266, 'head': 835, 'oysters': 1262, 'round': 1503, 'disbelief': 503, 'qualified': 1405, 'version': 1909, 'foods': 698, 'tolerance': 1819, 'polite': 1350, 'wash': 1940, 'otherwise': 1241, 'biscuit': 190, 'heat': 841, 'hated': 828, 'coconut': 348, 'fella': 659, 'huevos': 890, 'rancheros': 1414, 'appealing': 83, 'wines': 1985, 'pricey': 1375, 'temp': 1766, 'prepare': 1367, 'bare': 141, 'gloves': 755, 'deep': 455, 'oil': 1214, 'pleasure': 1344, 'plethora': 1345, 'sandwiches': 1527, 'gets': 745, 'seal': 1547, 'approval': 88, 'light': 1012, 'college': 353, 'cooking': 387, 'class': 336, 'started': 1678, 'editing': 568, 'besides': 179, 'costco': 394, 'highlighted': 856, 'unique': 1873, 'weird': 1960, 'hardly': 824, 'grocery': 789, 'store': 1699, 'japanese': 952, 'dude': 554, 'aren': 91, 'doughy': 530, 'inch': 917, 'wire': 1988, 'ourselves': 1244, 'albondigas': 48, 'tomato': 1820, 'meatballs': 1096, 'three': 1802, 'occasions': 1206, 'medium': 1101, 'bloodiest': 206, 'refused': 1454, 'anymore': 71, 'killer': 975, 'chai': 302, 'latte': 993, 'allergy': 50, 'warnings': 1938, 'clue': 345, 'contain': 380, 'peanuts': 1296, 'mediterranean': 1100, 'rotating': 1502, 'beers': 169, 'highlight': 855, 'concern': 371, 'mellow': 1105, 'mushroom': 1157, 'strawberry': 1702, 'unprofessional': 1875, 'loyal': 1054, 'patron': 1289, 'spend': 1660, 'occasional': 1205, 'pats': 1290, 'bellagio': 175, 'anticipated': 69, 'weak': 1954, 'correct': 391, 'bought': 223, 'sals': 1519, 'returning': 1476, 'fav': 651, 'unexperienced': 1869, 'employees': 583, 'chickens': 322, 'heads': 836, 'call': 273, 'steakhouse': 1685, 'properly': 1388, 'understand': 1867, 'concept': 370, 'guacamole': 796, 'puréed': 1401, 'postinos': 1360, 'poisoning': 1349, 'batch': 150, 'thinking': 1793, 'yay': 2018, 'hilarious': 859, 'christmas': 332, 'eve': 601, 'remember': 1464, 'biggest': 186, 'entire': 594, 'caring': 287, 'teamwork': 1763, 'degree': 460, 'ri': 1483, 'calamari': 272, 'fondue': 696, 'lost': 1041, 'forever': 701, 'ones': 1224, 'scene': 1542, 'denny': 472, 'downright': 532, 'waaaaaayyyyyyyyyy': 1922, 'saying': 1539, 'lacked': 981, 'sangria': 1528, 'glass': 754, 'ridiculous': 1489, 'brisket': 238, 'neat': 1172, 'trippy': 1848, 'hurry': 897, 'reservation': 1469, 'stretch': 1704, 'imagination': 908, 'cashew': 294, 'undercooked': 1866, 'chipolte': 325, 'ranch': 1413, 'dipping': 493, 'sause': 1536, 'seemed': 1557, 'watered': 1948, 'workers': 2000, 'douchey': 528, 'indoor': 925, 'garden': 735, 'con': 369, 'spotty': 1670, 'neither': 1179, 'ensued': 592, 'apologize': 78, 'reason': 1434, 'fill': 666, 'binge': 188, 'drinking': 545, 'carbs': 285, 'insults': 937, 'profound': 1384, 'deuchebaggery': 481, 'smoke': 1627, 'solidify': 1634, 'combo': 356, 'ala': 47, 'cart': 290, 'blame': 200, 'placed': 1331, 'rave': 1424, 'del': 461, 'avoided': 119, 'hamburger': 810, 'hell': 844, 'gotten': 769, 'ya': 2016, 'doing': 518, 'shots': 1594, 'fireball': 675, 'disapppointment': 501, 'correction': 392, 'heimer': 842, 'putting': 1403, 'cause': 299, 'owned': 1259, 'vomited': 1919, 'circumstances': 334, 'tops': 1827, 'brownish': 241, 'obviously': 1204, 'below': 178, 'movies': 1150, 'ha': 804, 'flop': 689, 'problem': 1380, 'charge': 307, '11': 3, '99': 22, 'bigger': 185, 'unwrapped': 1881, 'mile': 1120, 'brushfire': 244, 'impressive': 915, 'hasn': 826, 'closed': 343, 'mirage': 1127, 'refried': 1453, 'dried': 542, 'crusty': 428, 'caterpillar': 297, 'appetite': 84, 'instantly': 934, 'ninja': 1187, 'hadn': 806, 'wasted': 1943, 'poured': 1363, 'wound': 2010, 'drawing': 537}\n",
      "             precision    recall  f1-score   support\n",
      "\n",
      "          0       0.65      0.83      0.73       103\n",
      "          1       0.86      0.69      0.76       147\n",
      "\n",
      "avg / total       0.77      0.75      0.75       250\n",
      "\n",
      "[[ 86  17]\n",
      " [ 46 101]]\n",
      "31.2925170068\n",
      "16.5048543689\n",
      "{'wow': 2011, 'loved': 1046, 'this': 1797, 'place': 1330, 'crust': 427, 'is': 943, 'not': 1195, 'good': 764, 'tasty': 1760, 'and': 64, 'the': 1779, 'texture': 1773, 'was': 1939, 'just': 967, 'nasty': 1169, 'stopped': 1698, 'by': 264, 'during': 557, 'late': 991, 'may': 1087, 'bank': 139, 'holiday': 867, 'off': 1208, 'rick': 1488, 'steve': 1690, 'recommendation': 1444, 'it': 945, 'selection': 1560, 'on': 1221, 'menu': 1110, 'great': 778, 'so': 1630, 'were': 1964, 'prices': 1374, 'now': 1198, 'am': 57, 'getting': 746, 'angry': 66, 'want': 1933, 'my': 1162, 'damn': 439, 'pho': 1316, 'honeslty': 870, 'didn': 484, 'taste': 1756, 'that': 1777, 'fresh': 713, 'potatoes': 1362, 'like': 1016, 'rubber': 1505, 'you': 2026, 'could': 396, 'tell': 1765, 'they': 1787, 'had': 805, 'been': 167, 'made': 1061, 'up': 1882, 'ahead': 44, 'of': 1207, 'time': 1808, 'being': 173, 'kept': 969, 'under': 1865, 'warmer': 1937, 'fries': 719, 'too': 1823, 'touch': 1832, 'service': 1573, 'very': 1910, 'prompt': 1386, 'would': 2008, 'go': 757, 'back': 130, 'cashier': 295, 'no': 1188, 'care': 286, 'what': 1966, 'ever': 606, 'to': 1813, 'say': 1538, 'still': 1692, 'ended': 586, 'wayyy': 1952, 'overpriced': 1257, 'tried': 1845, 'cape': 282, 'cod': 349, 'ravoli': 1426, 'chicken': 321, 'with': 1990, 'cranberry': 412, 'mmmm': 1133, 'disgusted': 508, 'because': 164, 'pretty': 1371, 'sure': 1737, 'human': 892, 'hair': 807, 'shocked': 1587, 'signs': 1605, 'indicate': 924, 'cash': 293, 'only': 1226, 'highly': 858, 'recommended': 1445, 'waitress': 1928, 'little': 1026, 'slow': 1620, 'in': 916, 'worth': 2007, 'your': 2027, 'let': 1006, 'alone': 53, 'vegas': 1898, 'did': 483, 'at': 105, 'all': 49, 'burrittos': 255, 'blah': 199, 'food': 697, 'amazing': 58, 'also': 54, 'cute': 437, 'less': 1005, 'interior': 939, 'beautiful': 161, 'performed': 1306, 'right': 1490, 'red': 1447, 'velvet': 1903, 'cake': 270, 'ohhh': 1213, 'stuff': 1710, 'never': 1180, 'brought': 240, 'salad': 1516, 'we': 1953, 'asked': 102, 'for': 700, 'hole': 866, 'wall': 1931, 'has': 825, 'mexican': 1115, 'street': 1703, 'tacos': 1746, 'friendly': 717, 'staff': 1673, 'took': 1824, 'an': 63, 'hour': 885, 'get': 744, 'our': 1243, 'tables': 1744, 'restaurant': 1472, 'luke': 1056, 'warm': 1936, 'sever': 1578, 'running': 1508, 'around': 94, 'he': 834, 'totally': 1830, 'overwhelmed': 1258, 'worst': 2006, 'salmon': 1518, 'sashimi': 1529, 'there': 1785, 'are': 89, 'combos': 357, 'burger': 252, 'beer': 168, '23': 10, 'which': 1973, 'decent': 448, 'deal': 446, 'final': 669, 'blow': 208, 'found': 706, 'accident': 28, 'be': 156, 'happier': 820, 'seems': 1558, 'quick': 1408, 'grab': 771, 'bite': 195, 'some': 1635, 'familiar': 641, 'pub': 1394, 'but': 261, 'do': 515, 'yourself': 2028, 'favor': 652, 'look': 1036, 'elsewhere': 580, 'overall': 1254, 'lot': 1042, 'redeeming': 1448, 'quality': 1406, 'inexpensive': 927, 'ample': 62, 'portions': 1357, 'poor': 1352, 'waiter': 1926, 'me': 1090, 'feel': 655, 'stupid': 1712, 'every': 607, 'came': 276, 'table': 1743, 'first': 677, 'visit': 1916, 'hiro': 862, 'delight': 466, 'sucks': 1723, 'shrimp': 1600, 'tender': 1768, 'moist': 1135, 'enough': 591, 'drag': 535, 'into': 940, 'establishment': 598, 'again': 42, 'hard': 822, 'judge': 963, 'whether': 1972, 'these': 1786, 'sides': 1603, 'grossed': 791, 'out': 1245, 'melted': 1107, 'styrofoam': 1714, 'eat': 562, 'fear': 654, 'sick': 1601, 'positive': 1358, 'note': 1196, 'server': 1570, 'attentive': 112, 'provided': 1391, 'frozen': 722, 'pucks': 1397, 'disgust': 507, 'people': 1301, 'behind': 172, 'register': 1455, 'thing': 1790, 'prime': 1377, 'rib': 1484, 'dessert': 479, 'section': 1555, 'bad': 132, 'generic': 741, 'beef': 166, 'cooked': 386, 'if': 904, 'sandwich': 1526, 'any': 70, 'firehouse': 676, 'side': 1602, 'greek': 781, 'dressing': 541, 'pita': 1327, 'hummus': 894, 'refreshing': 1452, 'ordered': 1235, 'duck': 553, 'rare': 1416, 'pink': 1325, 'inside': 932, 'nice': 1183, 'char': 305, 'outside': 1249, 'after': 40, 'us': 1886, 'when': 1969, 'realized': 1432, 'husband': 898, 'left': 1000, 'his': 863, 'sunglasses': 1734, 'their': 1781, 'chow': 331, 'mein': 1104, 'have': 830, 'horrible': 879, 'attitudes': 113, 'towards': 1835, 'customers': 434, 'talk': 1750, 'down': 531, 'each': 560, 'one': 1223, 'don': 520, 'enjoy': 588, 'portion': 1356, 'huge': 891, 'servers': 1571, 'wonderful': 1994, 'imaginative': 909, 'heart': 839, 'attack': 110, 'grill': 785, 'downtown': 534, 'absolutely': 26, 'flat': 681, 'lined': 1022, 'excuse': 616, 'much': 1153, 'seafood': 1546, 'strings': 1706, 'pasta': 1285, 'bottom': 221, 'amount': 61, 'sauce': 1534, 'over': 1253, 'power': 1365, 'scallop': 1541, 'perfectly': 1305, 'ripped': 1493, 'banana': 138, 'petrified': 1312, 'tasteless': 1758, 'least': 996, 'think': 1792, 'refill': 1450, 'water': 1947, 'before': 170, 'struggle': 1709, 'wave': 1949, '10': 1, 'minutes': 1126, 'receives': 1440, 'stars': 1677, 'appetizers': 86, 'cocktails': 347, 'handmade': 816, 'delicious': 464, 'definitely': 459, 'here': 851, 'glad': 752, 'give': 749, 'military': 1121, 'discount': 504, 'always': 56, 'dos': 525, 'gringos': 787, 'update': 1883, 'went': 1963, 'second': 1554, 'as': 100, 'got': 768, 'apparently': 82, 'heard': 838, 'salt': 1521, 'batter': 153, 'fish': 678, 'chewy': 320, 'way': 1950, 'finish': 674, 'included': 918, 'tastings': 1759, 'drinks': 546, 'jeff': 953, 'above': 24, 'beyond': 183, 'expected': 620, 'really': 1433, 'rice': 1486, 'meh': 1103, '30': 11, 'min': 1124, 'milkshake': 1123, 'nothing': 1197, 'more': 1143, 'than': 1775, 'chocolate': 328, 'milk': 1122, 'guess': 797, 'should': 1595, 'known': 979, 'suck': 1720, 'excalibur': 612, 'use': 1887, 'common': 361, 'sense': 1564, 'dish': 510, 'quite': 1411, 'appalling': 81, 'value': 1893, 'well': 1962, 'times': 1809, 'customer': 433, 'sweet': 1741, 'potato': 1361, 'seasoned': 1549, 'today': 1816, 've': 1895, 'lunch': 1058, 'buffet': 246, 'cheated': 311, 'wasting': 1944, 'eating': 564, 'opportunity': 1230, 'going': 760, 'company': 363, 'coming': 360, 'experiencing': 624, 'underwhelming': 1868, 'relationship': 1459, 'where': 1971, 'both': 219, 'parties': 1281, 'can': 278, 'wait': 1924, 'other': 1239, 'person': 1309, 'ask': 101, 'break': 231, 'walked': 1930, 'smelled': 1625, 'old': 1216, 'grease': 776, 'trap': 1841, 'others': 1240, 'turkey': 1857, 'roast': 1495, 'bland': 201, 'pan': 1270, 'cakes': 271, 'everyone': 608, 'raving': 1425, 'about': 23, 'sugary': 1726, 'disaster': 502, 'tailored': 1747, 'palate': 1267, 'six': 1615, 'year': 2020, 'love': 1045, 'spring': 1671, 'rolls': 1500, 'oh': 1212, 'yummy': 2032, 'try': 1852, 'meat': 1095, 'ratio': 1423, 'tenders': 1769, 'unsatisfying': 1877, 'omelets': 1219, 'die': 485, 'everything': 609, 'summary': 1730, 'largely': 986, 'disappointing': 499, 'dining': 490, 'experience': 622, 'sexy': 1581, 'party': 1282, 'mouth': 1147, 're': 1427, 'outrageously': 1247, 'flirting': 688, 'hottest': 884, 'rock': 1497, 'casino': 296, 'will': 1983, 'step': 1688, 'forward': 705, 'best': 180, 'breakfast': 232, 'bye': 265, 'tip': 1811, 'lady': 984, 'll': 1030, 'arrived': 96, 'quickly': 1409, 'cafe': 268, 'serves': 1572, 'fantastic': 646, 'wife': 1981, 'loves': 1050, 'roasted': 1496, 'garlic': 736, 'bone': 215, 'marrow': 1083, 'added': 38, 'extra': 628, 'meal': 1091, 'another': 68, 'helpful': 849, 'bloddy': 205, 'mary': 1085, 'town': 1836, 'price': 1372, 'cannot': 280, 'beat': 159, 'mussels': 1160, 'wine': 1984, 'reduction': 1449, 'dishes': 511, 'better': 181, 'buffets': 247, 'tigerlilly': 1807, 'afternoon': 41, 'bartender': 145, 'personable': 1310, 'ambience': 60, 'music': 1159, 'playing': 1340, 'next': 1182, 'trip': 1847, 'sooooo': 1645, 'real': 1431, 'sushi': 1740, 'lovers': 1049, 'honest': 871, 'yama': 2017, '40min': 15, 'passed': 1283, 'between': 182, 'ordering': 1236, 'arriving': 98, 'wasn': 1941, 'busy': 260, 'thai': 1774, 'spicy': 1665, 'check': 312, 'gross': 790, 'atmosphere': 107, 'kind': 976, 'mess': 1113, 'steak': 1684, 'although': 55, 'liked': 1017, 'sound': 1649, 'actual': 36, 'bit': 193, 'know': 978, 'how': 888, 'managed': 1074, 'served': 1569, 'blandest': 202, 'eaten': 563, 'preparing': 1369, 'indian': 923, 'cuisine': 431, 'boot': 217, 'worries': 2004, 'fine': 672, 'guys': 801, 'steaks': 1686, 'loving': 1051, 'son': 1641, 'who': 1976, 'places': 1332, 'said': 1515, 'thought': 1801, 'venture': 1905, 'further': 731, 'away': 120, 'hit': 864, 'spot': 1668, 'night': 1185, 'host': 881, 'lack': 980, 'word': 1996, 'bitches': 194, 'liking': 1019, 'number': 1200, 'reasons': 1437, 'waste': 1942, 'reviewing': 1479, 'leave': 998, 'phenomenal': 1314, 'ambiance': 59, 'wouldn': 2009, 'return': 1474, 'venturing': 1906, 'strip': 1707, 'pork': 1355, 'belly': 177, 'mediocre': 1099, 'penne': 1300, 'vodka': 1918, 'excellent': 614, 'including': 919, 'massive': 1086, 'meatloaf': 1097, 'crispy': 421, 'wrap': 2012, 'delish': 469, 'tuna': 1856, 'melt': 1106, 'burgers': 253, 'management': 1075, 'rude': 1506, 'nyc': 1203, 'bagels': 133, 'selections': 1561, 'cream': 416, 'cheese': 315, 'lox': 1053, 'capers': 283, 'even': 602, 'subway': 1717, 'fact': 634, 'come': 358, 'meet': 1102, 'expectations': 619, 'seriously': 1566, 'solid': 1633, 'bars': 144, 'extremely': 630, 'many': 1079, 'restaurants': 1473, 'dine': 489, 'weekend': 1958, 'drink': 544, 'empty': 584, 'suggestions': 1728, 'or': 1233, 'rarely': 1417, 'checked': 313, 'ate': 106, 'disappointed': 498, 'curry': 432, 'bamboo': 137, 'shoots': 1589, 'blanket': 203, 'moz': 1151, 'top': 1825, 'done': 521, 'cover': 405, 'subpar': 1716, 'bathrooms': 152, 'clean': 340, 'itself': 949, 'decorated': 453, 'changing': 304, 'considering': 377, 'pace': 1263, 'thumbs': 1805, 'watched': 1946, 'pay': 1292, 'attention': 111, 'ignore': 905, 'fiancé': 663, 'middle': 1118, 'day': 444, 'greeted': 784, 'seated': 1552, 'mandalay': 1077, 'bay': 154, 'waited': 1925, 'forty': 704, 'five': 679, 'vain': 1891, 'crostini': 422, 'stale': 1674, 'highlights': 857, 'nigiri': 1186, 'joint': 960, 'different': 487, 'cut': 436, 'piece': 1321, 'flavored': 683, 'voodoo': 1920, 'since': 1611, 'gluten': 756, 'free': 710, 'several': 1579, 'years': 2021, 'ago': 43, 'unfortunately': 1870, 'must': 1161, 'bakery': 134, 'leftover': 1001, 'relocated': 1463, 'impressed': 914, 'immediately': 912, 'diverse': 514, 'reasonably': 1436, 'priced': 1373, 'avoid': 118, 'cost': 393, 'full': 728, 'hands': 817, 'phoenix': 1317, 'metro': 1114, 'area': 90, 'looking': 1038, 'treated': 1843, 'bacon': 131, 'hella': 845, 'salty': 1522, 'spinach': 1666, 'avocado': 117, 'ingredients': 930, 'sad': 1511, 'literally': 1025, 'zero': 2033, 'used': 1888, 'menus': 1111, 'handed': 813, 'ladies': 983, 'listed': 1024, 'waitresses': 1929, 'lordy': 1040, 'khao': 971, 'soi': 1632, 'missed': 1129, 'terrific': 1772, 'thrilled': 1803, 'accommodations': 29, 'vegetarian': 1900, 'daughter': 443, 'perhaps': 1307, 'caught': 298, 'them': 1782, 'judging': 964, 'reviews': 1480, 'inspired': 933, 'leaves': 999, 'desired': 476, 'modern': 1134, 'hip': 861, 'while': 1974, 'maintaining': 1069, 'coziness': 409, 'weekly': 1959, 'haunt': 829, 'once': 1222, 'sat': 1530, '20': 8, 'asking': 103, 'take': 1748, 'order': 1234, 'flavor': 682, 'overcooked': 1255, 'charcoal': 306, 'decided': 450, 'send': 1563, 'looked': 1037, 'she': 1585, 'verge': 1908, 'having': 832, 'dressed': 540, 'rudely': 1507, 'probably': 1379, 'dirt': 494, 'hits': 865, 'something': 1639, 'healthy': 837, 'lacking': 982, 'quantity': 1407, 'lemon': 1004, 'raspberry': 1418, 'ice': 901, 'cocktail': 346, 'incredible': 921, 'sucked': 1721, 'imagined': 911, 'interesting': 938, 'decor': 452, 'crepe': 419, 'station': 1680, 'hot': 883, 'bread': 230, 'butter': 262, 'home': 868, 'chips': 327, 'bits': 197, 'original': 1238, 'watch': 1945, 'egg': 573, 'gyros': 803, 'missing': 1130, 'wings': 1986, 'feeling': 656, 'satisfied': 1532, 'joey': 958, 'voted': 1921, 'dog': 517, 'valley': 1892, 'readers': 1429, 'magazine': 1064, 'bowl': 224, 'live': 1027, 'fridays': 714, 'blows': 210, 'insulted': 936, 'felt': 661, 'disrespected': 513, 'drive': 548, 'things': 1791, 'exceeding': 613, 'hope': 875, 'dreamed': 538, 'serivce': 1567, 'help': 847, 'brunch': 242, 'inviting': 941, 'lived': 1028, '1979': 7, 'last': 989, 'stepped': 1689, 'foot': 699, 'mixed': 1132, 'mushrooms': 1158, 'yukon': 2030, 'gold': 761, 'puree': 1400, 'white': 1975, 'corn': 389, 'beateous': 160, 'bug': 248, 'showed': 1598, 'given': 750, 'climbing': 341, 'kitchen': 977, 'waiting': 1927, 'her': 850, 'soon': 1643, 'friend': 716, 'tartar': 1754, 'won': 1993, 'though': 1800, 'soggy': 1631, 'jamaican': 951, 'mojitos': 1136, 'small': 1621, 'rich': 1487, 'accordingly': 31, 'shower': 1599, 'rinse': 1492, 'unless': 1874, 'mind': 1125, 'nude': 1199, 'see': 1556, 'lobster': 1031, 'bisque': 192, 'bussell': 259, 'sprouts': 1672, 'risotto': 1494, 'filet': 665, 'needed': 1174, 'pepper': 1302, 'course': 402, 'none': 1192, 'hopefully': 876, 'bodes': 213, 'business': 257, 'someone': 1637, 'cook': 385, 'either': 576, 'cold': 351, 'wrapped': 2013, 'dates': 442, 'unbelievable': 1863, 'bargain': 143, 'folks': 695, 'otto': 1242, 'make': 1070, 'welcome': 1961, 'special': 1657, 'mains': 1068, 'uninspired': 1872, 'stop': 1697, 'whenever': 1970, 'isn': 944, 'then': 1784, 'dealing': 447, 'world': 2003, 'annoying': 67, 'drunk': 551, 'fun': 729, 'chef': 318, 'double': 526, 'cheeseburger': 316, 'single': 1612, 'patty': 1291, 'falling': 640, 'apart': 77, 'picture': 1319, 'uploaded': 1885, 'yeah': 2019, 'couple': 399, 'sporting': 1667, 'events': 605, 'walls': 1932, 'covered': 406, 'tv': 1859, 'possible': 1359, 'descriptions': 474, 'yum': 2031, 'eel': 569, 'yet': 2025, 'mayo': 1089, 'sauces': 1535, 'hardest': 823, 'decision': 451, 'honestly': 872, 'supposed': 1736, 'rolled': 1499, 'eyes': 632, 'stayed': 1682, 'providing': 1393, 'money': 1138, 'flavourful': 687, 'almost': 52, 'building': 249, 'freezing': 711, 'reviewer': 1478, 'couldn': 397, 'close': 342, 'point': 1348, 'flavorful': 684, 'delights': 468, 'ayce': 125, 'lighting': 1014, 'dark': 440, 'set': 1576, 'mood': 1141, 'based': 148, 'sub': 1715, 'par': 1276, 'received': 1439, 'effort': 572, 'show': 1597, 'gratitude': 774, 'owner': 1260, 'privileged': 1378, 'working': 2001, 'creamy': 417, 'parents': 1278, 'most': 1145, 'similar': 1607, 'complaints': 365, 'silently': 1606, 'pizza': 1328, 'peanut': 1295, 'fast': 649, 'godfathers': 759, 'tough': 1834, 'short': 1593, 'sticks': 1691, 'few': 662, 'recall': 1438, 'charged': 308, 'tap': 1752, 'exquisite': 626, 'generous': 742, 'plus': 1346, 'bucks': 245, 'thus': 1806, 'far': 647, 'visited': 1917, 'twice': 1860, 'self': 1562, 'proclaimed': 1381, 'coffee': 350, 'wildly': 1982, 'veggitarian': 1902, 'platter': 1338, 'cant': 281, 'wrong': 2015, 'madison': 1063, 'ironman': 942, 'chefs': 319, 'job': 957, 'from': 720, 'dedicated': 454, 'boba': 212, 'tea': 1762, 'spots': 1669, 'jenni': 954, 'patio': 1288, 'outstanding': 1250, 'goat': 758, 'taco': 1745, 'skimp': 1616, 'mac': 1059, 'bachi': 129, 'stinks': 1693, 'recommend': 1443, 'salads': 1517, 'burned': 254, 'saganaki': 1514, '100': 2, 'hate': 827, 'disagree': 496, 'fellow': 660, 'yelpers': 2024, 'hours': 886, 'pizzas': 1329, 'later': 992, 'why': 1978, 'neighborhood': 1178, 'convenient': 384, 'location': 1033, 'pulled': 1398, 'soooo': 1644, 'incredibly': 922, 'prepared': 1368, 'gave': 738, 'star': 1676, 'rating': 1422, 'please': 1342, 'third': 1795, 'writing': 2014, 'review': 1477, 'stay': 1681, 'stir': 1694, 'fried': 715, 'noodles': 1193, 'chip': 324, 'count': 398, 'box': 225, '12': 4, 'boring': 218, 'greedy': 780, 'corporation': 390, 'dime': 488, 'atrocious': 108, 'summer': 1731, 'charming': 309, 'outdoor': 1246, 'delightful': 467, 'expect': 618, 'toasted': 1815, 'english': 587, 'muffin': 1154, 'untoasted': 1879, 'high': 854, 'house': 887, 'bus': 256, 'boy': 227, 'hand': 812, 'friends': 718, 'basically': 149, 'figured': 664, 'joke': 961, 'making': 1071, 'publicly': 1396, 'loudly': 1044, 'bbq': 155, 'lighter': 1013, 'fare': 648, 'reasonable': 1435, 'pricing': 1376, 'public': 1395, 'ways': 1951, 'two': 1861, 'happy': 821, 'downside': 533, 'without': 1991, 'doubt': 527, 'exceptional': 615, 'months': 1140, 'returned': 1475, 'favorite': 653, 'shawarrrrrrma': 1584, 'black': 198, 'eyed': 631, 'peas': 1298, 'unreal': 1876, 'serve': 1568, 'vinaigrette': 1913, 'seen': 1559, 'especially': 597, '00': 0, 'mom': 1137, 'bites': 196, 'pleasant': 1341, 'honor': 873, 'hut': 899, 'coupons': 401, 'truly': 1851, 'unbelievably': 1864, 'pleased': 1343, 'dirty': 495, 'seat': 1551, 'covers': 407, 'replenished': 1467, 'plain': 1333, 'yucky': 2029, 'standard': 1675, '17': 6, 'omg': 1220, 'delicioso': 463, 'authentic': 115, 'spaghetti': 1656, 'whatsoever': 1967, 'vegetables': 1899, 'feels': 657, 'driving': 549, 'tucson': 1854, 'chipotle': 326, 'classy': 339, 'succulent': 1718, 'baseball': 147, 'brick': 235, 'oven': 1252, 'app': 80, 'multiple': 1156, 'ten': 1767, 'finally': 670, 'terrible': 1771, 'equally': 596, 'shouldn': 1596, 'pancakes': 1272, 'eggs': 575, 'genuinely': 743, 'enthusiastic': 593, 'treat': 1842, 'sadly': 1512, 'gordon': 767, 'ramsey': 1412, 'shall': 1582, 'sharply': 1583, 'evening': 603, 'life': 1011, 'bathroom': 151, 'door': 524, 'offered': 1209, 'tasted': 1757, 'cool': 388, 'turn': 1858, 'else': 579, 'buying': 263, 'handling': 815, 'large': 985, 'rowdy': 1504, 'find': 671, 'despicable': 477, 'soup': 1651, 'lukewarm': 1057, 'craving': 413, 'deserves': 475, 'stomach': 1695, 'ache': 33, 'rest': 1470, 'dropped': 550, 'ball': 136, 'space': 1655, 'tiny': 1810, 'elegantly': 577, 'comfortable': 359, 'customize': 435, 'usual': 1889, 'eggplant': 574, 'green': 782, 'bean': 157, 'fry': 725, 'beans': 158, 'outta': 1251, 'part': 1279, 'inconsiderate': 920, 'says': 1540, 'hi': 853, 'dinners': 492, 'outshining': 1248, 'halibut': 809, 'told': 1818, 'happened': 819, 'car': 284, 'breaks': 233, 'front': 721, 'starving': 1679, '90': 21, 'disgrace': 505, 'def': 457, 'ethic': 600, 'continue': 383, 'andddd': 65, 'date': 441, 'anyone': 72, 'past': 1284, 'stuffed': 1711, 'located': 1032, 'crystals': 429, 'shopping': 1591, 'mall': 1072, 'aria': 93, 'summarize': 1729, 'nay': 1170, 'transcendant': 1840, 'brings': 237, 'joy': 962, 'memory': 1108, 'pneumatic': 1347, 'condiment': 373, 'dispenser': 512, 'ians': 900, 'kids': 974, 'lots': 1043, 'options': 1232, 'kiddos': 973, 'perfect': 1303, 'family': 642, 'perfection': 1304, 'impeccable': 913, 'simply': 1610, 'disappointment': 500, 'bouchon': 222, 'accountant': 32, 'screwed': 1545, 'reminds': 1466, 'pop': 1354, 'shops': 1592, 'san': 1525, 'francisco': 708, 'buldogis': 250, 'gourmet': 770, 'frustrated': 724, 'petty': 1313, 'total': 1829, 'iced': 902, 'hungry': 896, 'assure': 104, 'trying': 1853, 'teeth': 1764, 'sore': 1646, 'completely': 367, 'enjoyed': 590, 'become': 165, 'regular': 1456, 'needs': 1176, 'professional': 1382, 'until': 1878, 'end': 585, 'dinner': 491, 'companions': 362, 'ground': 792, 'smeared': 1624, 'tracked': 1837, 'everywhere': 610, 'pile': 1322, 'bird': 189, 'poop': 1351, 'furthermore': 732, 'operation': 1228, 'website': 1955, 'mistake': 1131, 'expert': 625, 'connisseur': 374, 'topic': 1826, 'jerk': 955, 'strike': 1705, 'wants': 1935, 'rushed': 1509, 'nicest': 1184, 'owners': 1261, 'across': 35, 'biscuits': 191, 'appetizer': 85, '40': 14, 'absolutley': 27, 'awkward': 123, '5lb': 18, 'cow': 408, '4ths': 17, 'gristle': 788, 'fat': 650, 'steiners': 1687, 'bar': 140, 'dollars': 519, 'anyway': 75, 'fs': 726, 'week': 1957, 'mention': 1109, 'combination': 355, 'pears': 1297, 'almonds': 51, 'big': 184, 'winner': 1987, 'spicier': 1664, 'prefer': 1366, 'ribeye': 1485, 'mesquite': 1112, 'anytime': 74, 'gooodd': 766, 'connoisseur': 375, 'difference': 486, 'certainly': 301, 'contained': 381, 'driest': 543, 'mouthful': 1148, 'enjoyable': 589, 'relaxed': 1461, 'venue': 1907, 'couples': 400, 'groups': 794, 'etc': 599, 'nargile': 1168, 'tater': 1761, 'tots': 1831, 'southwest': 1654, 'paid': 1266, 'vanilla': 1894, 'smooth': 1628, 'profiterole': 1383, 'choux': 330, 'pastry': 1287, 'im': 907, 'az': 126, 'new': 1181, 'manager': 1076, 'carly': 288, 'due': 555, 'acknowledged': 34, '35': 13, 'forgetting': 702, 'margaritas': 1080, 'disappoint': 497, 'ventilation': 1904, 'upgrading': 1884, 'letdown': 1007, 'rather': 1421, 'camelback': 277, 'flower': 690, 'shop': 1590, 'cartel': 291, 'trimmed': 1846, 'group': 793, '70': 19, 'claimed': 335, 'handled': 814, 'beautifully': 162, 'bill': 187, 'bring': 236, 'jewel': 956, 'las': 988, 'exactly': 611, 'hoping': 878, 'nearly': 1171, 'living': 1029, 'limited': 1021, 'boiled': 214, 'crab': 410, 'legs': 1003, 'toro': 1828, 'tartare': 1755, 'cavier': 300, 'extraordinary': 629, 'thinly': 1794, 'sliced': 1618, 'wagyu': 1923, 'truffle': 1850, 'dont': 522, 'long': 1034, 'attached': 109, 'gas': 737, 'sign': 1604, 'awesome': 121, 'decide': 449, 'worse': 2005, 'humiliated': 893, 'worker': 1999, 'bunch': 251, 'name': 1166, 'callings': 275, 'conclusion': 372, 'filling': 668, 'meals': 1092, 'daily': 438, 'specials': 1658, 'tragedy': 1839, 'struck': 1708, 'pancake': 1271, 'crawfish': 414, 'monster': 1139, 'funny': 730, 'multi': 1155, 'grain': 772, 'pumpkin': 1399, 'pecan': 1299, 'fluffy': 691, 'airline': 45, 'noca': 1190, 'gyro': 802, 'lettuce': 1009, 'thoroughly': 1798, 'homemade': 869, 'pastas': 1286, 'thin': 1789, 'cheesecurds': 317, 'typical': 1862, 'glance': 753, 'lovely': 1047, 'finger': 673, 'item': 947, 'such': 1719, 'beauty': 163, 'haven': 831, 'gone': 763, 'greasy': 777, 'unhealthy': 1871, 'might': 1119, 'those': 1799, 'similarly': 1608, 'delivery': 471, 'man': 1073, 'apology': 79, '45': 16, 'expensive': 621, 'need': 1173, 'pack': 1264, 'tiramisu': 1812, 'cannoli': 279, 'sun': 1732, 'whole': 1977, 'meats': 1098, 'choose': 329, 'experienced': 623, 'frenchman': 712, 'desserts': 480, 'martini': 1084, 'opinion': 1229, 'entrees': 595, 'gc': 739, 'sample': 1524, 'thirty': 1796, 'vacant': 1890, 'yellowtail': 2023, 'carpaccio': 289, 'strangers': 1701, 'actually': 37, 'hello': 846, 'strange': 1700, 'boyfriend': 228, 'recent': 1441, 'donut': 523, 'saving': 1537, 'room': 1501, 'maybe': 1088, 'disgraceful': 506, 'however': 889, 'particular': 1280, 'suffers': 1724, 'tapas': 1753, 'vinegrette': 1914, 'baby': 128, 'greens': 783, 'hearts': 840, 'palm': 1269, 'disgusting': 509, 'believe': 174, 'hankering': 818, 'forth': 703, 'helped': 848, 'consider': 376, 'theft': 1780, 'eew': 570, 'complete': 366, 'overhaul': 1256, 'recently': 1442, 'witnessed': 1992, 'guests': 799, 'regularly': 1457, 'super': 1735, 'swung': 1742, 'deeply': 456, 'efficient': 571, 'fan': 644, 'sucker': 1722, 'dry': 552, 'rated': 1420, '15': 5, 'setting': 1577, 'cheap': 310, 'olives': 1218, 'perpared': 1308, 'presentation': 1370, 'giant': 747, 'slices': 1619, 'toast': 1814, 'lightly': 1015, 'dusted': 558, 'powdered': 1364, 'sugar': 1725, 'play': 1339, 'fo': 693, 'accomodate': 30, 'vegan': 1897, 'veggie': 1901, 'crumby': 426, 'pale': 1268, 'color': 354, 'instead': 935, 'croutons': 423, 'trips': 1849, 'crema': 418, 'café': 269, 'expanded': 617, 'miss': 1128, 'wish': 1989, 'philadelphia': 1315, 'sitting': 1614, 'fairly': 638, 'crisp': 420, 'satisfying': 1533, 'wanted': 1934, 'north': 1194, 'scottsdale': 1543, 'quit': 1410, 'freaking': 709, 'papers': 1275, 'reheated': 1458, 'ok': 1215, 'wedges': 1956, 'sorry': 1648, 'absolute': 25, 'tongue': 1821, 'cheek': 314, 'bloody': 207, 'despite': 478, 'rate': 1419, 'businesses': 258, 'its': 948, 'grilled': 786, 'yellow': 2022, 'saffron': 1513, 'seasoning': 1550, 'thru': 1804, 'means': 1094, 'half': 808, 'somehow': 1636, 'luck': 1055, 'non': 1191, 'focused': 694, 'grandmother': 773, 'list': 1023, 'ignored': 906, 'hostess': 882, 'myself': 1163, 'boys': 229, 'four': 707, 'guy': 800, 'blue': 211, 'shirt': 1586, 'vibe': 1912, 'letting': 1008, 'same': 1523, 'him': 860, 'drastically': 536, 'caesar': 267, 'promptly': 1387, 'madhouse': 1062, 'proven': 1390, 'dead': 445, 'greatest': 779, 'moods': 1142, 'macarons': 1060, 'insanely': 931, 'informative': 929, 'weren': 1965, 'somewhat': 1640, 'edible': 566, 'promise': 1385, 'fails': 636, 'deliver': 470, 'average': 116, 'plater': 1337, 'relax': 1460, 'sit': 1613, 'together': 1817, 'poorly': 1353, 'constructed': 379, 'seating': 1553, 'italian': 946, 'screams': 1544, 'legit': 1002, 'book': 216, 'somethat': 1638, 'duo': 556, 'violinists': 1915, 'songs': 1642, 'requested': 1468, 'personally': 1311, 'baklava': 135, 'falafels': 639, 'baba': 127, 'ganoush': 734, 'staying': 1683, 'mgm': 1116, 'courteous': 404, 'eclectic': 565, 'onion': 1225, 'rings': 1491, 'pictures': 1320, 'work': 1998, 'nobu': 1189, 'google': 765, 'imagine': 910, 'smashburger': 1623, 'lover': 1048, 'gem': 740, 'plantains': 1334, 'giving': 751, 'spends': 1661, 'talking': 1751, 'themselves': 1783, 'panna': 1273, 'cotta': 395, 'fail': 635, 'flavors': 686, 'slaw': 1617, 'drenched': 539, 'piano': 1318, 'soundtrack': 1650, 'rge': 1482, 'fillet': 667, 'relleno': 1462, 'plate': 1336, 'sergeant': 1565, 'auju': 114, 'hawaiian': 833, 'breeze': 234, 'mango': 1078, 'magic': 1065, 'pineapple': 1324, 'smoothies': 1629, 'mortified': 1144, 'needless': 1175, 'anyways': 76, 'dripping': 547, 'mostly': 1146, '2007': 9, 'serving': 1575, 'hospitality': 880, 'industry': 926, 'paradise': 1277, 'refrained': 1451, 'recommending': 1446, 'cibo': 333, 'longer': 1035, 'orders': 1237, 'mean': 1093, 'famous': 643, 'mouths': 1149, 'bellies': 176, 'reading': 1430, 'reminded': 1465, 'pros': 1389, 'simple': 1609, 'dough': 529, 'tonight': 1822, 'elk': 578, 'hooked': 874, 'classics': 338, 'sorely': 1647, 'quaint': 1404, 'deliciously': 465, 'compliments': 368, 'thanks': 1776, 'dylan': 559, 'tummy': 1855, 'gratuity': 775, 'larger': 987, 'fly': 692, 'apple': 87, 'juice': 965, 'han': 811, 'nan': 1167, 'barely': 142, 'ryan': 1510, 'edinburgh': 567, 'revisiting': 1481, 'chinese': 323, 'naan': 1164, 'pine': 1323, 'nut': 1201, 'touched': 1833, 'airport': 46, 'speedy': 1659, 'calligraphy': 274, 'paper': 1274, 'anything': 73, 'complain': 364, 'stood': 1696, 'begin': 171, 'awkwardly': 124, 'opened': 1227, 'guest': 798, 'extensive': 627, 'provides': 1392, 'wide': 1979, 'array': 95, 'inflate': 928, 'smaller': 1622, 'grow': 795, 'rapidly': 1415, 'lil': 1020, 'fuzzy': 733, 'fabulous': 633, 'wontons': 1995, 'thick': 1788, 'level': 1010, 'spice': 1662, 'whelm': 1968, 'main': 1066, 'crowd': 424, 'older': 1217, 'mid': 1117, '30s': 12, 'arepas': 92, 'jalapeno': 950, 'thats': 1778, 'shoe': 1588, 'leather': 997, 'definately': 458, 'block': 204, 'low': 1052, 'key': 970, 'fancy': 645, 'affordable': 39, 'sour': 1653, 'soups': 1652, 'sunday': 1733, 'traditional': 1838, 'hunan': 895, 'style': 1713, 'bother': 220, 'flair': 680, 'bartenders': 146, 'nutshell': 1202, 'restaraunt': 1471, 'smells': 1626, 'market': 1082, 'sewer': 1580, 'girlfriend': 748, 'veal': 1896, 'satifying': 1531, 'join': 959, 'club': 344, 'offers': 1210, 'via': 1911, 'email': 581, 'likes': 1018, 'case': 292, 'colder': 352, 'flavorless': 685, 'describing': 473, 'tepid': 1770, 'chains': 303, 'easily': 561, 'nachos': 1165, 'words': 1997, 'does': 516, 'crazy': 415, 'crowds': 425, 'juries': 966, 'lawyers': 995, 'court': 403, 'arrives': 97, 'paying': 1293, '85': 20, 'looks': 1039, 'kid': 972, 'wienerschnitzel': 1980, 'idea': 903, 'classic': 337, 'maine': 1067, 'roll': 1498, 'brother': 239, 'law': 994, 'works': 2002, 'hereas': 852, 'tribute': 1844, 'event': 604, 'held': 843, 'salsa': 1520, 'pissd': 1326, 'surprise': 1738, 'golden': 762, 'hopes': 877, 'fell': 658, 'bruschetta': 243, 'devine': 482, 'employee': 582, 'lastly': 990, 'mozzarella': 1152, 'negligent': 1177, 'unwelcome': 1880, 'suggest': 1727, 'consistent': 378, 'packed': 1265, 'seasonal': 1548, 'fruit': 723, 'peach': 1294, 'officially': 1211, 'blown': 209, 'put': 1402, 'plastic': 1335, 'containers': 382, 'opposed': 1231, 'cramming': 411, 'takeout': 1749, 'boxes': 226, 'crêpe': 430, 'delicate': 462, 'awful': 122, 'fair': 637, 'kabuki': 968, 'services': 1574, 'maria': 1081, 'surprised': 1739, 'article': 99, 'read': 1428, 'spices': 1663, 'fucking': 727, 'caballero': 266, 'head': 835, 'oysters': 1262, 'round': 1503, 'disbelief': 503, 'qualified': 1405, 'version': 1909, 'foods': 698, 'tolerance': 1819, 'polite': 1350, 'wash': 1940, 'otherwise': 1241, 'biscuit': 190, 'heat': 841, 'hated': 828, 'coconut': 348, 'fella': 659, 'huevos': 890, 'rancheros': 1414, 'appealing': 83, 'wines': 1985, 'pricey': 1375, 'temp': 1766, 'prepare': 1367, 'bare': 141, 'gloves': 755, 'deep': 455, 'oil': 1214, 'pleasure': 1344, 'plethora': 1345, 'sandwiches': 1527, 'gets': 745, 'seal': 1547, 'approval': 88, 'light': 1012, 'college': 353, 'cooking': 387, 'class': 336, 'started': 1678, 'editing': 568, 'besides': 179, 'costco': 394, 'highlighted': 856, 'unique': 1873, 'weird': 1960, 'hardly': 824, 'grocery': 789, 'store': 1699, 'japanese': 952, 'dude': 554, 'aren': 91, 'doughy': 530, 'inch': 917, 'wire': 1988, 'ourselves': 1244, 'albondigas': 48, 'tomato': 1820, 'meatballs': 1096, 'three': 1802, 'occasions': 1206, 'medium': 1101, 'bloodiest': 206, 'refused': 1454, 'anymore': 71, 'killer': 975, 'chai': 302, 'latte': 993, 'allergy': 50, 'warnings': 1938, 'clue': 345, 'contain': 380, 'peanuts': 1296, 'mediterranean': 1100, 'rotating': 1502, 'beers': 169, 'highlight': 855, 'concern': 371, 'mellow': 1105, 'mushroom': 1157, 'strawberry': 1702, 'unprofessional': 1875, 'loyal': 1054, 'patron': 1289, 'spend': 1660, 'occasional': 1205, 'pats': 1290, 'bellagio': 175, 'anticipated': 69, 'weak': 1954, 'correct': 391, 'bought': 223, 'sals': 1519, 'returning': 1476, 'fav': 651, 'unexperienced': 1869, 'employees': 583, 'chickens': 322, 'heads': 836, 'call': 273, 'steakhouse': 1685, 'properly': 1388, 'understand': 1867, 'concept': 370, 'guacamole': 796, 'puréed': 1401, 'postinos': 1360, 'poisoning': 1349, 'batch': 150, 'thinking': 1793, 'yay': 2018, 'hilarious': 859, 'christmas': 332, 'eve': 601, 'remember': 1464, 'biggest': 186, 'entire': 594, 'caring': 287, 'teamwork': 1763, 'degree': 460, 'ri': 1483, 'calamari': 272, 'fondue': 696, 'lost': 1041, 'forever': 701, 'ones': 1224, 'scene': 1542, 'denny': 472, 'downright': 532, 'waaaaaayyyyyyyyyy': 1922, 'saying': 1539, 'lacked': 981, 'sangria': 1528, 'glass': 754, 'ridiculous': 1489, 'brisket': 238, 'neat': 1172, 'trippy': 1848, 'hurry': 897, 'reservation': 1469, 'stretch': 1704, 'imagination': 908, 'cashew': 294, 'undercooked': 1866, 'chipolte': 325, 'ranch': 1413, 'dipping': 493, 'sause': 1536, 'seemed': 1557, 'watered': 1948, 'workers': 2000, 'douchey': 528, 'indoor': 925, 'garden': 735, 'con': 369, 'spotty': 1670, 'neither': 1179, 'ensued': 592, 'apologize': 78, 'reason': 1434, 'fill': 666, 'binge': 188, 'drinking': 545, 'carbs': 285, 'insults': 937, 'profound': 1384, 'deuchebaggery': 481, 'smoke': 1627, 'solidify': 1634, 'combo': 356, 'ala': 47, 'cart': 290, 'blame': 200, 'placed': 1331, 'rave': 1424, 'del': 461, 'avoided': 119, 'hamburger': 810, 'hell': 844, 'gotten': 769, 'ya': 2016, 'doing': 518, 'shots': 1594, 'fireball': 675, 'disapppointment': 501, 'correction': 392, 'heimer': 842, 'putting': 1403, 'cause': 299, 'owned': 1259, 'vomited': 1919, 'circumstances': 334, 'tops': 1827, 'brownish': 241, 'obviously': 1204, 'below': 178, 'movies': 1150, 'ha': 804, 'flop': 689, 'problem': 1380, 'charge': 307, '11': 3, '99': 22, 'bigger': 185, 'unwrapped': 1881, 'mile': 1120, 'brushfire': 244, 'impressive': 915, 'hasn': 826, 'closed': 343, 'mirage': 1127, 'refried': 1453, 'dried': 542, 'crusty': 428, 'caterpillar': 297, 'appetite': 84, 'instantly': 934, 'ninja': 1187, 'hadn': 806, 'wasted': 1943, 'poured': 1363, 'wound': 2010, 'drawing': 537}\n",
      "             precision    recall  f1-score   support\n",
      "\n",
      "          0       0.86      0.67      0.75       136\n",
      "          1       0.69      0.87      0.77       114\n",
      "\n",
      "avg / total       0.78      0.76      0.76       250\n",
      "\n",
      "[[91 45]\n",
      " [15 99]]\n"
     ]
    },
    {
     "name": "stdout",
     "output_type": "stream",
     "text": [
      "13.1578947368\n",
      "33.0882352941\n",
      "{'wow': 2011, 'loved': 1046, 'this': 1797, 'place': 1330, 'crust': 427, 'is': 943, 'not': 1195, 'good': 764, 'tasty': 1760, 'and': 64, 'the': 1779, 'texture': 1773, 'was': 1939, 'just': 967, 'nasty': 1169, 'stopped': 1698, 'by': 264, 'during': 557, 'late': 991, 'may': 1087, 'bank': 139, 'holiday': 867, 'off': 1208, 'rick': 1488, 'steve': 1690, 'recommendation': 1444, 'it': 945, 'selection': 1560, 'on': 1221, 'menu': 1110, 'great': 778, 'so': 1630, 'were': 1964, 'prices': 1374, 'now': 1198, 'am': 57, 'getting': 746, 'angry': 66, 'want': 1933, 'my': 1162, 'damn': 439, 'pho': 1316, 'honeslty': 870, 'didn': 484, 'taste': 1756, 'that': 1777, 'fresh': 713, 'potatoes': 1362, 'like': 1016, 'rubber': 1505, 'you': 2026, 'could': 396, 'tell': 1765, 'they': 1787, 'had': 805, 'been': 167, 'made': 1061, 'up': 1882, 'ahead': 44, 'of': 1207, 'time': 1808, 'being': 173, 'kept': 969, 'under': 1865, 'warmer': 1937, 'fries': 719, 'too': 1823, 'touch': 1832, 'service': 1573, 'very': 1910, 'prompt': 1386, 'would': 2008, 'go': 757, 'back': 130, 'cashier': 295, 'no': 1188, 'care': 286, 'what': 1966, 'ever': 606, 'to': 1813, 'say': 1538, 'still': 1692, 'ended': 586, 'wayyy': 1952, 'overpriced': 1257, 'tried': 1845, 'cape': 282, 'cod': 349, 'ravoli': 1426, 'chicken': 321, 'with': 1990, 'cranberry': 412, 'mmmm': 1133, 'disgusted': 508, 'because': 164, 'pretty': 1371, 'sure': 1737, 'human': 892, 'hair': 807, 'shocked': 1587, 'signs': 1605, 'indicate': 924, 'cash': 293, 'only': 1226, 'highly': 858, 'recommended': 1445, 'waitress': 1928, 'little': 1026, 'slow': 1620, 'in': 916, 'worth': 2007, 'your': 2027, 'let': 1006, 'alone': 53, 'vegas': 1898, 'did': 483, 'at': 105, 'all': 49, 'burrittos': 255, 'blah': 199, 'food': 697, 'amazing': 58, 'also': 54, 'cute': 437, 'less': 1005, 'interior': 939, 'beautiful': 161, 'performed': 1306, 'right': 1490, 'red': 1447, 'velvet': 1903, 'cake': 270, 'ohhh': 1213, 'stuff': 1710, 'never': 1180, 'brought': 240, 'salad': 1516, 'we': 1953, 'asked': 102, 'for': 700, 'hole': 866, 'wall': 1931, 'has': 825, 'mexican': 1115, 'street': 1703, 'tacos': 1746, 'friendly': 717, 'staff': 1673, 'took': 1824, 'an': 63, 'hour': 885, 'get': 744, 'our': 1243, 'tables': 1744, 'restaurant': 1472, 'luke': 1056, 'warm': 1936, 'sever': 1578, 'running': 1508, 'around': 94, 'he': 834, 'totally': 1830, 'overwhelmed': 1258, 'worst': 2006, 'salmon': 1518, 'sashimi': 1529, 'there': 1785, 'are': 89, 'combos': 357, 'burger': 252, 'beer': 168, '23': 10, 'which': 1973, 'decent': 448, 'deal': 446, 'final': 669, 'blow': 208, 'found': 706, 'accident': 28, 'be': 156, 'happier': 820, 'seems': 1558, 'quick': 1408, 'grab': 771, 'bite': 195, 'some': 1635, 'familiar': 641, 'pub': 1394, 'but': 261, 'do': 515, 'yourself': 2028, 'favor': 652, 'look': 1036, 'elsewhere': 580, 'overall': 1254, 'lot': 1042, 'redeeming': 1448, 'quality': 1406, 'inexpensive': 927, 'ample': 62, 'portions': 1357, 'poor': 1352, 'waiter': 1926, 'me': 1090, 'feel': 655, 'stupid': 1712, 'every': 607, 'came': 276, 'table': 1743, 'first': 677, 'visit': 1916, 'hiro': 862, 'delight': 466, 'sucks': 1723, 'shrimp': 1600, 'tender': 1768, 'moist': 1135, 'enough': 591, 'drag': 535, 'into': 940, 'establishment': 598, 'again': 42, 'hard': 822, 'judge': 963, 'whether': 1972, 'these': 1786, 'sides': 1603, 'grossed': 791, 'out': 1245, 'melted': 1107, 'styrofoam': 1714, 'eat': 562, 'fear': 654, 'sick': 1601, 'positive': 1358, 'note': 1196, 'server': 1570, 'attentive': 112, 'provided': 1391, 'frozen': 722, 'pucks': 1397, 'disgust': 507, 'people': 1301, 'behind': 172, 'register': 1455, 'thing': 1790, 'prime': 1377, 'rib': 1484, 'dessert': 479, 'section': 1555, 'bad': 132, 'generic': 741, 'beef': 166, 'cooked': 386, 'if': 904, 'sandwich': 1526, 'any': 70, 'firehouse': 676, 'side': 1602, 'greek': 781, 'dressing': 541, 'pita': 1327, 'hummus': 894, 'refreshing': 1452, 'ordered': 1235, 'duck': 553, 'rare': 1416, 'pink': 1325, 'inside': 932, 'nice': 1183, 'char': 305, 'outside': 1249, 'after': 40, 'us': 1886, 'when': 1969, 'realized': 1432, 'husband': 898, 'left': 1000, 'his': 863, 'sunglasses': 1734, 'their': 1781, 'chow': 331, 'mein': 1104, 'have': 830, 'horrible': 879, 'attitudes': 113, 'towards': 1835, 'customers': 434, 'talk': 1750, 'down': 531, 'each': 560, 'one': 1223, 'don': 520, 'enjoy': 588, 'portion': 1356, 'huge': 891, 'servers': 1571, 'wonderful': 1994, 'imaginative': 909, 'heart': 839, 'attack': 110, 'grill': 785, 'downtown': 534, 'absolutely': 26, 'flat': 681, 'lined': 1022, 'excuse': 616, 'much': 1153, 'seafood': 1546, 'strings': 1706, 'pasta': 1285, 'bottom': 221, 'amount': 61, 'sauce': 1534, 'over': 1253, 'power': 1365, 'scallop': 1541, 'perfectly': 1305, 'ripped': 1493, 'banana': 138, 'petrified': 1312, 'tasteless': 1758, 'least': 996, 'think': 1792, 'refill': 1450, 'water': 1947, 'before': 170, 'struggle': 1709, 'wave': 1949, '10': 1, 'minutes': 1126, 'receives': 1440, 'stars': 1677, 'appetizers': 86, 'cocktails': 347, 'handmade': 816, 'delicious': 464, 'definitely': 459, 'here': 851, 'glad': 752, 'give': 749, 'military': 1121, 'discount': 504, 'always': 56, 'dos': 525, 'gringos': 787, 'update': 1883, 'went': 1963, 'second': 1554, 'as': 100, 'got': 768, 'apparently': 82, 'heard': 838, 'salt': 1521, 'batter': 153, 'fish': 678, 'chewy': 320, 'way': 1950, 'finish': 674, 'included': 918, 'tastings': 1759, 'drinks': 546, 'jeff': 953, 'above': 24, 'beyond': 183, 'expected': 620, 'really': 1433, 'rice': 1486, 'meh': 1103, '30': 11, 'min': 1124, 'milkshake': 1123, 'nothing': 1197, 'more': 1143, 'than': 1775, 'chocolate': 328, 'milk': 1122, 'guess': 797, 'should': 1595, 'known': 979, 'suck': 1720, 'excalibur': 612, 'use': 1887, 'common': 361, 'sense': 1564, 'dish': 510, 'quite': 1411, 'appalling': 81, 'value': 1893, 'well': 1962, 'times': 1809, 'customer': 433, 'sweet': 1741, 'potato': 1361, 'seasoned': 1549, 'today': 1816, 've': 1895, 'lunch': 1058, 'buffet': 246, 'cheated': 311, 'wasting': 1944, 'eating': 564, 'opportunity': 1230, 'going': 760, 'company': 363, 'coming': 360, 'experiencing': 624, 'underwhelming': 1868, 'relationship': 1459, 'where': 1971, 'both': 219, 'parties': 1281, 'can': 278, 'wait': 1924, 'other': 1239, 'person': 1309, 'ask': 101, 'break': 231, 'walked': 1930, 'smelled': 1625, 'old': 1216, 'grease': 776, 'trap': 1841, 'others': 1240, 'turkey': 1857, 'roast': 1495, 'bland': 201, 'pan': 1270, 'cakes': 271, 'everyone': 608, 'raving': 1425, 'about': 23, 'sugary': 1726, 'disaster': 502, 'tailored': 1747, 'palate': 1267, 'six': 1615, 'year': 2020, 'love': 1045, 'spring': 1671, 'rolls': 1500, 'oh': 1212, 'yummy': 2032, 'try': 1852, 'meat': 1095, 'ratio': 1423, 'tenders': 1769, 'unsatisfying': 1877, 'omelets': 1219, 'die': 485, 'everything': 609, 'summary': 1730, 'largely': 986, 'disappointing': 499, 'dining': 490, 'experience': 622, 'sexy': 1581, 'party': 1282, 'mouth': 1147, 're': 1427, 'outrageously': 1247, 'flirting': 688, 'hottest': 884, 'rock': 1497, 'casino': 296, 'will': 1983, 'step': 1688, 'forward': 705, 'best': 180, 'breakfast': 232, 'bye': 265, 'tip': 1811, 'lady': 984, 'll': 1030, 'arrived': 96, 'quickly': 1409, 'cafe': 268, 'serves': 1572, 'fantastic': 646, 'wife': 1981, 'loves': 1050, 'roasted': 1496, 'garlic': 736, 'bone': 215, 'marrow': 1083, 'added': 38, 'extra': 628, 'meal': 1091, 'another': 68, 'helpful': 849, 'bloddy': 205, 'mary': 1085, 'town': 1836, 'price': 1372, 'cannot': 280, 'beat': 159, 'mussels': 1160, 'wine': 1984, 'reduction': 1449, 'dishes': 511, 'better': 181, 'buffets': 247, 'tigerlilly': 1807, 'afternoon': 41, 'bartender': 145, 'personable': 1310, 'ambience': 60, 'music': 1159, 'playing': 1340, 'next': 1182, 'trip': 1847, 'sooooo': 1645, 'real': 1431, 'sushi': 1740, 'lovers': 1049, 'honest': 871, 'yama': 2017, '40min': 15, 'passed': 1283, 'between': 182, 'ordering': 1236, 'arriving': 98, 'wasn': 1941, 'busy': 260, 'thai': 1774, 'spicy': 1665, 'check': 312, 'gross': 790, 'atmosphere': 107, 'kind': 976, 'mess': 1113, 'steak': 1684, 'although': 55, 'liked': 1017, 'sound': 1649, 'actual': 36, 'bit': 193, 'know': 978, 'how': 888, 'managed': 1074, 'served': 1569, 'blandest': 202, 'eaten': 563, 'preparing': 1369, 'indian': 923, 'cuisine': 431, 'boot': 217, 'worries': 2004, 'fine': 672, 'guys': 801, 'steaks': 1686, 'loving': 1051, 'son': 1641, 'who': 1976, 'places': 1332, 'said': 1515, 'thought': 1801, 'venture': 1905, 'further': 731, 'away': 120, 'hit': 864, 'spot': 1668, 'night': 1185, 'host': 881, 'lack': 980, 'word': 1996, 'bitches': 194, 'liking': 1019, 'number': 1200, 'reasons': 1437, 'waste': 1942, 'reviewing': 1479, 'leave': 998, 'phenomenal': 1314, 'ambiance': 59, 'wouldn': 2009, 'return': 1474, 'venturing': 1906, 'strip': 1707, 'pork': 1355, 'belly': 177, 'mediocre': 1099, 'penne': 1300, 'vodka': 1918, 'excellent': 614, 'including': 919, 'massive': 1086, 'meatloaf': 1097, 'crispy': 421, 'wrap': 2012, 'delish': 469, 'tuna': 1856, 'melt': 1106, 'burgers': 253, 'management': 1075, 'rude': 1506, 'nyc': 1203, 'bagels': 133, 'selections': 1561, 'cream': 416, 'cheese': 315, 'lox': 1053, 'capers': 283, 'even': 602, 'subway': 1717, 'fact': 634, 'come': 358, 'meet': 1102, 'expectations': 619, 'seriously': 1566, 'solid': 1633, 'bars': 144, 'extremely': 630, 'many': 1079, 'restaurants': 1473, 'dine': 489, 'weekend': 1958, 'drink': 544, 'empty': 584, 'suggestions': 1728, 'or': 1233, 'rarely': 1417, 'checked': 313, 'ate': 106, 'disappointed': 498, 'curry': 432, 'bamboo': 137, 'shoots': 1589, 'blanket': 203, 'moz': 1151, 'top': 1825, 'done': 521, 'cover': 405, 'subpar': 1716, 'bathrooms': 152, 'clean': 340, 'itself': 949, 'decorated': 453, 'changing': 304, 'considering': 377, 'pace': 1263, 'thumbs': 1805, 'watched': 1946, 'pay': 1292, 'attention': 111, 'ignore': 905, 'fiancé': 663, 'middle': 1118, 'day': 444, 'greeted': 784, 'seated': 1552, 'mandalay': 1077, 'bay': 154, 'waited': 1925, 'forty': 704, 'five': 679, 'vain': 1891, 'crostini': 422, 'stale': 1674, 'highlights': 857, 'nigiri': 1186, 'joint': 960, 'different': 487, 'cut': 436, 'piece': 1321, 'flavored': 683, 'voodoo': 1920, 'since': 1611, 'gluten': 756, 'free': 710, 'several': 1579, 'years': 2021, 'ago': 43, 'unfortunately': 1870, 'must': 1161, 'bakery': 134, 'leftover': 1001, 'relocated': 1463, 'impressed': 914, 'immediately': 912, 'diverse': 514, 'reasonably': 1436, 'priced': 1373, 'avoid': 118, 'cost': 393, 'full': 728, 'hands': 817, 'phoenix': 1317, 'metro': 1114, 'area': 90, 'looking': 1038, 'treated': 1843, 'bacon': 131, 'hella': 845, 'salty': 1522, 'spinach': 1666, 'avocado': 117, 'ingredients': 930, 'sad': 1511, 'literally': 1025, 'zero': 2033, 'used': 1888, 'menus': 1111, 'handed': 813, 'ladies': 983, 'listed': 1024, 'waitresses': 1929, 'lordy': 1040, 'khao': 971, 'soi': 1632, 'missed': 1129, 'terrific': 1772, 'thrilled': 1803, 'accommodations': 29, 'vegetarian': 1900, 'daughter': 443, 'perhaps': 1307, 'caught': 298, 'them': 1782, 'judging': 964, 'reviews': 1480, 'inspired': 933, 'leaves': 999, 'desired': 476, 'modern': 1134, 'hip': 861, 'while': 1974, 'maintaining': 1069, 'coziness': 409, 'weekly': 1959, 'haunt': 829, 'once': 1222, 'sat': 1530, '20': 8, 'asking': 103, 'take': 1748, 'order': 1234, 'flavor': 682, 'overcooked': 1255, 'charcoal': 306, 'decided': 450, 'send': 1563, 'looked': 1037, 'she': 1585, 'verge': 1908, 'having': 832, 'dressed': 540, 'rudely': 1507, 'probably': 1379, 'dirt': 494, 'hits': 865, 'something': 1639, 'healthy': 837, 'lacking': 982, 'quantity': 1407, 'lemon': 1004, 'raspberry': 1418, 'ice': 901, 'cocktail': 346, 'incredible': 921, 'sucked': 1721, 'imagined': 911, 'interesting': 938, 'decor': 452, 'crepe': 419, 'station': 1680, 'hot': 883, 'bread': 230, 'butter': 262, 'home': 868, 'chips': 327, 'bits': 197, 'original': 1238, 'watch': 1945, 'egg': 573, 'gyros': 803, 'missing': 1130, 'wings': 1986, 'feeling': 656, 'satisfied': 1532, 'joey': 958, 'voted': 1921, 'dog': 517, 'valley': 1892, 'readers': 1429, 'magazine': 1064, 'bowl': 224, 'live': 1027, 'fridays': 714, 'blows': 210, 'insulted': 936, 'felt': 661, 'disrespected': 513, 'drive': 548, 'things': 1791, 'exceeding': 613, 'hope': 875, 'dreamed': 538, 'serivce': 1567, 'help': 847, 'brunch': 242, 'inviting': 941, 'lived': 1028, '1979': 7, 'last': 989, 'stepped': 1689, 'foot': 699, 'mixed': 1132, 'mushrooms': 1158, 'yukon': 2030, 'gold': 761, 'puree': 1400, 'white': 1975, 'corn': 389, 'beateous': 160, 'bug': 248, 'showed': 1598, 'given': 750, 'climbing': 341, 'kitchen': 977, 'waiting': 1927, 'her': 850, 'soon': 1643, 'friend': 716, 'tartar': 1754, 'won': 1993, 'though': 1800, 'soggy': 1631, 'jamaican': 951, 'mojitos': 1136, 'small': 1621, 'rich': 1487, 'accordingly': 31, 'shower': 1599, 'rinse': 1492, 'unless': 1874, 'mind': 1125, 'nude': 1199, 'see': 1556, 'lobster': 1031, 'bisque': 192, 'bussell': 259, 'sprouts': 1672, 'risotto': 1494, 'filet': 665, 'needed': 1174, 'pepper': 1302, 'course': 402, 'none': 1192, 'hopefully': 876, 'bodes': 213, 'business': 257, 'someone': 1637, 'cook': 385, 'either': 576, 'cold': 351, 'wrapped': 2013, 'dates': 442, 'unbelievable': 1863, 'bargain': 143, 'folks': 695, 'otto': 1242, 'make': 1070, 'welcome': 1961, 'special': 1657, 'mains': 1068, 'uninspired': 1872, 'stop': 1697, 'whenever': 1970, 'isn': 944, 'then': 1784, 'dealing': 447, 'world': 2003, 'annoying': 67, 'drunk': 551, 'fun': 729, 'chef': 318, 'double': 526, 'cheeseburger': 316, 'single': 1612, 'patty': 1291, 'falling': 640, 'apart': 77, 'picture': 1319, 'uploaded': 1885, 'yeah': 2019, 'couple': 399, 'sporting': 1667, 'events': 605, 'walls': 1932, 'covered': 406, 'tv': 1859, 'possible': 1359, 'descriptions': 474, 'yum': 2031, 'eel': 569, 'yet': 2025, 'mayo': 1089, 'sauces': 1535, 'hardest': 823, 'decision': 451, 'honestly': 872, 'supposed': 1736, 'rolled': 1499, 'eyes': 632, 'stayed': 1682, 'providing': 1393, 'money': 1138, 'flavourful': 687, 'almost': 52, 'building': 249, 'freezing': 711, 'reviewer': 1478, 'couldn': 397, 'close': 342, 'point': 1348, 'flavorful': 684, 'delights': 468, 'ayce': 125, 'lighting': 1014, 'dark': 440, 'set': 1576, 'mood': 1141, 'based': 148, 'sub': 1715, 'par': 1276, 'received': 1439, 'effort': 572, 'show': 1597, 'gratitude': 774, 'owner': 1260, 'privileged': 1378, 'working': 2001, 'creamy': 417, 'parents': 1278, 'most': 1145, 'similar': 1607, 'complaints': 365, 'silently': 1606, 'pizza': 1328, 'peanut': 1295, 'fast': 649, 'godfathers': 759, 'tough': 1834, 'short': 1593, 'sticks': 1691, 'few': 662, 'recall': 1438, 'charged': 308, 'tap': 1752, 'exquisite': 626, 'generous': 742, 'plus': 1346, 'bucks': 245, 'thus': 1806, 'far': 647, 'visited': 1917, 'twice': 1860, 'self': 1562, 'proclaimed': 1381, 'coffee': 350, 'wildly': 1982, 'veggitarian': 1902, 'platter': 1338, 'cant': 281, 'wrong': 2015, 'madison': 1063, 'ironman': 942, 'chefs': 319, 'job': 957, 'from': 720, 'dedicated': 454, 'boba': 212, 'tea': 1762, 'spots': 1669, 'jenni': 954, 'patio': 1288, 'outstanding': 1250, 'goat': 758, 'taco': 1745, 'skimp': 1616, 'mac': 1059, 'bachi': 129, 'stinks': 1693, 'recommend': 1443, 'salads': 1517, 'burned': 254, 'saganaki': 1514, '100': 2, 'hate': 827, 'disagree': 496, 'fellow': 660, 'yelpers': 2024, 'hours': 886, 'pizzas': 1329, 'later': 992, 'why': 1978, 'neighborhood': 1178, 'convenient': 384, 'location': 1033, 'pulled': 1398, 'soooo': 1644, 'incredibly': 922, 'prepared': 1368, 'gave': 738, 'star': 1676, 'rating': 1422, 'please': 1342, 'third': 1795, 'writing': 2014, 'review': 1477, 'stay': 1681, 'stir': 1694, 'fried': 715, 'noodles': 1193, 'chip': 324, 'count': 398, 'box': 225, '12': 4, 'boring': 218, 'greedy': 780, 'corporation': 390, 'dime': 488, 'atrocious': 108, 'summer': 1731, 'charming': 309, 'outdoor': 1246, 'delightful': 467, 'expect': 618, 'toasted': 1815, 'english': 587, 'muffin': 1154, 'untoasted': 1879, 'high': 854, 'house': 887, 'bus': 256, 'boy': 227, 'hand': 812, 'friends': 718, 'basically': 149, 'figured': 664, 'joke': 961, 'making': 1071, 'publicly': 1396, 'loudly': 1044, 'bbq': 155, 'lighter': 1013, 'fare': 648, 'reasonable': 1435, 'pricing': 1376, 'public': 1395, 'ways': 1951, 'two': 1861, 'happy': 821, 'downside': 533, 'without': 1991, 'doubt': 527, 'exceptional': 615, 'months': 1140, 'returned': 1475, 'favorite': 653, 'shawarrrrrrma': 1584, 'black': 198, 'eyed': 631, 'peas': 1298, 'unreal': 1876, 'serve': 1568, 'vinaigrette': 1913, 'seen': 1559, 'especially': 597, '00': 0, 'mom': 1137, 'bites': 196, 'pleasant': 1341, 'honor': 873, 'hut': 899, 'coupons': 401, 'truly': 1851, 'unbelievably': 1864, 'pleased': 1343, 'dirty': 495, 'seat': 1551, 'covers': 407, 'replenished': 1467, 'plain': 1333, 'yucky': 2029, 'standard': 1675, '17': 6, 'omg': 1220, 'delicioso': 463, 'authentic': 115, 'spaghetti': 1656, 'whatsoever': 1967, 'vegetables': 1899, 'feels': 657, 'driving': 549, 'tucson': 1854, 'chipotle': 326, 'classy': 339, 'succulent': 1718, 'baseball': 147, 'brick': 235, 'oven': 1252, 'app': 80, 'multiple': 1156, 'ten': 1767, 'finally': 670, 'terrible': 1771, 'equally': 596, 'shouldn': 1596, 'pancakes': 1272, 'eggs': 575, 'genuinely': 743, 'enthusiastic': 593, 'treat': 1842, 'sadly': 1512, 'gordon': 767, 'ramsey': 1412, 'shall': 1582, 'sharply': 1583, 'evening': 603, 'life': 1011, 'bathroom': 151, 'door': 524, 'offered': 1209, 'tasted': 1757, 'cool': 388, 'turn': 1858, 'else': 579, 'buying': 263, 'handling': 815, 'large': 985, 'rowdy': 1504, 'find': 671, 'despicable': 477, 'soup': 1651, 'lukewarm': 1057, 'craving': 413, 'deserves': 475, 'stomach': 1695, 'ache': 33, 'rest': 1470, 'dropped': 550, 'ball': 136, 'space': 1655, 'tiny': 1810, 'elegantly': 577, 'comfortable': 359, 'customize': 435, 'usual': 1889, 'eggplant': 574, 'green': 782, 'bean': 157, 'fry': 725, 'beans': 158, 'outta': 1251, 'part': 1279, 'inconsiderate': 920, 'says': 1540, 'hi': 853, 'dinners': 492, 'outshining': 1248, 'halibut': 809, 'told': 1818, 'happened': 819, 'car': 284, 'breaks': 233, 'front': 721, 'starving': 1679, '90': 21, 'disgrace': 505, 'def': 457, 'ethic': 600, 'continue': 383, 'andddd': 65, 'date': 441, 'anyone': 72, 'past': 1284, 'stuffed': 1711, 'located': 1032, 'crystals': 429, 'shopping': 1591, 'mall': 1072, 'aria': 93, 'summarize': 1729, 'nay': 1170, 'transcendant': 1840, 'brings': 237, 'joy': 962, 'memory': 1108, 'pneumatic': 1347, 'condiment': 373, 'dispenser': 512, 'ians': 900, 'kids': 974, 'lots': 1043, 'options': 1232, 'kiddos': 973, 'perfect': 1303, 'family': 642, 'perfection': 1304, 'impeccable': 913, 'simply': 1610, 'disappointment': 500, 'bouchon': 222, 'accountant': 32, 'screwed': 1545, 'reminds': 1466, 'pop': 1354, 'shops': 1592, 'san': 1525, 'francisco': 708, 'buldogis': 250, 'gourmet': 770, 'frustrated': 724, 'petty': 1313, 'total': 1829, 'iced': 902, 'hungry': 896, 'assure': 104, 'trying': 1853, 'teeth': 1764, 'sore': 1646, 'completely': 367, 'enjoyed': 590, 'become': 165, 'regular': 1456, 'needs': 1176, 'professional': 1382, 'until': 1878, 'end': 585, 'dinner': 491, 'companions': 362, 'ground': 792, 'smeared': 1624, 'tracked': 1837, 'everywhere': 610, 'pile': 1322, 'bird': 189, 'poop': 1351, 'furthermore': 732, 'operation': 1228, 'website': 1955, 'mistake': 1131, 'expert': 625, 'connisseur': 374, 'topic': 1826, 'jerk': 955, 'strike': 1705, 'wants': 1935, 'rushed': 1509, 'nicest': 1184, 'owners': 1261, 'across': 35, 'biscuits': 191, 'appetizer': 85, '40': 14, 'absolutley': 27, 'awkward': 123, '5lb': 18, 'cow': 408, '4ths': 17, 'gristle': 788, 'fat': 650, 'steiners': 1687, 'bar': 140, 'dollars': 519, 'anyway': 75, 'fs': 726, 'week': 1957, 'mention': 1109, 'combination': 355, 'pears': 1297, 'almonds': 51, 'big': 184, 'winner': 1987, 'spicier': 1664, 'prefer': 1366, 'ribeye': 1485, 'mesquite': 1112, 'anytime': 74, 'gooodd': 766, 'connoisseur': 375, 'difference': 486, 'certainly': 301, 'contained': 381, 'driest': 543, 'mouthful': 1148, 'enjoyable': 589, 'relaxed': 1461, 'venue': 1907, 'couples': 400, 'groups': 794, 'etc': 599, 'nargile': 1168, 'tater': 1761, 'tots': 1831, 'southwest': 1654, 'paid': 1266, 'vanilla': 1894, 'smooth': 1628, 'profiterole': 1383, 'choux': 330, 'pastry': 1287, 'im': 907, 'az': 126, 'new': 1181, 'manager': 1076, 'carly': 288, 'due': 555, 'acknowledged': 34, '35': 13, 'forgetting': 702, 'margaritas': 1080, 'disappoint': 497, 'ventilation': 1904, 'upgrading': 1884, 'letdown': 1007, 'rather': 1421, 'camelback': 277, 'flower': 690, 'shop': 1590, 'cartel': 291, 'trimmed': 1846, 'group': 793, '70': 19, 'claimed': 335, 'handled': 814, 'beautifully': 162, 'bill': 187, 'bring': 236, 'jewel': 956, 'las': 988, 'exactly': 611, 'hoping': 878, 'nearly': 1171, 'living': 1029, 'limited': 1021, 'boiled': 214, 'crab': 410, 'legs': 1003, 'toro': 1828, 'tartare': 1755, 'cavier': 300, 'extraordinary': 629, 'thinly': 1794, 'sliced': 1618, 'wagyu': 1923, 'truffle': 1850, 'dont': 522, 'long': 1034, 'attached': 109, 'gas': 737, 'sign': 1604, 'awesome': 121, 'decide': 449, 'worse': 2005, 'humiliated': 893, 'worker': 1999, 'bunch': 251, 'name': 1166, 'callings': 275, 'conclusion': 372, 'filling': 668, 'meals': 1092, 'daily': 438, 'specials': 1658, 'tragedy': 1839, 'struck': 1708, 'pancake': 1271, 'crawfish': 414, 'monster': 1139, 'funny': 730, 'multi': 1155, 'grain': 772, 'pumpkin': 1399, 'pecan': 1299, 'fluffy': 691, 'airline': 45, 'noca': 1190, 'gyro': 802, 'lettuce': 1009, 'thoroughly': 1798, 'homemade': 869, 'pastas': 1286, 'thin': 1789, 'cheesecurds': 317, 'typical': 1862, 'glance': 753, 'lovely': 1047, 'finger': 673, 'item': 947, 'such': 1719, 'beauty': 163, 'haven': 831, 'gone': 763, 'greasy': 777, 'unhealthy': 1871, 'might': 1119, 'those': 1799, 'similarly': 1608, 'delivery': 471, 'man': 1073, 'apology': 79, '45': 16, 'expensive': 621, 'need': 1173, 'pack': 1264, 'tiramisu': 1812, 'cannoli': 279, 'sun': 1732, 'whole': 1977, 'meats': 1098, 'choose': 329, 'experienced': 623, 'frenchman': 712, 'desserts': 480, 'martini': 1084, 'opinion': 1229, 'entrees': 595, 'gc': 739, 'sample': 1524, 'thirty': 1796, 'vacant': 1890, 'yellowtail': 2023, 'carpaccio': 289, 'strangers': 1701, 'actually': 37, 'hello': 846, 'strange': 1700, 'boyfriend': 228, 'recent': 1441, 'donut': 523, 'saving': 1537, 'room': 1501, 'maybe': 1088, 'disgraceful': 506, 'however': 889, 'particular': 1280, 'suffers': 1724, 'tapas': 1753, 'vinegrette': 1914, 'baby': 128, 'greens': 783, 'hearts': 840, 'palm': 1269, 'disgusting': 509, 'believe': 174, 'hankering': 818, 'forth': 703, 'helped': 848, 'consider': 376, 'theft': 1780, 'eew': 570, 'complete': 366, 'overhaul': 1256, 'recently': 1442, 'witnessed': 1992, 'guests': 799, 'regularly': 1457, 'super': 1735, 'swung': 1742, 'deeply': 456, 'efficient': 571, 'fan': 644, 'sucker': 1722, 'dry': 552, 'rated': 1420, '15': 5, 'setting': 1577, 'cheap': 310, 'olives': 1218, 'perpared': 1308, 'presentation': 1370, 'giant': 747, 'slices': 1619, 'toast': 1814, 'lightly': 1015, 'dusted': 558, 'powdered': 1364, 'sugar': 1725, 'play': 1339, 'fo': 693, 'accomodate': 30, 'vegan': 1897, 'veggie': 1901, 'crumby': 426, 'pale': 1268, 'color': 354, 'instead': 935, 'croutons': 423, 'trips': 1849, 'crema': 418, 'café': 269, 'expanded': 617, 'miss': 1128, 'wish': 1989, 'philadelphia': 1315, 'sitting': 1614, 'fairly': 638, 'crisp': 420, 'satisfying': 1533, 'wanted': 1934, 'north': 1194, 'scottsdale': 1543, 'quit': 1410, 'freaking': 709, 'papers': 1275, 'reheated': 1458, 'ok': 1215, 'wedges': 1956, 'sorry': 1648, 'absolute': 25, 'tongue': 1821, 'cheek': 314, 'bloody': 207, 'despite': 478, 'rate': 1419, 'businesses': 258, 'its': 948, 'grilled': 786, 'yellow': 2022, 'saffron': 1513, 'seasoning': 1550, 'thru': 1804, 'means': 1094, 'half': 808, 'somehow': 1636, 'luck': 1055, 'non': 1191, 'focused': 694, 'grandmother': 773, 'list': 1023, 'ignored': 906, 'hostess': 882, 'myself': 1163, 'boys': 229, 'four': 707, 'guy': 800, 'blue': 211, 'shirt': 1586, 'vibe': 1912, 'letting': 1008, 'same': 1523, 'him': 860, 'drastically': 536, 'caesar': 267, 'promptly': 1387, 'madhouse': 1062, 'proven': 1390, 'dead': 445, 'greatest': 779, 'moods': 1142, 'macarons': 1060, 'insanely': 931, 'informative': 929, 'weren': 1965, 'somewhat': 1640, 'edible': 566, 'promise': 1385, 'fails': 636, 'deliver': 470, 'average': 116, 'plater': 1337, 'relax': 1460, 'sit': 1613, 'together': 1817, 'poorly': 1353, 'constructed': 379, 'seating': 1553, 'italian': 946, 'screams': 1544, 'legit': 1002, 'book': 216, 'somethat': 1638, 'duo': 556, 'violinists': 1915, 'songs': 1642, 'requested': 1468, 'personally': 1311, 'baklava': 135, 'falafels': 639, 'baba': 127, 'ganoush': 734, 'staying': 1683, 'mgm': 1116, 'courteous': 404, 'eclectic': 565, 'onion': 1225, 'rings': 1491, 'pictures': 1320, 'work': 1998, 'nobu': 1189, 'google': 765, 'imagine': 910, 'smashburger': 1623, 'lover': 1048, 'gem': 740, 'plantains': 1334, 'giving': 751, 'spends': 1661, 'talking': 1751, 'themselves': 1783, 'panna': 1273, 'cotta': 395, 'fail': 635, 'flavors': 686, 'slaw': 1617, 'drenched': 539, 'piano': 1318, 'soundtrack': 1650, 'rge': 1482, 'fillet': 667, 'relleno': 1462, 'plate': 1336, 'sergeant': 1565, 'auju': 114, 'hawaiian': 833, 'breeze': 234, 'mango': 1078, 'magic': 1065, 'pineapple': 1324, 'smoothies': 1629, 'mortified': 1144, 'needless': 1175, 'anyways': 76, 'dripping': 547, 'mostly': 1146, '2007': 9, 'serving': 1575, 'hospitality': 880, 'industry': 926, 'paradise': 1277, 'refrained': 1451, 'recommending': 1446, 'cibo': 333, 'longer': 1035, 'orders': 1237, 'mean': 1093, 'famous': 643, 'mouths': 1149, 'bellies': 176, 'reading': 1430, 'reminded': 1465, 'pros': 1389, 'simple': 1609, 'dough': 529, 'tonight': 1822, 'elk': 578, 'hooked': 874, 'classics': 338, 'sorely': 1647, 'quaint': 1404, 'deliciously': 465, 'compliments': 368, 'thanks': 1776, 'dylan': 559, 'tummy': 1855, 'gratuity': 775, 'larger': 987, 'fly': 692, 'apple': 87, 'juice': 965, 'han': 811, 'nan': 1167, 'barely': 142, 'ryan': 1510, 'edinburgh': 567, 'revisiting': 1481, 'chinese': 323, 'naan': 1164, 'pine': 1323, 'nut': 1201, 'touched': 1833, 'airport': 46, 'speedy': 1659, 'calligraphy': 274, 'paper': 1274, 'anything': 73, 'complain': 364, 'stood': 1696, 'begin': 171, 'awkwardly': 124, 'opened': 1227, 'guest': 798, 'extensive': 627, 'provides': 1392, 'wide': 1979, 'array': 95, 'inflate': 928, 'smaller': 1622, 'grow': 795, 'rapidly': 1415, 'lil': 1020, 'fuzzy': 733, 'fabulous': 633, 'wontons': 1995, 'thick': 1788, 'level': 1010, 'spice': 1662, 'whelm': 1968, 'main': 1066, 'crowd': 424, 'older': 1217, 'mid': 1117, '30s': 12, 'arepas': 92, 'jalapeno': 950, 'thats': 1778, 'shoe': 1588, 'leather': 997, 'definately': 458, 'block': 204, 'low': 1052, 'key': 970, 'fancy': 645, 'affordable': 39, 'sour': 1653, 'soups': 1652, 'sunday': 1733, 'traditional': 1838, 'hunan': 895, 'style': 1713, 'bother': 220, 'flair': 680, 'bartenders': 146, 'nutshell': 1202, 'restaraunt': 1471, 'smells': 1626, 'market': 1082, 'sewer': 1580, 'girlfriend': 748, 'veal': 1896, 'satifying': 1531, 'join': 959, 'club': 344, 'offers': 1210, 'via': 1911, 'email': 581, 'likes': 1018, 'case': 292, 'colder': 352, 'flavorless': 685, 'describing': 473, 'tepid': 1770, 'chains': 303, 'easily': 561, 'nachos': 1165, 'words': 1997, 'does': 516, 'crazy': 415, 'crowds': 425, 'juries': 966, 'lawyers': 995, 'court': 403, 'arrives': 97, 'paying': 1293, '85': 20, 'looks': 1039, 'kid': 972, 'wienerschnitzel': 1980, 'idea': 903, 'classic': 337, 'maine': 1067, 'roll': 1498, 'brother': 239, 'law': 994, 'works': 2002, 'hereas': 852, 'tribute': 1844, 'event': 604, 'held': 843, 'salsa': 1520, 'pissd': 1326, 'surprise': 1738, 'golden': 762, 'hopes': 877, 'fell': 658, 'bruschetta': 243, 'devine': 482, 'employee': 582, 'lastly': 990, 'mozzarella': 1152, 'negligent': 1177, 'unwelcome': 1880, 'suggest': 1727, 'consistent': 378, 'packed': 1265, 'seasonal': 1548, 'fruit': 723, 'peach': 1294, 'officially': 1211, 'blown': 209, 'put': 1402, 'plastic': 1335, 'containers': 382, 'opposed': 1231, 'cramming': 411, 'takeout': 1749, 'boxes': 226, 'crêpe': 430, 'delicate': 462, 'awful': 122, 'fair': 637, 'kabuki': 968, 'services': 1574, 'maria': 1081, 'surprised': 1739, 'article': 99, 'read': 1428, 'spices': 1663, 'fucking': 727, 'caballero': 266, 'head': 835, 'oysters': 1262, 'round': 1503, 'disbelief': 503, 'qualified': 1405, 'version': 1909, 'foods': 698, 'tolerance': 1819, 'polite': 1350, 'wash': 1940, 'otherwise': 1241, 'biscuit': 190, 'heat': 841, 'hated': 828, 'coconut': 348, 'fella': 659, 'huevos': 890, 'rancheros': 1414, 'appealing': 83, 'wines': 1985, 'pricey': 1375, 'temp': 1766, 'prepare': 1367, 'bare': 141, 'gloves': 755, 'deep': 455, 'oil': 1214, 'pleasure': 1344, 'plethora': 1345, 'sandwiches': 1527, 'gets': 745, 'seal': 1547, 'approval': 88, 'light': 1012, 'college': 353, 'cooking': 387, 'class': 336, 'started': 1678, 'editing': 568, 'besides': 179, 'costco': 394, 'highlighted': 856, 'unique': 1873, 'weird': 1960, 'hardly': 824, 'grocery': 789, 'store': 1699, 'japanese': 952, 'dude': 554, 'aren': 91, 'doughy': 530, 'inch': 917, 'wire': 1988, 'ourselves': 1244, 'albondigas': 48, 'tomato': 1820, 'meatballs': 1096, 'three': 1802, 'occasions': 1206, 'medium': 1101, 'bloodiest': 206, 'refused': 1454, 'anymore': 71, 'killer': 975, 'chai': 302, 'latte': 993, 'allergy': 50, 'warnings': 1938, 'clue': 345, 'contain': 380, 'peanuts': 1296, 'mediterranean': 1100, 'rotating': 1502, 'beers': 169, 'highlight': 855, 'concern': 371, 'mellow': 1105, 'mushroom': 1157, 'strawberry': 1702, 'unprofessional': 1875, 'loyal': 1054, 'patron': 1289, 'spend': 1660, 'occasional': 1205, 'pats': 1290, 'bellagio': 175, 'anticipated': 69, 'weak': 1954, 'correct': 391, 'bought': 223, 'sals': 1519, 'returning': 1476, 'fav': 651, 'unexperienced': 1869, 'employees': 583, 'chickens': 322, 'heads': 836, 'call': 273, 'steakhouse': 1685, 'properly': 1388, 'understand': 1867, 'concept': 370, 'guacamole': 796, 'puréed': 1401, 'postinos': 1360, 'poisoning': 1349, 'batch': 150, 'thinking': 1793, 'yay': 2018, 'hilarious': 859, 'christmas': 332, 'eve': 601, 'remember': 1464, 'biggest': 186, 'entire': 594, 'caring': 287, 'teamwork': 1763, 'degree': 460, 'ri': 1483, 'calamari': 272, 'fondue': 696, 'lost': 1041, 'forever': 701, 'ones': 1224, 'scene': 1542, 'denny': 472, 'downright': 532, 'waaaaaayyyyyyyyyy': 1922, 'saying': 1539, 'lacked': 981, 'sangria': 1528, 'glass': 754, 'ridiculous': 1489, 'brisket': 238, 'neat': 1172, 'trippy': 1848, 'hurry': 897, 'reservation': 1469, 'stretch': 1704, 'imagination': 908, 'cashew': 294, 'undercooked': 1866, 'chipolte': 325, 'ranch': 1413, 'dipping': 493, 'sause': 1536, 'seemed': 1557, 'watered': 1948, 'workers': 2000, 'douchey': 528, 'indoor': 925, 'garden': 735, 'con': 369, 'spotty': 1670, 'neither': 1179, 'ensued': 592, 'apologize': 78, 'reason': 1434, 'fill': 666, 'binge': 188, 'drinking': 545, 'carbs': 285, 'insults': 937, 'profound': 1384, 'deuchebaggery': 481, 'smoke': 1627, 'solidify': 1634, 'combo': 356, 'ala': 47, 'cart': 290, 'blame': 200, 'placed': 1331, 'rave': 1424, 'del': 461, 'avoided': 119, 'hamburger': 810, 'hell': 844, 'gotten': 769, 'ya': 2016, 'doing': 518, 'shots': 1594, 'fireball': 675, 'disapppointment': 501, 'correction': 392, 'heimer': 842, 'putting': 1403, 'cause': 299, 'owned': 1259, 'vomited': 1919, 'circumstances': 334, 'tops': 1827, 'brownish': 241, 'obviously': 1204, 'below': 178, 'movies': 1150, 'ha': 804, 'flop': 689, 'problem': 1380, 'charge': 307, '11': 3, '99': 22, 'bigger': 185, 'unwrapped': 1881, 'mile': 1120, 'brushfire': 244, 'impressive': 915, 'hasn': 826, 'closed': 343, 'mirage': 1127, 'refried': 1453, 'dried': 542, 'crusty': 428, 'caterpillar': 297, 'appetite': 84, 'instantly': 934, 'ninja': 1187, 'hadn': 806, 'wasted': 1943, 'poured': 1363, 'wound': 2010, 'drawing': 537}\n",
      "             precision    recall  f1-score   support\n",
      "\n",
      "          0       0.75      0.74      0.74       126\n",
      "          1       0.74      0.75      0.74       124\n",
      "\n",
      "avg / total       0.74      0.74      0.74       250\n",
      "\n",
      "[[93 33]\n",
      " [31 93]]\n",
      "25.0\n",
      "26.1904761905\n"
     ]
    }
   ],
   "source": [
    "kf = KFold(n_splits=4, shuffle=True)\n",
    "pipeline = Pipeline([\n",
    "    ('vectorizer',  CountVectorizer(stop_words='english', min_df=2, max_df=0.8)),\n",
    "    ('tfidf', TfidfTransformer()),\n",
    "    ('classifier',  BernoulliNB()),\n",
    "    ])\n",
    "\n",
    "for train_index, test_index in kf.split(yelp_token):\n",
    "    X_train, X_test = yelp_token[train_index], yelp_token[test_index]\n",
    "    y_train, y_test = target[train_index], target[test_index]\n",
    "    pipeline.fit(X_train, y_train)\n",
    "    print(vectorizer.vocabulary_)\n",
    "    predictions = pipeline.predict(X_test)\n",
    "    \n",
    "    #Evaluate the results.\n",
    "    confusion = confusion_matrix(y_test, predictions)\n",
    "    print (classification_report(y_test, predictions))\n",
    "    print(confusion)\n",
    "    type1_error = confusion[1][0]/(confusion[1][0]+confusion[1][1])*100\n",
    "    print(type1_error)\n",
    "    type2_error = confusion[0][1]/(confusion[0][0]+confusion[0][1])*100\n",
    "    print(type2_error)"
   ]
  },
  {
   "cell_type": "markdown",
   "metadata": {},
   "source": [
    "After cross-validation over 4 folds of the data, we see that the model's accuracy is somewhat consistent, and somewhat better than it was without tuning the Counter Vectorizer's parameters. \n",
    "\n",
    "### Summary ###\n",
    "\n",
    "After 4 iterations, implementing cross-validation to avoid overfitting the model, and tuning the parameters of the bag of words model, we have improved and stabilized the model's performance somewhat. An accuracy rate between 75-85% is not superb, but presumably it could be improved with a larger training dataset, and more rigorous parameter tuning. \n",
    "\n",
    "Ultimately, to solve a problem like this, a model with embedded feature selection algorithms would likely perform better than a simple Naive Bayes model."
   ]
  }
 ],
 "metadata": {
  "hide_input": false,
  "kernelspec": {
   "display_name": "Python 3",
   "language": "python",
   "name": "python3"
  },
  "language_info": {
   "codemirror_mode": {
    "name": "ipython",
    "version": 3
   },
   "file_extension": ".py",
   "mimetype": "text/x-python",
   "name": "python",
   "nbconvert_exporter": "python",
   "pygments_lexer": "ipython3",
   "version": "3.6.2"
  },
  "toc": {
   "colors": {
    "hover_highlight": "#DAA520",
    "running_highlight": "#FF0000",
    "selected_highlight": "#FFD700"
   },
   "moveMenuLeft": true,
   "nav_menu": {
    "height": "49px",
    "width": "252px"
   },
   "navigate_menu": true,
   "number_sections": true,
   "sideBar": true,
   "threshold": 4,
   "toc_cell": false,
   "toc_section_display": "block",
   "toc_window_display": false
  }
 },
 "nbformat": 4,
 "nbformat_minor": 2
}
