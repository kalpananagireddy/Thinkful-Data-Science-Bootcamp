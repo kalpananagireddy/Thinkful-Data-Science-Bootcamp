{
 "cells": [
  {
   "cell_type": "markdown",
   "metadata": {},
   "source": [
    "### Gradient Boosting Challenge\n",
    "\n",
    "This challenge analyzes the European Social Survey Data, using a Gradient Boosting Classifier to predict whether or not someone lives with a partner."
   ]
  },
  {
   "cell_type": "code",
   "execution_count": 24,
   "metadata": {
    "run_control": {
     "frozen": false,
     "read_only": false
    }
   },
   "outputs": [],
   "source": [
    "import pandas as pd\n",
    "import numpy as np\n",
    "import scipy\n",
    "import matplotlib.pyplot as plt\n",
    "%matplotlib inline\n",
    "\n",
    "from sklearn import ensemble\n",
    "from sklearn import datasets\n",
    "from sklearn.utils import shuffle\n",
    "from sklearn.metrics import mean_squared_error\n",
    "from sklearn.grid_search import GridSearchCV\n",
    "from sklearn.model_selection import cross_val_score\n",
    "from sklearn.metrics import classification_report\n",
    "from sklearn.metrics import confusion_matrix"
   ]
  },
  {
   "cell_type": "code",
   "execution_count": 25,
   "metadata": {},
   "outputs": [
    {
     "data": {
      "text/plain": [
       "7332"
      ]
     },
     "execution_count": 25,
     "metadata": {},
     "output_type": "execute_result"
    }
   ],
   "source": [
    "df = pd.read_csv((\n",
    "    \"https://raw.githubusercontent.com/Thinkful-Ed/data-201-resources/\"\n",
    "    \"master/ESS_practice_data/ESSdata_Thinkful.csv\")).dropna()\n",
    "\n",
    "# Definine outcome and predictors.\n",
    "# Set our outcome to 0 and 1.\n",
    "y = df['partner'] - 1\n",
    "X = df.loc[:, ~df.columns.isin(['partner', 'cntry', 'idno'])]\n",
    "\n",
    "# Make the categorical variable 'country' into dummies.\n",
    "X = pd.concat([X, pd.get_dummies(df['cntry'])], axis=1)\n",
    "\n",
    "# Create training and test sets.\n",
    "offset = int(X.shape[0] * 0.9)\n",
    "\n",
    "# Put 90% of the data in the training set.\n",
    "X_train, y_train = X[:offset], y[:offset]\n",
    "\n",
    "# And put 10% in the test set.\n",
    "X_test, y_test = X[offset:], y[offset:]\n",
    "\n",
    "len(X_train)"
   ]
  },
  {
   "cell_type": "markdown",
   "metadata": {},
   "source": [
    "Since we're now working with a binary outcome, we've switched to a classifier.  Now our loss function can't be the residuals.  Our options are \"deviance\", or \"exponential\".  Deviance is used for logistic regression, and we'll try that here."
   ]
  },
  {
   "cell_type": "code",
   "execution_count": 26,
   "metadata": {},
   "outputs": [
    {
     "name": "stdout",
     "output_type": "stream",
     "text": [
      "Training set accuracy:\n",
      "Percent Type I errors: 0.04650845608292417\n",
      "Percent Type II errors: 0.17607746863066012\n",
      "\n",
      "Test set accuracy:\n",
      "Percent Type I errors: 0.06257668711656442\n",
      "Percent Type II errors: 0.18527607361963191\n"
     ]
    }
   ],
   "source": [
    "# We'll make 500 iterations, use 2-deep trees, and set our loss function.\n",
    "params = {'n_estimators': 500,\n",
    "          'max_depth': 2,\n",
    "          'loss': 'deviance'}\n",
    "\n",
    "# Initialize and fit the model.\n",
    "clf = ensemble.GradientBoostingClassifier(**params)\n",
    "clf.fit(X_train, y_train)\n",
    "\n",
    "predict_train = clf.predict(X_train)\n",
    "predict_test = clf.predict(X_test)\n",
    "\n",
    "# Accuracy tables.\n",
    "table_train = pd.crosstab(y_train, predict_train, margins=True)\n",
    "table_test = pd.crosstab(y_test, predict_test, margins=True)\n",
    "\n",
    "train_tI_errors = table_train.loc[0.0,1.0] / table_train.loc['All','All']\n",
    "train_tII_errors = table_train.loc[1.0,0.0] / table_train.loc['All','All']\n",
    "\n",
    "test_tI_errors = table_test.loc[0.0,1.0]/table_test.loc['All','All']\n",
    "test_tII_errors = table_test.loc[1.0,0.0]/table_test.loc['All','All']\n",
    "\n",
    "print((\n",
    "    'Training set accuracy:\\n'\n",
    "    'Percent Type I errors: {}\\n'\n",
    "    'Percent Type II errors: {}\\n\\n'\n",
    "    'Test set accuracy:\\n'\n",
    "    'Percent Type I errors: {}\\n'\n",
    "    'Percent Type II errors: {}'\n",
    ").format(train_tI_errors, train_tII_errors, test_tI_errors, test_tII_errors))\n"
   ]
  },
  {
   "cell_type": "markdown",
   "metadata": {},
   "source": [
    "Unlike decision trees, gradient boost solutions are not terribly easy to interpret on the surface.  But they aren't quite a black box.  We can get a measure of how important various features are by counting how many times a feature is used over the course of many decision trees."
   ]
  },
  {
   "cell_type": "code",
   "execution_count": 27,
   "metadata": {},
   "outputs": [
    {
     "data": {
      "image/png": "[encoded data removed]",
      "text/plain": [
       "<matplotlib.figure.Figure at 0x1a15f6ee80>"
      ]
     },
     "metadata": {},
     "output_type": "display_data"
    }
   ],
   "source": [
    "feature_importance = clf.feature_importances_\n",
    "\n",
    "# Make importances relative to max importance.\n",
    "feature_importance = 100.0 * (feature_importance / feature_importance.max())\n",
    "sorted_idx = np.argsort(feature_importance)\n",
    "pos = np.arange(sorted_idx.shape[0]) + .5\n",
    "plt.subplot(1, 2, 2)\n",
    "plt.barh(pos, feature_importance[sorted_idx], align='center')\n",
    "plt.yticks(pos, X.columns[sorted_idx])\n",
    "plt.xlabel('Relative Importance')\n",
    "plt.title('Variable Importance')\n",
    "plt.show()"
   ]
  },
  {
   "cell_type": "markdown",
   "metadata": {},
   "source": [
    "It appears that age and happiness are the most important features in predicting whether or not someone lives with a partner."
   ]
  },
  {
   "cell_type": "markdown",
   "metadata": {
    "collapsed": true
   },
   "source": [
    "### Tune and evaluate the model\n",
    "\n",
    "We'll use a grid search to tune the hyperparameters of the classifier. First, we'll tune the number of trees, shrinkage (learning rate), and the max depth of each tree. "
   ]
  },
  {
   "cell_type": "code",
   "execution_count": 28,
   "metadata": {
    "scrolled": true
   },
   "outputs": [
    {
     "data": {
      "text/plain": [
       "GridSearchCV(cv=5, error_score='raise',\n",
       "       estimator=GradientBoostingClassifier(criterion='friedman_mse', init=None,\n",
       "              learning_rate=0.1, loss='deviance', max_depth=3,\n",
       "              max_features='sqrt', max_leaf_nodes=None,\n",
       "              min_impurity_decrease=0.0, min_impurity_split=None,\n",
       "              min_samples_leaf=50, min_samples_split=10,\n",
       "              min_weight_fraction_leaf=0.0, n_estimators=100,\n",
       "              presort='auto', random_state=10, subsample=0.8, verbose=0,\n",
       "              warm_start=False),\n",
       "       fit_params={}, iid=False, n_jobs=4,\n",
       "       param_grid=[{'n_estimators': [40, 60, 80, 100], 'learning_rate': [0.001, 0.05, 0.1, 0.2], 'max_depth': [2, 3, 4, 6, 8]}],\n",
       "       pre_dispatch='2*n_jobs', refit=True, scoring='roc_auc', verbose=0)"
      ]
     },
     "execution_count": 28,
     "metadata": {},
     "output_type": "execute_result"
    }
   ],
   "source": [
    "#Try to run all at once; at least the three most important. If not, do one at a time and then mess around by hand.\n",
    "param_test1 = [{'n_estimators':[40, 60, 80, 100], \n",
    "                'learning_rate':[0.001, 0.05, 0.1, 0.2],\n",
    "               'max_depth':[2, 3, 4, 6, 8],\n",
    "               }]\n",
    "clf = ensemble.GradientBoostingClassifier(**params)\n",
    "gsearch1 = GridSearchCV(estimator = ensemble.GradientBoostingClassifier(min_samples_split=10,\n",
    "                                                               min_samples_leaf=50,\n",
    "                                                               max_features='sqrt',\n",
    "                                                               subsample=0.8,\n",
    "                                                               random_state=10, \n",
    "                                                               loss='deviance'), \n",
    "                        param_grid = param_test1, \n",
    "                        scoring='roc_auc',\n",
    "                        n_jobs=4,\n",
    "                        iid=False, \n",
    "                        cv=5)\n",
    "gsearch1.fit(X_train,y_train)\n"
   ]
  },
  {
   "cell_type": "code",
   "execution_count": 29,
   "metadata": {},
   "outputs": [
    {
     "data": {
      "text/plain": [
       "[mean: 0.74565, std: 0.01530, params: {'learning_rate': 0.001, 'max_depth': 2, 'n_estimators': 40},\n",
       " mean: 0.74913, std: 0.01508, params: {'learning_rate': 0.001, 'max_depth': 2, 'n_estimators': 60},\n",
       " mean: 0.75003, std: 0.01553, params: {'learning_rate': 0.001, 'max_depth': 2, 'n_estimators': 80},\n",
       " mean: 0.75068, std: 0.01476, params: {'learning_rate': 0.001, 'max_depth': 2, 'n_estimators': 100},\n",
       " mean: 0.75785, std: 0.01674, params: {'learning_rate': 0.001, 'max_depth': 3, 'n_estimators': 40},\n",
       " mean: 0.76113, std: 0.01731, params: {'learning_rate': 0.001, 'max_depth': 3, 'n_estimators': 60},\n",
       " mean: 0.76206, std: 0.01570, params: {'learning_rate': 0.001, 'max_depth': 3, 'n_estimators': 80},\n",
       " mean: 0.76261, std: 0.01549, params: {'learning_rate': 0.001, 'max_depth': 3, 'n_estimators': 100},\n",
       " mean: 0.76835, std: 0.01470, params: {'learning_rate': 0.001, 'max_depth': 4, 'n_estimators': 40},\n",
       " mean: 0.76905, std: 0.01601, params: {'learning_rate': 0.001, 'max_depth': 4, 'n_estimators': 60},\n",
       " mean: 0.76997, std: 0.01593, params: {'learning_rate': 0.001, 'max_depth': 4, 'n_estimators': 80},\n",
       " mean: 0.77008, std: 0.01603, params: {'learning_rate': 0.001, 'max_depth': 4, 'n_estimators': 100},\n",
       " mean: 0.77535, std: 0.01774, params: {'learning_rate': 0.001, 'max_depth': 6, 'n_estimators': 40},\n",
       " mean: 0.77572, std: 0.01695, params: {'learning_rate': 0.001, 'max_depth': 6, 'n_estimators': 60},\n",
       " mean: 0.77684, std: 0.01774, params: {'learning_rate': 0.001, 'max_depth': 6, 'n_estimators': 80},\n",
       " mean: 0.77687, std: 0.01790, params: {'learning_rate': 0.001, 'max_depth': 6, 'n_estimators': 100},\n",
       " mean: 0.77699, std: 0.01776, params: {'learning_rate': 0.001, 'max_depth': 8, 'n_estimators': 40},\n",
       " mean: 0.77816, std: 0.01802, params: {'learning_rate': 0.001, 'max_depth': 8, 'n_estimators': 60},\n",
       " mean: 0.77899, std: 0.01887, params: {'learning_rate': 0.001, 'max_depth': 8, 'n_estimators': 80},\n",
       " mean: 0.77942, std: 0.01845, params: {'learning_rate': 0.001, 'max_depth': 8, 'n_estimators': 100},\n",
       " mean: 0.76066, std: 0.01437, params: {'learning_rate': 0.05, 'max_depth': 2, 'n_estimators': 40},\n",
       " mean: 0.76729, std: 0.01475, params: {'learning_rate': 0.05, 'max_depth': 2, 'n_estimators': 60},\n",
       " mean: 0.77281, std: 0.01605, params: {'learning_rate': 0.05, 'max_depth': 2, 'n_estimators': 80},\n",
       " mean: 0.77741, std: 0.01744, params: {'learning_rate': 0.05, 'max_depth': 2, 'n_estimators': 100},\n",
       " mean: 0.77350, std: 0.01823, params: {'learning_rate': 0.05, 'max_depth': 3, 'n_estimators': 40},\n",
       " mean: 0.77908, std: 0.01910, params: {'learning_rate': 0.05, 'max_depth': 3, 'n_estimators': 60},\n",
       " mean: 0.78190, std: 0.01931, params: {'learning_rate': 0.05, 'max_depth': 3, 'n_estimators': 80},\n",
       " mean: 0.78307, std: 0.01966, params: {'learning_rate': 0.05, 'max_depth': 3, 'n_estimators': 100},\n",
       " mean: 0.77681, std: 0.01865, params: {'learning_rate': 0.05, 'max_depth': 4, 'n_estimators': 40},\n",
       " mean: 0.78090, std: 0.01871, params: {'learning_rate': 0.05, 'max_depth': 4, 'n_estimators': 60},\n",
       " mean: 0.78382, std: 0.01966, params: {'learning_rate': 0.05, 'max_depth': 4, 'n_estimators': 80},\n",
       " mean: 0.78548, std: 0.01880, params: {'learning_rate': 0.05, 'max_depth': 4, 'n_estimators': 100},\n",
       " mean: 0.78438, std: 0.01907, params: {'learning_rate': 0.05, 'max_depth': 6, 'n_estimators': 40},\n",
       " mean: 0.78658, std: 0.01986, params: {'learning_rate': 0.05, 'max_depth': 6, 'n_estimators': 60},\n",
       " mean: 0.78734, std: 0.01973, params: {'learning_rate': 0.05, 'max_depth': 6, 'n_estimators': 80},\n",
       " mean: 0.78701, std: 0.01886, params: {'learning_rate': 0.05, 'max_depth': 6, 'n_estimators': 100},\n",
       " mean: 0.78495, std: 0.01967, params: {'learning_rate': 0.05, 'max_depth': 8, 'n_estimators': 40},\n",
       " mean: 0.78576, std: 0.01972, params: {'learning_rate': 0.05, 'max_depth': 8, 'n_estimators': 60},\n",
       " mean: 0.78687, std: 0.01947, params: {'learning_rate': 0.05, 'max_depth': 8, 'n_estimators': 80},\n",
       " mean: 0.78603, std: 0.01866, params: {'learning_rate': 0.05, 'max_depth': 8, 'n_estimators': 100},\n",
       " mean: 0.76811, std: 0.01574, params: {'learning_rate': 0.1, 'max_depth': 2, 'n_estimators': 40},\n",
       " mean: 0.77692, std: 0.01741, params: {'learning_rate': 0.1, 'max_depth': 2, 'n_estimators': 60},\n",
       " mean: 0.78103, std: 0.01909, params: {'learning_rate': 0.1, 'max_depth': 2, 'n_estimators': 80},\n",
       " mean: 0.78224, std: 0.01924, params: {'learning_rate': 0.1, 'max_depth': 2, 'n_estimators': 100},\n",
       " mean: 0.78058, std: 0.01980, params: {'learning_rate': 0.1, 'max_depth': 3, 'n_estimators': 40},\n",
       " mean: 0.78443, std: 0.02129, params: {'learning_rate': 0.1, 'max_depth': 3, 'n_estimators': 60},\n",
       " mean: 0.78582, std: 0.02060, params: {'learning_rate': 0.1, 'max_depth': 3, 'n_estimators': 80},\n",
       " mean: 0.78630, std: 0.01998, params: {'learning_rate': 0.1, 'max_depth': 3, 'n_estimators': 100},\n",
       " mean: 0.78205, std: 0.02047, params: {'learning_rate': 0.1, 'max_depth': 4, 'n_estimators': 40},\n",
       " mean: 0.78396, std: 0.02019, params: {'learning_rate': 0.1, 'max_depth': 4, 'n_estimators': 60},\n",
       " mean: 0.78491, std: 0.02018, params: {'learning_rate': 0.1, 'max_depth': 4, 'n_estimators': 80},\n",
       " mean: 0.78452, std: 0.01985, params: {'learning_rate': 0.1, 'max_depth': 4, 'n_estimators': 100},\n",
       " mean: 0.78525, std: 0.01950, params: {'learning_rate': 0.1, 'max_depth': 6, 'n_estimators': 40},\n",
       " mean: 0.78509, std: 0.01879, params: {'learning_rate': 0.1, 'max_depth': 6, 'n_estimators': 60},\n",
       " mean: 0.78548, std: 0.01873, params: {'learning_rate': 0.1, 'max_depth': 6, 'n_estimators': 80},\n",
       " mean: 0.78361, std: 0.01805, params: {'learning_rate': 0.1, 'max_depth': 6, 'n_estimators': 100},\n",
       " mean: 0.78430, std: 0.01812, params: {'learning_rate': 0.1, 'max_depth': 8, 'n_estimators': 40},\n",
       " mean: 0.78378, std: 0.01848, params: {'learning_rate': 0.1, 'max_depth': 8, 'n_estimators': 60},\n",
       " mean: 0.78225, std: 0.02059, params: {'learning_rate': 0.1, 'max_depth': 8, 'n_estimators': 80},\n",
       " mean: 0.78049, std: 0.02110, params: {'learning_rate': 0.1, 'max_depth': 8, 'n_estimators': 100},\n",
       " mean: 0.77790, std: 0.01821, params: {'learning_rate': 0.2, 'max_depth': 2, 'n_estimators': 40},\n",
       " mean: 0.78110, std: 0.01889, params: {'learning_rate': 0.2, 'max_depth': 2, 'n_estimators': 60},\n",
       " mean: 0.78364, std: 0.01947, params: {'learning_rate': 0.2, 'max_depth': 2, 'n_estimators': 80},\n",
       " mean: 0.78470, std: 0.01810, params: {'learning_rate': 0.2, 'max_depth': 2, 'n_estimators': 100},\n",
       " mean: 0.78583, std: 0.01979, params: {'learning_rate': 0.2, 'max_depth': 3, 'n_estimators': 40},\n",
       " mean: 0.78527, std: 0.01974, params: {'learning_rate': 0.2, 'max_depth': 3, 'n_estimators': 60},\n",
       " mean: 0.78425, std: 0.01863, params: {'learning_rate': 0.2, 'max_depth': 3, 'n_estimators': 80},\n",
       " mean: 0.78276, std: 0.01695, params: {'learning_rate': 0.2, 'max_depth': 3, 'n_estimators': 100},\n",
       " mean: 0.78227, std: 0.01847, params: {'learning_rate': 0.2, 'max_depth': 4, 'n_estimators': 40},\n",
       " mean: 0.78399, std: 0.01789, params: {'learning_rate': 0.2, 'max_depth': 4, 'n_estimators': 60},\n",
       " mean: 0.78197, std: 0.01868, params: {'learning_rate': 0.2, 'max_depth': 4, 'n_estimators': 80},\n",
       " mean: 0.78032, std: 0.01854, params: {'learning_rate': 0.2, 'max_depth': 4, 'n_estimators': 100},\n",
       " mean: 0.78321, std: 0.01955, params: {'learning_rate': 0.2, 'max_depth': 6, 'n_estimators': 40},\n",
       " mean: 0.77983, std: 0.02060, params: {'learning_rate': 0.2, 'max_depth': 6, 'n_estimators': 60},\n",
       " mean: 0.77670, std: 0.01945, params: {'learning_rate': 0.2, 'max_depth': 6, 'n_estimators': 80},\n",
       " mean: 0.77337, std: 0.02029, params: {'learning_rate': 0.2, 'max_depth': 6, 'n_estimators': 100},\n",
       " mean: 0.78016, std: 0.01978, params: {'learning_rate': 0.2, 'max_depth': 8, 'n_estimators': 40},\n",
       " mean: 0.77406, std: 0.01895, params: {'learning_rate': 0.2, 'max_depth': 8, 'n_estimators': 60},\n",
       " mean: 0.77259, std: 0.02282, params: {'learning_rate': 0.2, 'max_depth': 8, 'n_estimators': 80},\n",
       " mean: 0.76978, std: 0.02427, params: {'learning_rate': 0.2, 'max_depth': 8, 'n_estimators': 100}]"
      ]
     },
     "execution_count": 29,
     "metadata": {},
     "output_type": "execute_result"
    }
   ],
   "source": [
    "gsearch1.grid_scores_"
   ]
  },
  {
   "cell_type": "code",
   "execution_count": 30,
   "metadata": {},
   "outputs": [
    {
     "data": {
      "text/plain": [
       "{'learning_rate': 0.05, 'max_depth': 6, 'n_estimators': 80}"
      ]
     },
     "execution_count": 30,
     "metadata": {},
     "output_type": "execute_result"
    }
   ],
   "source": [
    "gsearch1.best_params_"
   ]
  },
  {
   "cell_type": "code",
   "execution_count": 31,
   "metadata": {},
   "outputs": [
    {
     "data": {
      "text/plain": [
       "0.7873429280570626"
      ]
     },
     "execution_count": 31,
     "metadata": {},
     "output_type": "execute_result"
    }
   ],
   "source": [
    "gsearch1.best_score_"
   ]
  },
  {
   "cell_type": "markdown",
   "metadata": {},
   "source": [
    "A grid search to explore the trade-off between the learning rate and the number of estimators, along with the maximum tree depth, yielded optimal parameters of 0.05, 80, and 6. Let's fit a model with those parameters and see how it fares in cross-validation on the tuning dataset."
   ]
  },
  {
   "cell_type": "code",
   "execution_count": 32,
   "metadata": {},
   "outputs": [
    {
     "name": "stdout",
     "output_type": "stream",
     "text": [
      "[ 0.77096115  0.72528971  0.76687117  0.7366985   0.75836177]\n",
      "0.751636458357\n",
      "             precision    recall  f1-score   support\n",
      "\n",
      "        0.0       0.75      0.94      0.84      4508\n",
      "        1.0       0.84      0.51      0.64      2824\n",
      "\n",
      "avg / total       0.79      0.77      0.76      7332\n",
      "\n",
      "Training set accuracy:\n",
      "Percent Type I errors: 0.03696126568466994\n",
      "Percent Type II errors: 0.1880796508456083\n",
      "\n",
      "\n"
     ]
    }
   ],
   "source": [
    "clf1 = ensemble.GradientBoostingClassifier(learning_rate=0.05, \n",
    "                                           min_samples_split=10,\n",
    "                                           min_samples_leaf=50,\n",
    "                                           n_estimators=80,\n",
    "                                           max_depth=6,\n",
    "                                           max_features='sqrt',\n",
    "                                           subsample=0.8,\n",
    "                                           random_state=10,\n",
    "                                           loss='deviance')\n",
    "\n",
    "clf1.fit(X_train,y_train)\n",
    "predict_train = clf1.predict(X_train)\n",
    "\n",
    "print(cross_val_score(clf1, X_train, y_train, cv=5))\n",
    "print(cross_val_score(clf1, X_train, y_train, cv=5).mean())\n",
    "\n",
    "# Accuracy tables.\n",
    "print(classification_report(y_train, predict_train))\n",
    "table_train = pd.crosstab(y_train, predict_train, margins=True)\n",
    "train_tI_errors = table_train.loc[0.0,1.0] / table_train.loc['All','All']\n",
    "train_tII_errors = table_train.loc[1.0,0.0] / table_train.loc['All','All']\n",
    "\n",
    "print((\n",
    "    'Training set accuracy:\\n'\n",
    "    'Percent Type I errors: {}\\n'\n",
    "    'Percent Type II errors: {}\\n\\n'\n",
    ").format(train_tI_errors, train_tII_errors))"
   ]
  },
  {
   "cell_type": "code",
   "execution_count": 33,
   "metadata": {},
   "outputs": [
    {
     "data": {
      "image/png": "[encoded data removed]",
      "text/plain": [
       "<matplotlib.figure.Figure at 0x1a1f78aa58>"
      ]
     },
     "metadata": {},
     "output_type": "display_data"
    }
   ],
   "source": [
    "feature_importance = clf1.feature_importances_\n",
    "\n",
    "# Make importances relative to max importance.\n",
    "feature_importance = 100.0 * (feature_importance / feature_importance.max())\n",
    "sorted_idx = np.argsort(feature_importance)\n",
    "pos = np.arange(sorted_idx.shape[0]) + .5\n",
    "plt.subplot(1, 2, 2)\n",
    "plt.barh(pos, feature_importance[sorted_idx], align='center')\n",
    "plt.yticks(pos, X.columns[sorted_idx])\n",
    "plt.xlabel('Relative Importance')\n",
    "plt.title('Variable Importance')\n",
    "plt.show()"
   ]
  },
  {
   "cell_type": "markdown",
   "metadata": {},
   "source": [
    "We have a somewhat consistent accuracy rating of 75% in the training data, and that the Type I error rates for the training data dropped a tiny bit with the optimized parameters. We can also see that age is disproportionately important in this model, as compared to the untuned model above. \n",
    "\n",
    "Let's try some of the parameters related to the estimators and see if we can improve the model."
   ]
  },
  {
   "cell_type": "code",
   "execution_count": 34,
   "metadata": {},
   "outputs": [
    {
     "data": {
      "text/plain": [
       "GridSearchCV(cv=5, error_score='raise',\n",
       "       estimator=GradientBoostingClassifier(criterion='friedman_mse', init=None,\n",
       "              learning_rate=0.05, loss='deviance', max_depth=6,\n",
       "              max_features=None, max_leaf_nodes=None,\n",
       "              min_impurity_decrease=0.0, min_impurity_split=None,\n",
       "              min_samples_leaf=1, min_samples_split=2,\n",
       "              min_weight_fraction_leaf=0.0, n_estimators=80,\n",
       "              presort='auto', random_state=10, subsample=1.0, verbose=0,\n",
       "              warm_start=False),\n",
       "       fit_params={}, iid=False, n_jobs=4,\n",
       "       param_grid=[{'min_samples_split': [10, 50, 100, 200, 400], 'min_samples_leaf': [10, 20, 50, 100, 200], 'subsample': [0.7, 0.8, 0.9], 'max_features': ['sqrt', 'log2']}],\n",
       "       pre_dispatch='2*n_jobs', refit=True, scoring='roc_auc', verbose=0)"
      ]
     },
     "execution_count": 34,
     "metadata": {},
     "output_type": "execute_result"
    }
   ],
   "source": [
    "#Start with smaller number; best things happen between 1 and 6. \n",
    "param_test2 = [{'min_samples_split':[10, 50, 100, 200, 400], \n",
    "                'min_samples_leaf':[10,20,50,100,200],\n",
    "               'subsample':[0.7, 0.8, 0.9], \n",
    "                'max_features':['sqrt','log2']}]\n",
    "clf = ensemble.GradientBoostingClassifier(**params)\n",
    "gsearch2 = GridSearchCV(estimator = ensemble.GradientBoostingClassifier(learning_rate=0.05,\n",
    "                                                                        n_estimators=80,\n",
    "                                                                        max_depth=6,\n",
    "                                                                        random_state=10), \n",
    "                        param_grid = param_test2, \n",
    "                        scoring='roc_auc',\n",
    "                        n_jobs=4,\n",
    "                        iid=False, \n",
    "                        cv=5)\n",
    "gsearch2.fit(X_train,y_train)\n",
    "#print(gsearch2.grid_scores_, '\\n', gsearch2.best_params_, '\\n', gsearch2.best_score_)"
   ]
  },
  {
   "cell_type": "code",
   "execution_count": 35,
   "metadata": {},
   "outputs": [
    {
     "data": {
      "text/plain": [
       "[mean: 0.77947, std: 0.02969, params: {'max_features': 'sqrt', 'min_samples_leaf': 10, 'min_samples_split': 10, 'subsample': 0.7},\n",
       " mean: 0.77961, std: 0.03057, params: {'max_features': 'sqrt', 'min_samples_leaf': 10, 'min_samples_split': 10, 'subsample': 0.8},\n",
       " mean: 0.77757, std: 0.02900, params: {'max_features': 'sqrt', 'min_samples_leaf': 10, 'min_samples_split': 10, 'subsample': 0.9},\n",
       " mean: 0.78213, std: 0.02756, params: {'max_features': 'sqrt', 'min_samples_leaf': 10, 'min_samples_split': 50, 'subsample': 0.7},\n",
       " mean: 0.77674, std: 0.03214, params: {'max_features': 'sqrt', 'min_samples_leaf': 10, 'min_samples_split': 50, 'subsample': 0.8},\n",
       " mean: 0.77861, std: 0.03025, params: {'max_features': 'sqrt', 'min_samples_leaf': 10, 'min_samples_split': 50, 'subsample': 0.9},\n",
       " mean: 0.78006, std: 0.03344, params: {'max_features': 'sqrt', 'min_samples_leaf': 10, 'min_samples_split': 100, 'subsample': 0.7},\n",
       " mean: 0.77809, std: 0.03199, params: {'max_features': 'sqrt', 'min_samples_leaf': 10, 'min_samples_split': 100, 'subsample': 0.8},\n",
       " mean: 0.77879, std: 0.02802, params: {'max_features': 'sqrt', 'min_samples_leaf': 10, 'min_samples_split': 100, 'subsample': 0.9},\n",
       " mean: 0.77927, std: 0.02899, params: {'max_features': 'sqrt', 'min_samples_leaf': 10, 'min_samples_split': 200, 'subsample': 0.7},\n",
       " mean: 0.78007, std: 0.03011, params: {'max_features': 'sqrt', 'min_samples_leaf': 10, 'min_samples_split': 200, 'subsample': 0.8},\n",
       " mean: 0.77947, std: 0.03159, params: {'max_features': 'sqrt', 'min_samples_leaf': 10, 'min_samples_split': 200, 'subsample': 0.9},\n",
       " mean: 0.77990, std: 0.02854, params: {'max_features': 'sqrt', 'min_samples_leaf': 10, 'min_samples_split': 400, 'subsample': 0.7},\n",
       " mean: 0.77977, std: 0.03203, params: {'max_features': 'sqrt', 'min_samples_leaf': 10, 'min_samples_split': 400, 'subsample': 0.8},\n",
       " mean: 0.78089, std: 0.03135, params: {'max_features': 'sqrt', 'min_samples_leaf': 10, 'min_samples_split': 400, 'subsample': 0.9},\n",
       " mean: 0.78545, std: 0.02196, params: {'max_features': 'sqrt', 'min_samples_leaf': 20, 'min_samples_split': 10, 'subsample': 0.7},\n",
       " mean: 0.78462, std: 0.02474, params: {'max_features': 'sqrt', 'min_samples_leaf': 20, 'min_samples_split': 10, 'subsample': 0.8},\n",
       " mean: 0.78007, std: 0.02715, params: {'max_features': 'sqrt', 'min_samples_leaf': 20, 'min_samples_split': 10, 'subsample': 0.9},\n",
       " mean: 0.78671, std: 0.02145, params: {'max_features': 'sqrt', 'min_samples_leaf': 20, 'min_samples_split': 50, 'subsample': 0.7},\n",
       " mean: 0.78378, std: 0.02411, params: {'max_features': 'sqrt', 'min_samples_leaf': 20, 'min_samples_split': 50, 'subsample': 0.8},\n",
       " mean: 0.78194, std: 0.02664, params: {'max_features': 'sqrt', 'min_samples_leaf': 20, 'min_samples_split': 50, 'subsample': 0.9},\n",
       " mean: 0.78696, std: 0.02363, params: {'max_features': 'sqrt', 'min_samples_leaf': 20, 'min_samples_split': 100, 'subsample': 0.7},\n",
       " mean: 0.78546, std: 0.02490, params: {'max_features': 'sqrt', 'min_samples_leaf': 20, 'min_samples_split': 100, 'subsample': 0.8},\n",
       " mean: 0.78303, std: 0.02520, params: {'max_features': 'sqrt', 'min_samples_leaf': 20, 'min_samples_split': 100, 'subsample': 0.9},\n",
       " mean: 0.78789, std: 0.02367, params: {'max_features': 'sqrt', 'min_samples_leaf': 20, 'min_samples_split': 200, 'subsample': 0.7},\n",
       " mean: 0.78416, std: 0.02468, params: {'max_features': 'sqrt', 'min_samples_leaf': 20, 'min_samples_split': 200, 'subsample': 0.8},\n",
       " mean: 0.78134, std: 0.02709, params: {'max_features': 'sqrt', 'min_samples_leaf': 20, 'min_samples_split': 200, 'subsample': 0.9},\n",
       " mean: 0.78631, std: 0.02230, params: {'max_features': 'sqrt', 'min_samples_leaf': 20, 'min_samples_split': 400, 'subsample': 0.7},\n",
       " mean: 0.78437, std: 0.02612, params: {'max_features': 'sqrt', 'min_samples_leaf': 20, 'min_samples_split': 400, 'subsample': 0.8},\n",
       " mean: 0.78198, std: 0.02508, params: {'max_features': 'sqrt', 'min_samples_leaf': 20, 'min_samples_split': 400, 'subsample': 0.9},\n",
       " mean: 0.78657, std: 0.01954, params: {'max_features': 'sqrt', 'min_samples_leaf': 50, 'min_samples_split': 10, 'subsample': 0.7},\n",
       " mean: 0.78734, std: 0.01973, params: {'max_features': 'sqrt', 'min_samples_leaf': 50, 'min_samples_split': 10, 'subsample': 0.8},\n",
       " mean: 0.78496, std: 0.02034, params: {'max_features': 'sqrt', 'min_samples_leaf': 50, 'min_samples_split': 10, 'subsample': 0.9},\n",
       " mean: 0.78657, std: 0.01954, params: {'max_features': 'sqrt', 'min_samples_leaf': 50, 'min_samples_split': 50, 'subsample': 0.7},\n",
       " mean: 0.78734, std: 0.01973, params: {'max_features': 'sqrt', 'min_samples_leaf': 50, 'min_samples_split': 50, 'subsample': 0.8},\n",
       " mean: 0.78496, std: 0.02034, params: {'max_features': 'sqrt', 'min_samples_leaf': 50, 'min_samples_split': 50, 'subsample': 0.9},\n",
       " mean: 0.78657, std: 0.01954, params: {'max_features': 'sqrt', 'min_samples_leaf': 50, 'min_samples_split': 100, 'subsample': 0.7},\n",
       " mean: 0.78734, std: 0.01973, params: {'max_features': 'sqrt', 'min_samples_leaf': 50, 'min_samples_split': 100, 'subsample': 0.8},\n",
       " mean: 0.78496, std: 0.02034, params: {'max_features': 'sqrt', 'min_samples_leaf': 50, 'min_samples_split': 100, 'subsample': 0.9},\n",
       " mean: 0.78540, std: 0.01806, params: {'max_features': 'sqrt', 'min_samples_leaf': 50, 'min_samples_split': 200, 'subsample': 0.7},\n",
       " mean: 0.78580, std: 0.01962, params: {'max_features': 'sqrt', 'min_samples_leaf': 50, 'min_samples_split': 200, 'subsample': 0.8},\n",
       " mean: 0.78633, std: 0.01976, params: {'max_features': 'sqrt', 'min_samples_leaf': 50, 'min_samples_split': 200, 'subsample': 0.9},\n",
       " mean: 0.78561, std: 0.02061, params: {'max_features': 'sqrt', 'min_samples_leaf': 50, 'min_samples_split': 400, 'subsample': 0.7},\n",
       " mean: 0.78489, std: 0.02098, params: {'max_features': 'sqrt', 'min_samples_leaf': 50, 'min_samples_split': 400, 'subsample': 0.8},\n",
       " mean: 0.78510, std: 0.02049, params: {'max_features': 'sqrt', 'min_samples_leaf': 50, 'min_samples_split': 400, 'subsample': 0.9},\n",
       " mean: 0.78497, std: 0.01931, params: {'max_features': 'sqrt', 'min_samples_leaf': 100, 'min_samples_split': 10, 'subsample': 0.7},\n",
       " mean: 0.78472, std: 0.01951, params: {'max_features': 'sqrt', 'min_samples_leaf': 100, 'min_samples_split': 10, 'subsample': 0.8},\n",
       " mean: 0.78633, std: 0.01937, params: {'max_features': 'sqrt', 'min_samples_leaf': 100, 'min_samples_split': 10, 'subsample': 0.9},\n",
       " mean: 0.78497, std: 0.01931, params: {'max_features': 'sqrt', 'min_samples_leaf': 100, 'min_samples_split': 50, 'subsample': 0.7},\n",
       " mean: 0.78472, std: 0.01951, params: {'max_features': 'sqrt', 'min_samples_leaf': 100, 'min_samples_split': 50, 'subsample': 0.8},\n",
       " mean: 0.78633, std: 0.01937, params: {'max_features': 'sqrt', 'min_samples_leaf': 100, 'min_samples_split': 50, 'subsample': 0.9},\n",
       " mean: 0.78497, std: 0.01931, params: {'max_features': 'sqrt', 'min_samples_leaf': 100, 'min_samples_split': 100, 'subsample': 0.7},\n",
       " mean: 0.78472, std: 0.01951, params: {'max_features': 'sqrt', 'min_samples_leaf': 100, 'min_samples_split': 100, 'subsample': 0.8},\n",
       " mean: 0.78633, std: 0.01937, params: {'max_features': 'sqrt', 'min_samples_leaf': 100, 'min_samples_split': 100, 'subsample': 0.9},\n",
       " mean: 0.78497, std: 0.01931, params: {'max_features': 'sqrt', 'min_samples_leaf': 100, 'min_samples_split': 200, 'subsample': 0.7},\n",
       " mean: 0.78472, std: 0.01951, params: {'max_features': 'sqrt', 'min_samples_leaf': 100, 'min_samples_split': 200, 'subsample': 0.8},\n",
       " mean: 0.78633, std: 0.01937, params: {'max_features': 'sqrt', 'min_samples_leaf': 100, 'min_samples_split': 200, 'subsample': 0.9},\n",
       " mean: 0.78375, std: 0.01928, params: {'max_features': 'sqrt', 'min_samples_leaf': 100, 'min_samples_split': 400, 'subsample': 0.7},\n",
       " mean: 0.78562, std: 0.01976, params: {'max_features': 'sqrt', 'min_samples_leaf': 100, 'min_samples_split': 400, 'subsample': 0.8},\n",
       " mean: 0.78472, std: 0.01996, params: {'max_features': 'sqrt', 'min_samples_leaf': 100, 'min_samples_split': 400, 'subsample': 0.9},\n",
       " mean: 0.78243, std: 0.01857, params: {'max_features': 'sqrt', 'min_samples_leaf': 200, 'min_samples_split': 10, 'subsample': 0.7},\n",
       " mean: 0.78244, std: 0.01940, params: {'max_features': 'sqrt', 'min_samples_leaf': 200, 'min_samples_split': 10, 'subsample': 0.8},\n",
       " mean: 0.78285, std: 0.01917, params: {'max_features': 'sqrt', 'min_samples_leaf': 200, 'min_samples_split': 10, 'subsample': 0.9},\n",
       " mean: 0.78243, std: 0.01857, params: {'max_features': 'sqrt', 'min_samples_leaf': 200, 'min_samples_split': 50, 'subsample': 0.7},\n",
       " mean: 0.78244, std: 0.01940, params: {'max_features': 'sqrt', 'min_samples_leaf': 200, 'min_samples_split': 50, 'subsample': 0.8},\n",
       " mean: 0.78285, std: 0.01917, params: {'max_features': 'sqrt', 'min_samples_leaf': 200, 'min_samples_split': 50, 'subsample': 0.9},\n",
       " mean: 0.78243, std: 0.01857, params: {'max_features': 'sqrt', 'min_samples_leaf': 200, 'min_samples_split': 100, 'subsample': 0.7},\n",
       " mean: 0.78244, std: 0.01940, params: {'max_features': 'sqrt', 'min_samples_leaf': 200, 'min_samples_split': 100, 'subsample': 0.8},\n",
       " mean: 0.78285, std: 0.01917, params: {'max_features': 'sqrt', 'min_samples_leaf': 200, 'min_samples_split': 100, 'subsample': 0.9},\n",
       " mean: 0.78243, std: 0.01857, params: {'max_features': 'sqrt', 'min_samples_leaf': 200, 'min_samples_split': 200, 'subsample': 0.7},\n",
       " mean: 0.78244, std: 0.01940, params: {'max_features': 'sqrt', 'min_samples_leaf': 200, 'min_samples_split': 200, 'subsample': 0.8},\n",
       " mean: 0.78285, std: 0.01917, params: {'max_features': 'sqrt', 'min_samples_leaf': 200, 'min_samples_split': 200, 'subsample': 0.9},\n",
       " mean: 0.78243, std: 0.01857, params: {'max_features': 'sqrt', 'min_samples_leaf': 200, 'min_samples_split': 400, 'subsample': 0.7},\n",
       " mean: 0.78244, std: 0.01940, params: {'max_features': 'sqrt', 'min_samples_leaf': 200, 'min_samples_split': 400, 'subsample': 0.8},\n",
       " mean: 0.78285, std: 0.01917, params: {'max_features': 'sqrt', 'min_samples_leaf': 200, 'min_samples_split': 400, 'subsample': 0.9},\n",
       " mean: 0.77947, std: 0.02969, params: {'max_features': 'log2', 'min_samples_leaf': 10, 'min_samples_split': 10, 'subsample': 0.7},\n",
       " mean: 0.77961, std: 0.03057, params: {'max_features': 'log2', 'min_samples_leaf': 10, 'min_samples_split': 10, 'subsample': 0.8},\n",
       " mean: 0.77757, std: 0.02900, params: {'max_features': 'log2', 'min_samples_leaf': 10, 'min_samples_split': 10, 'subsample': 0.9},\n",
       " mean: 0.78213, std: 0.02756, params: {'max_features': 'log2', 'min_samples_leaf': 10, 'min_samples_split': 50, 'subsample': 0.7},\n",
       " mean: 0.77674, std: 0.03214, params: {'max_features': 'log2', 'min_samples_leaf': 10, 'min_samples_split': 50, 'subsample': 0.8},\n",
       " mean: 0.77861, std: 0.03025, params: {'max_features': 'log2', 'min_samples_leaf': 10, 'min_samples_split': 50, 'subsample': 0.9},\n",
       " mean: 0.78006, std: 0.03344, params: {'max_features': 'log2', 'min_samples_leaf': 10, 'min_samples_split': 100, 'subsample': 0.7},\n",
       " mean: 0.77809, std: 0.03199, params: {'max_features': 'log2', 'min_samples_leaf': 10, 'min_samples_split': 100, 'subsample': 0.8},\n",
       " mean: 0.77879, std: 0.02802, params: {'max_features': 'log2', 'min_samples_leaf': 10, 'min_samples_split': 100, 'subsample': 0.9},\n",
       " mean: 0.77927, std: 0.02899, params: {'max_features': 'log2', 'min_samples_leaf': 10, 'min_samples_split': 200, 'subsample': 0.7},\n",
       " mean: 0.78007, std: 0.03011, params: {'max_features': 'log2', 'min_samples_leaf': 10, 'min_samples_split': 200, 'subsample': 0.8},\n",
       " mean: 0.77947, std: 0.03159, params: {'max_features': 'log2', 'min_samples_leaf': 10, 'min_samples_split': 200, 'subsample': 0.9},\n",
       " mean: 0.77990, std: 0.02854, params: {'max_features': 'log2', 'min_samples_leaf': 10, 'min_samples_split': 400, 'subsample': 0.7},\n",
       " mean: 0.77977, std: 0.03203, params: {'max_features': 'log2', 'min_samples_leaf': 10, 'min_samples_split': 400, 'subsample': 0.8},\n",
       " mean: 0.78089, std: 0.03135, params: {'max_features': 'log2', 'min_samples_leaf': 10, 'min_samples_split': 400, 'subsample': 0.9},\n",
       " mean: 0.78545, std: 0.02196, params: {'max_features': 'log2', 'min_samples_leaf': 20, 'min_samples_split': 10, 'subsample': 0.7},\n",
       " mean: 0.78462, std: 0.02474, params: {'max_features': 'log2', 'min_samples_leaf': 20, 'min_samples_split': 10, 'subsample': 0.8},\n",
       " mean: 0.78007, std: 0.02715, params: {'max_features': 'log2', 'min_samples_leaf': 20, 'min_samples_split': 10, 'subsample': 0.9},\n",
       " mean: 0.78671, std: 0.02145, params: {'max_features': 'log2', 'min_samples_leaf': 20, 'min_samples_split': 50, 'subsample': 0.7},\n",
       " mean: 0.78378, std: 0.02411, params: {'max_features': 'log2', 'min_samples_leaf': 20, 'min_samples_split': 50, 'subsample': 0.8},\n",
       " mean: 0.78194, std: 0.02664, params: {'max_features': 'log2', 'min_samples_leaf': 20, 'min_samples_split': 50, 'subsample': 0.9},\n",
       " mean: 0.78696, std: 0.02363, params: {'max_features': 'log2', 'min_samples_leaf': 20, 'min_samples_split': 100, 'subsample': 0.7},\n",
       " mean: 0.78546, std: 0.02490, params: {'max_features': 'log2', 'min_samples_leaf': 20, 'min_samples_split': 100, 'subsample': 0.8},\n",
       " mean: 0.78303, std: 0.02520, params: {'max_features': 'log2', 'min_samples_leaf': 20, 'min_samples_split': 100, 'subsample': 0.9},\n",
       " mean: 0.78789, std: 0.02367, params: {'max_features': 'log2', 'min_samples_leaf': 20, 'min_samples_split': 200, 'subsample': 0.7},\n",
       " mean: 0.78416, std: 0.02468, params: {'max_features': 'log2', 'min_samples_leaf': 20, 'min_samples_split': 200, 'subsample': 0.8},\n",
       " mean: 0.78134, std: 0.02709, params: {'max_features': 'log2', 'min_samples_leaf': 20, 'min_samples_split': 200, 'subsample': 0.9},\n",
       " mean: 0.78631, std: 0.02230, params: {'max_features': 'log2', 'min_samples_leaf': 20, 'min_samples_split': 400, 'subsample': 0.7},\n",
       " mean: 0.78437, std: 0.02612, params: {'max_features': 'log2', 'min_samples_leaf': 20, 'min_samples_split': 400, 'subsample': 0.8},\n",
       " mean: 0.78198, std: 0.02508, params: {'max_features': 'log2', 'min_samples_leaf': 20, 'min_samples_split': 400, 'subsample': 0.9},\n",
       " mean: 0.78657, std: 0.01954, params: {'max_features': 'log2', 'min_samples_leaf': 50, 'min_samples_split': 10, 'subsample': 0.7},\n",
       " mean: 0.78734, std: 0.01973, params: {'max_features': 'log2', 'min_samples_leaf': 50, 'min_samples_split': 10, 'subsample': 0.8},\n",
       " mean: 0.78496, std: 0.02034, params: {'max_features': 'log2', 'min_samples_leaf': 50, 'min_samples_split': 10, 'subsample': 0.9},\n",
       " mean: 0.78657, std: 0.01954, params: {'max_features': 'log2', 'min_samples_leaf': 50, 'min_samples_split': 50, 'subsample': 0.7},\n",
       " mean: 0.78734, std: 0.01973, params: {'max_features': 'log2', 'min_samples_leaf': 50, 'min_samples_split': 50, 'subsample': 0.8},\n",
       " mean: 0.78496, std: 0.02034, params: {'max_features': 'log2', 'min_samples_leaf': 50, 'min_samples_split': 50, 'subsample': 0.9},\n",
       " mean: 0.78657, std: 0.01954, params: {'max_features': 'log2', 'min_samples_leaf': 50, 'min_samples_split': 100, 'subsample': 0.7},\n",
       " mean: 0.78734, std: 0.01973, params: {'max_features': 'log2', 'min_samples_leaf': 50, 'min_samples_split': 100, 'subsample': 0.8},\n",
       " mean: 0.78496, std: 0.02034, params: {'max_features': 'log2', 'min_samples_leaf': 50, 'min_samples_split': 100, 'subsample': 0.9},\n",
       " mean: 0.78540, std: 0.01806, params: {'max_features': 'log2', 'min_samples_leaf': 50, 'min_samples_split': 200, 'subsample': 0.7},\n",
       " mean: 0.78580, std: 0.01962, params: {'max_features': 'log2', 'min_samples_leaf': 50, 'min_samples_split': 200, 'subsample': 0.8},\n",
       " mean: 0.78633, std: 0.01976, params: {'max_features': 'log2', 'min_samples_leaf': 50, 'min_samples_split': 200, 'subsample': 0.9},\n",
       " mean: 0.78561, std: 0.02061, params: {'max_features': 'log2', 'min_samples_leaf': 50, 'min_samples_split': 400, 'subsample': 0.7},\n",
       " mean: 0.78489, std: 0.02098, params: {'max_features': 'log2', 'min_samples_leaf': 50, 'min_samples_split': 400, 'subsample': 0.8},\n",
       " mean: 0.78510, std: 0.02049, params: {'max_features': 'log2', 'min_samples_leaf': 50, 'min_samples_split': 400, 'subsample': 0.9},\n",
       " mean: 0.78497, std: 0.01931, params: {'max_features': 'log2', 'min_samples_leaf': 100, 'min_samples_split': 10, 'subsample': 0.7},\n",
       " mean: 0.78472, std: 0.01951, params: {'max_features': 'log2', 'min_samples_leaf': 100, 'min_samples_split': 10, 'subsample': 0.8},\n",
       " mean: 0.78633, std: 0.01937, params: {'max_features': 'log2', 'min_samples_leaf': 100, 'min_samples_split': 10, 'subsample': 0.9},\n",
       " mean: 0.78497, std: 0.01931, params: {'max_features': 'log2', 'min_samples_leaf': 100, 'min_samples_split': 50, 'subsample': 0.7},\n",
       " mean: 0.78472, std: 0.01951, params: {'max_features': 'log2', 'min_samples_leaf': 100, 'min_samples_split': 50, 'subsample': 0.8},\n",
       " mean: 0.78633, std: 0.01937, params: {'max_features': 'log2', 'min_samples_leaf': 100, 'min_samples_split': 50, 'subsample': 0.9},\n",
       " mean: 0.78497, std: 0.01931, params: {'max_features': 'log2', 'min_samples_leaf': 100, 'min_samples_split': 100, 'subsample': 0.7},\n",
       " mean: 0.78472, std: 0.01951, params: {'max_features': 'log2', 'min_samples_leaf': 100, 'min_samples_split': 100, 'subsample': 0.8},\n",
       " mean: 0.78633, std: 0.01937, params: {'max_features': 'log2', 'min_samples_leaf': 100, 'min_samples_split': 100, 'subsample': 0.9},\n",
       " mean: 0.78497, std: 0.01931, params: {'max_features': 'log2', 'min_samples_leaf': 100, 'min_samples_split': 200, 'subsample': 0.7},\n",
       " mean: 0.78472, std: 0.01951, params: {'max_features': 'log2', 'min_samples_leaf': 100, 'min_samples_split': 200, 'subsample': 0.8},\n",
       " mean: 0.78633, std: 0.01937, params: {'max_features': 'log2', 'min_samples_leaf': 100, 'min_samples_split': 200, 'subsample': 0.9},\n",
       " mean: 0.78375, std: 0.01928, params: {'max_features': 'log2', 'min_samples_leaf': 100, 'min_samples_split': 400, 'subsample': 0.7},\n",
       " mean: 0.78562, std: 0.01976, params: {'max_features': 'log2', 'min_samples_leaf': 100, 'min_samples_split': 400, 'subsample': 0.8},\n",
       " mean: 0.78472, std: 0.01996, params: {'max_features': 'log2', 'min_samples_leaf': 100, 'min_samples_split': 400, 'subsample': 0.9},\n",
       " mean: 0.78243, std: 0.01857, params: {'max_features': 'log2', 'min_samples_leaf': 200, 'min_samples_split': 10, 'subsample': 0.7},\n",
       " mean: 0.78244, std: 0.01940, params: {'max_features': 'log2', 'min_samples_leaf': 200, 'min_samples_split': 10, 'subsample': 0.8},\n",
       " mean: 0.78285, std: 0.01917, params: {'max_features': 'log2', 'min_samples_leaf': 200, 'min_samples_split': 10, 'subsample': 0.9},\n",
       " mean: 0.78243, std: 0.01857, params: {'max_features': 'log2', 'min_samples_leaf': 200, 'min_samples_split': 50, 'subsample': 0.7},\n",
       " mean: 0.78244, std: 0.01940, params: {'max_features': 'log2', 'min_samples_leaf': 200, 'min_samples_split': 50, 'subsample': 0.8},\n",
       " mean: 0.78285, std: 0.01917, params: {'max_features': 'log2', 'min_samples_leaf': 200, 'min_samples_split': 50, 'subsample': 0.9},\n",
       " mean: 0.78243, std: 0.01857, params: {'max_features': 'log2', 'min_samples_leaf': 200, 'min_samples_split': 100, 'subsample': 0.7},\n",
       " mean: 0.78244, std: 0.01940, params: {'max_features': 'log2', 'min_samples_leaf': 200, 'min_samples_split': 100, 'subsample': 0.8},\n",
       " mean: 0.78285, std: 0.01917, params: {'max_features': 'log2', 'min_samples_leaf': 200, 'min_samples_split': 100, 'subsample': 0.9},\n",
       " mean: 0.78243, std: 0.01857, params: {'max_features': 'log2', 'min_samples_leaf': 200, 'min_samples_split': 200, 'subsample': 0.7},\n",
       " mean: 0.78244, std: 0.01940, params: {'max_features': 'log2', 'min_samples_leaf': 200, 'min_samples_split': 200, 'subsample': 0.8},\n",
       " mean: 0.78285, std: 0.01917, params: {'max_features': 'log2', 'min_samples_leaf': 200, 'min_samples_split': 200, 'subsample': 0.9},\n",
       " mean: 0.78243, std: 0.01857, params: {'max_features': 'log2', 'min_samples_leaf': 200, 'min_samples_split': 400, 'subsample': 0.7},\n",
       " mean: 0.78244, std: 0.01940, params: {'max_features': 'log2', 'min_samples_leaf': 200, 'min_samples_split': 400, 'subsample': 0.8},\n",
       " mean: 0.78285, std: 0.01917, params: {'max_features': 'log2', 'min_samples_leaf': 200, 'min_samples_split': 400, 'subsample': 0.9}]"
      ]
     },
     "execution_count": 35,
     "metadata": {},
     "output_type": "execute_result"
    }
   ],
   "source": [
    "gsearch2.grid_scores_"
   ]
  },
  {
   "cell_type": "code",
   "execution_count": 36,
   "metadata": {},
   "outputs": [
    {
     "data": {
      "text/plain": [
       "{'max_features': 'sqrt',\n",
       " 'min_samples_leaf': 20,\n",
       " 'min_samples_split': 200,\n",
       " 'subsample': 0.7}"
      ]
     },
     "execution_count": 36,
     "metadata": {},
     "output_type": "execute_result"
    }
   ],
   "source": [
    "gsearch2.best_params_"
   ]
  },
  {
   "cell_type": "code",
   "execution_count": 37,
   "metadata": {},
   "outputs": [
    {
     "data": {
      "text/plain": [
       "0.7878858101444541"
      ]
     },
     "execution_count": 37,
     "metadata": {},
     "output_type": "execute_result"
    }
   ],
   "source": [
    "gsearch2.best_score_"
   ]
  },
  {
   "cell_type": "markdown",
   "metadata": {},
   "source": [
    "The optimal values for max_depth and min_samples_split are in fact the ones we used as baselines in our initial model. "
   ]
  },
  {
   "cell_type": "markdown",
   "metadata": {},
   "source": [
    "Once again, our original hyperparameters turn out to be the opitmal ones. \n",
    "\n",
    "For a final tuning procedure, we'll run the model with the exponential loss function in place of deviance. "
   ]
  },
  {
   "cell_type": "code",
   "execution_count": 38,
   "metadata": {},
   "outputs": [
    {
     "name": "stdout",
     "output_type": "stream",
     "text": [
      "[ 0.73892297  0.66189502  0.76209952  0.73942701  0.75426621]\n",
      "0.731322148526\n",
      "             precision    recall  f1-score   support\n",
      "\n",
      "        0.0       0.76      0.94      0.84      4508\n",
      "        1.0       0.84      0.52      0.64      2824\n",
      "\n",
      "avg / total       0.79      0.78      0.76      7332\n",
      "\n",
      "Training set accuracy:\n",
      "Percent Type I errors: 0.03696126568466994\n",
      "Percent Type II errors: 0.18630660120021822\n",
      "\n",
      "\n"
     ]
    }
   ],
   "source": [
    "clf2 = ensemble.GradientBoostingClassifier(learning_rate=0.05, \n",
    "                                           min_samples_split=200,\n",
    "                                           min_samples_leaf=20,\n",
    "                                           n_estimators=80,\n",
    "                                           max_depth=6,\n",
    "                                           max_features='sqrt',\n",
    "                                           subsample=0.7,\n",
    "                                           random_state=10,\n",
    "                                           loss='deviance')\n",
    "\n",
    "clf2.fit(X_train,y_train)\n",
    "predict_train = clf2.predict(X_train)\n",
    "\n",
    "print(cross_val_score(clf2, X_train, y_train, cv=5))\n",
    "print(cross_val_score(clf2, X_train, y_train, cv=5).mean())\n",
    "\n",
    "# Accuracy tables.\n",
    "print(classification_report(y_train, predict_train))\n",
    "table_train = pd.crosstab(y_train, predict_train, margins=True)\n",
    "train_tI_errors = table_train.loc[0.0,1.0] / table_train.loc['All','All']\n",
    "train_tII_errors = table_train.loc[1.0,0.0] / table_train.loc['All','All']\n",
    "\n",
    "print((\n",
    "    'Training set accuracy:\\n'\n",
    "    'Percent Type I errors: {}\\n'\n",
    "    'Percent Type II errors: {}\\n\\n'\n",
    ").format(train_tI_errors, train_tII_errors))"
   ]
  },
  {
   "cell_type": "code",
   "execution_count": 39,
   "metadata": {},
   "outputs": [
    {
     "data": {
      "image/png": "[encoded data removed]",
      "text/plain": [
       "<matplotlib.figure.Figure at 0x1a1f7a7c18>"
      ]
     },
     "metadata": {},
     "output_type": "display_data"
    }
   ],
   "source": [
    "feature_importance = clf2.feature_importances_\n",
    "\n",
    "# Make importances relative to max importance.\n",
    "feature_importance = 100.0 * (feature_importance / feature_importance.max())\n",
    "sorted_idx = np.argsort(feature_importance)\n",
    "pos = np.arange(sorted_idx.shape[0]) + .5\n",
    "plt.subplot(1, 2, 2)\n",
    "plt.barh(pos, feature_importance[sorted_idx], align='center')\n",
    "plt.yticks(pos, X.columns[sorted_idx])\n",
    "plt.xlabel('Relative Importance')\n",
    "plt.title('Variable Importance')\n",
    "plt.show()"
   ]
  },
  {
   "cell_type": "markdown",
   "metadata": {},
   "source": [
    "Here again, the Type I error rate improves, while the Type II error rate gets a little bit worse. Let's run the model on our test data, to see how well it performs."
   ]
  },
  {
   "cell_type": "code",
   "execution_count": 40,
   "metadata": {},
   "outputs": [
    {
     "name": "stdout",
     "output_type": "stream",
     "text": [
      "             precision    recall  f1-score   support\n",
      "\n",
      "        0.0       0.74      0.90      0.82       505\n",
      "        1.0       0.76      0.49      0.59       310\n",
      "\n",
      "avg / total       0.75      0.75      0.73       815\n",
      "\n",
      "Test set accuracy:\n",
      "Percent Type I errors: 0.06012269938650307\n",
      "Percent Type II errors: 0.19386503067484662\n",
      "\n",
      "\n"
     ]
    }
   ],
   "source": [
    "predict_test = clf2.predict(X_test)\n",
    "\n",
    "#Accuracy tables.\n",
    "print(classification_report(y_test, predict_test))\n",
    "table_test = pd.crosstab(y_test, predict_test, margins=True)\n",
    "test_tI_errors = table_test.loc[0.0,1.0] / table_test.loc['All','All']\n",
    "test_tII_errors = table_test.loc[1.0,0.0] / table_test.loc['All','All']\n",
    "\n",
    "print((\n",
    "    'Test set accuracy:\\n'\n",
    "    'Percent Type I errors: {}\\n'\n",
    "    'Percent Type II errors: {}\\n\\n'\n",
    ").format(test_tI_errors, test_tII_errors))"
   ]
  },
  {
   "cell_type": "markdown",
   "metadata": {},
   "source": [
    "The tuned model performs a little better than the default model with respect to Type I errors, but it is a little worse with respect to Type II errors. Nevertheless, it is better protected from overfitting, so if we were to test it on additional unseen data, it might be more reliable."
   ]
  },
  {
   "cell_type": "code",
   "execution_count": null,
   "metadata": {
    "collapsed": true
   },
   "outputs": [],
   "source": []
  }
 ],
 "metadata": {
  "hide_input": false,
  "kernelspec": {
   "display_name": "Python 3",
   "language": "python",
   "name": "python3"
  },
  "language_info": {
   "codemirror_mode": {
    "name": "ipython",
    "version": 3
   },
   "file_extension": ".py",
   "mimetype": "text/x-python",
   "name": "python",
   "nbconvert_exporter": "python",
   "pygments_lexer": "ipython3",
   "version": "3.6.2"
  },
  "toc": {
   "colors": {
    "hover_highlight": "#DAA520",
    "running_highlight": "#FF0000",
    "selected_highlight": "#FFD700"
   },
   "moveMenuLeft": true,
   "nav_menu": {
    "height": "59px",
    "width": "252px"
   },
   "navigate_menu": true,
   "number_sections": true,
   "sideBar": true,
   "threshold": 4,
   "toc_cell": false,
   "toc_section_display": "block",
   "toc_window_display": false
  }
 },
 "nbformat": 4,
 "nbformat_minor": 2
}
