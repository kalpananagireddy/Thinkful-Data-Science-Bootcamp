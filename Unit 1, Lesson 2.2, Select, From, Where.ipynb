{
 "cells": [
  {
   "cell_type": "markdown",
   "metadata": {},
   "source": [
    "## Drill: Write SQL queries to information from the Bay Area Bikeshare dataset.\n",
    "\n",
    "\n",
    "1. The IDs and durations for all trips of duration greater than 500, ordered by duration.\n",
    "2. Every column of the stations table for station id 84.\n",
    "3. The min temperatures of all the occurrences of rain in zip 94301.\n",
    "\n",
    "\n",
    "- The IDs and durations for all trips of duration greater than 500, ordered by duration. (Note here that the duration column appears to be a string, so the result is ordered accordingly.)\n",
    "\n",
    "SELECT\n",
    "\n",
    "    trip_id,\n",
    "    \n",
    "    duration\n",
    "    \n",
    "FROM\n",
    "\n",
    "    trips\n",
    "    \n",
    "WHERE\n",
    "\n",
    "\tduration >500\n",
    "    \n",
    "ORDER BY duration DESC\n",
    "\n",
    "\n",
    "\n",
    "- Every column of the stations table for station id 84.\n",
    "\n",
    "SELECT\n",
    "\n",
    "    *\n",
    "    \n",
    "FROM\n",
    "\n",
    "    stations\n",
    "    \n",
    "WHERE\n",
    "\n",
    "\tstation_id = 84\n",
    "    \n",
    "\n",
    "\n",
    "- The min temperatures of all the occurrences of rain in zip 94301. (Note that if we wanted to include fog-rain Events, we could add OR Events like 'fog-rain' to the end of the query.)\n",
    "\n",
    "SELECT\n",
    "\n",
    "    MinTemperatureF\n",
    "    \n",
    "FROM\n",
    "\n",
    "    weather\n",
    "    \n",
    "WHERE\n",
    "\n",
    "    ZIP like '94301' AND\n",
    "    \n",
    "    Events like 'rain'\n",
    "    "
   ]
  },
  {
   "cell_type": "code",
   "execution_count": null,
   "metadata": {
    "collapsed": true
   },
   "outputs": [],
   "source": []
  }
 ],
 "metadata": {
  "kernelspec": {
   "display_name": "Python 3",
   "language": "python",
   "name": "python3"
  },
  "language_info": {
   "codemirror_mode": {
    "name": "ipython",
    "version": 3
   },
   "file_extension": ".py",
   "mimetype": "text/x-python",
   "name": "python",
   "nbconvert_exporter": "python",
   "pygments_lexer": "ipython3",
   "version": "3.6.2"
  }
 },
 "nbformat": 4,
 "nbformat_minor": 2
}
