{
 "cells": [
  {
   "cell_type": "markdown",
   "metadata": {},
   "source": [
    "## Unit 1, Lesson 3.6 Data Cleaning ##\n",
    "\n",
    "1. Determine the five most common journals and the total articles for each.\n",
    "2. Next, calculate the mean, median, and standard deviation of the open-access cost per article for each journal.\n",
    "3. BONUS: Identify the open access prices paid by subject area.\n",
    "\n",
    "First, let's set up the data and take a look at the file."
   ]
  },
  {
   "cell_type": "code",
   "execution_count": 32,
   "metadata": {},
   "outputs": [
    {
     "data": {
      "text/html": [
       "<div>\n",
       "<style>\n",
       "    .dataframe thead tr:only-child th {\n",
       "        text-align: right;\n",
       "    }\n",
       "\n",
       "    .dataframe thead th {\n",
       "        text-align: left;\n",
       "    }\n",
       "\n",
       "    .dataframe tbody tr th {\n",
       "        vertical-align: top;\n",
       "    }\n",
       "</style>\n",
       "<table border=\"1\" class=\"dataframe\">\n",
       "  <thead>\n",
       "    <tr style=\"text-align: right;\">\n",
       "      <th></th>\n",
       "      <th>PMID/PMCID</th>\n",
       "      <th>Publisher</th>\n",
       "      <th>Journal title</th>\n",
       "      <th>Article title</th>\n",
       "      <th>Cost</th>\n",
       "    </tr>\n",
       "  </thead>\n",
       "  <tbody>\n",
       "    <tr>\n",
       "      <th>0</th>\n",
       "      <td>NaN</td>\n",
       "      <td>CUP</td>\n",
       "      <td>Psychological Medicine</td>\n",
       "      <td>Reduced parahippocampal cortical thickness in ...</td>\n",
       "      <td>£0.00</td>\n",
       "    </tr>\n",
       "    <tr>\n",
       "      <th>1</th>\n",
       "      <td>PMC3679557</td>\n",
       "      <td>ACS</td>\n",
       "      <td>Biomacromolecules</td>\n",
       "      <td>Structural characterization of a Model Gram-ne...</td>\n",
       "      <td>£2381.04</td>\n",
       "    </tr>\n",
       "    <tr>\n",
       "      <th>2</th>\n",
       "      <td>23043264  PMC3506128</td>\n",
       "      <td>ACS</td>\n",
       "      <td>J Med Chem</td>\n",
       "      <td>Fumaroylamino-4,5-epoxymorphinans and related ...</td>\n",
       "      <td>£642.56</td>\n",
       "    </tr>\n",
       "    <tr>\n",
       "      <th>3</th>\n",
       "      <td>23438330 PMC3646402</td>\n",
       "      <td>ACS</td>\n",
       "      <td>J Med Chem</td>\n",
       "      <td>Orvinols with mixed kappa/mu opioid receptor a...</td>\n",
       "      <td>£669.64</td>\n",
       "    </tr>\n",
       "    <tr>\n",
       "      <th>4</th>\n",
       "      <td>23438216 PMC3601604</td>\n",
       "      <td>ACS</td>\n",
       "      <td>J Org Chem</td>\n",
       "      <td>Regioselective opening of myo-inositol orthoes...</td>\n",
       "      <td>£685.88</td>\n",
       "    </tr>\n",
       "  </tbody>\n",
       "</table>\n",
       "</div>"
      ],
      "text/plain": [
       "              PMID/PMCID Publisher           Journal title  \\\n",
       "0                    NaN       CUP  Psychological Medicine   \n",
       "1             PMC3679557       ACS       Biomacromolecules   \n",
       "2  23043264  PMC3506128        ACS              J Med Chem   \n",
       "3    23438330 PMC3646402       ACS              J Med Chem   \n",
       "4   23438216 PMC3601604        ACS              J Org Chem   \n",
       "\n",
       "                                       Article title      Cost  \n",
       "0  Reduced parahippocampal cortical thickness in ...     £0.00  \n",
       "1  Structural characterization of a Model Gram-ne...  £2381.04  \n",
       "2  Fumaroylamino-4,5-epoxymorphinans and related ...   £642.56  \n",
       "3  Orvinols with mixed kappa/mu opioid receptor a...   £669.64  \n",
       "4  Regioselective opening of myo-inositol orthoes...   £685.88  "
      ]
     },
     "execution_count": 32,
     "metadata": {},
     "output_type": "execute_result"
    }
   ],
   "source": [
    "#preamble\n",
    "import numpy as np\n",
    "import pandas as pd\n",
    "import matplotlib.pyplot as plt\n",
    "from matplotlib import cm\n",
    "import matplotlib.ticker as mtick\n",
    "%matplotlib inline\n",
    "import re\n",
    "import seaborn as sns\n",
    "sns.set_style(\"whitegrid\")\n",
    "sns.set_context(\"notebook\", font_scale=1.5, rc={\"lines.linewidth\": 2.5})\n",
    "\n",
    "#Read in the data, using iso-8859-1 encoding\n",
    "wellcome = pd.read_csv('/Users/teresaoneill/Dropbox/Thinkful/Datasets/wellcome.csv', encoding='iso-8859-1')\n",
    "wellcome_clean = wellcome\n",
    "wellcome_clean.columns = ['PMID/PMCID', 'Publisher', 'Journal title', 'Article title','Cost']\n",
    "wellcome_clean.head()"
   ]
  },
  {
   "cell_type": "markdown",
   "metadata": {},
   "source": [
    "The first step is to clean the journal titles. We will start by casting them all in title case and stripping trailing white space. Next, let's examine how many times each title occurs, to make it easier to identify errors in those that occur only once."
   ]
  },
  {
   "cell_type": "code",
   "execution_count": 33,
   "metadata": {},
   "outputs": [
    {
     "data": {
      "text/plain": [
       "571"
      ]
     },
     "execution_count": 33,
     "metadata": {},
     "output_type": "execute_result"
    }
   ],
   "source": [
    "#Use title case for the journal title field.\n",
    "#Strip trailing whitespace.\n",
    "wellcome_clean['Journal title'] = wellcome_clean['Journal title'].apply(lambda x: str(x).title())\n",
    "wellcome_clean['Journal title'] = wellcome_clean['Journal title'].apply(lambda x: str(x).strip())\n",
    "\n",
    "#Count how often the title occurs.\n",
    "#Caveat: Some of the 'dirty' titles occur more than once. \n",
    "\n",
    "wellcome_clean['freq'] = wellcome_clean.groupby('Journal title')['Journal title'].transform('count')\n",
    "wellcome_clean['freq'] = wellcome_clean['freq'].sort_values()\n",
    "len(wellcome_clean[wellcome_clean['freq']==1])"
   ]
  },
  {
   "cell_type": "markdown",
   "metadata": {},
   "source": [
    "Since 571 of the titles occur only once, this may not be the most efficient way to identify errors. Based on a few cursory observations, let's proceed by replacing strings for more consistent use of abbreviations."
   ]
  },
  {
   "cell_type": "code",
   "execution_count": 34,
   "metadata": {},
   "outputs": [],
   "source": [
    "#Clean inconsistent journal names by removing 'the' and spelling out abbreviations.\n",
    "#NOTE: More cleaning needed.\n",
    "wellcome_clean['Journal title'] = wellcome_clean['Journal title'].apply(lambda x: str(x).replace('J ', 'Journal of '))\n",
    "wellcome_clean['Journal title'] = wellcome_clean['Journal title'].apply(lambda x: str(x).replace('The Journal', 'Journal'))\n",
    "wellcome_clean['Journal title'] = wellcome_clean['Journal title'].apply(lambda x: str(x).replace('Org ', 'Organic '))\n",
    "wellcome_clean['Journal title'] = wellcome_clean['Journal title'].apply(lambda x: str(x).replace('Med ', 'Medicinal '))\n",
    "wellcome_clean['Journal title'] = wellcome_clean['Journal title'].apply(lambda x: str(x).replace('Psychiatty', 'Psychiatry'))\n",
    "\n",
    "#NOTE: How can I get a regex to work inside str.replace? So far, no luck.\n",
    "\n",
    "#wellcome_clean['Journal title'] = wellcome_clean['Journal title'].apply(lambda x: str(x).replace('Birth Defects Research', 'Birth Defects Research'))"
   ]
  },
  {
   "cell_type": "markdown",
   "metadata": {},
   "source": [
    "Now that the journal titles are (more or less) clean, we will move onto the price column. The data in the price column is currently strings, but we need it to be numeric in order to maniupate it. There are currency symbols before and after the numerican information, which should be moved to a separate column."
   ]
  },
  {
   "cell_type": "code",
   "execution_count": 35,
   "metadata": {},
   "outputs": [
    {
     "data": {
      "text/plain": [
       "0       0.00\n",
       "1    2381.04\n",
       "2     642.56\n",
       "3     669.64\n",
       "4     685.88\n",
       "Name: Price, dtype: float64"
      ]
     },
     "execution_count": 35,
     "metadata": {},
     "output_type": "execute_result"
    }
   ],
   "source": [
    "#Now let's clean the Price column.\n",
    "#Use a regex to assign the numerical information, including decimal point, to its own column.\n",
    "wellcome_clean['Price'] = wellcome_clean['Cost'].str.findall(r'\\d+[.]\\d+')\n",
    "wellcome_clean['Price'] = wellcome_clean['Price'].apply(lambda x: x[0] if x else 0)\n",
    "wellcome_clean['Price'] = wellcome_clean['Price'].apply(lambda x: pd.to_numeric(x))\n",
    "wellcome_clean['Price'].head()"
   ]
  },
  {
   "cell_type": "code",
   "execution_count": 36,
   "metadata": {
    "collapsed": true
   },
   "outputs": [],
   "source": [
    "#Use a regex to assign currency symbols to their own column.\n",
    "#Caveat: For now, Price does not have any currency conversion, \n",
    "#so the values should not really be compared.\n",
    "\n",
    "wellcome_clean['Currency'] = wellcome_clean['Cost'].str.findall(r'$')\n",
    "wellcome_clean['Currency'] = wellcome_clean['Cost'].str.findall(r'£')"
   ]
  },
  {
   "cell_type": "markdown",
   "metadata": {},
   "source": [
    "We will use a histogram to get a sense for the distribution of the price information."
   ]
  },
  {
   "cell_type": "code",
   "execution_count": 37,
   "metadata": {},
   "outputs": [
    {
     "data": {
      "image/png": "[encoded data removed]",
      "text/plain": [
       "<matplotlib.figure.Figure at 0x1100e9e80>"
      ]
     },
     "metadata": {},
     "output_type": "display_data"
    }
   ],
   "source": [
    "#Check Price for anomalous values.\n",
    "ax = sns.distplot(wellcome_clean['Price'])\n",
    "ax.set(xlabel='', ylabel='', title='Prices')\n",
    "plt.show()"
   ]
  },
  {
   "cell_type": "markdown",
   "metadata": {},
   "source": [
    "Several articles are priced at 999999.00. 999999 is most likely a missingness indicator, since there is no currency symbol and this is an implausible value for a journal article. Let us replace 999999.00 with NaN, and then impute the price by substituting the mean article price for the appropriate journal. "
   ]
  },
  {
   "cell_type": "code",
   "execution_count": 38,
   "metadata": {},
   "outputs": [],
   "source": [
    "#NOTE: means are showing up as NaN; \n",
    "#also tried including the calculation as the argument of .fillna(), to no avail.\n",
    "#Not sure what is wrong here.\n",
    "wellcome_clean[wellcome_clean['Price'] == 999999.00] = None\n",
    "means = wellcome.groupby(['Journal title'])['Price'].mean()\n",
    "wellcome_clean['Price'] = wellcome_clean['Price'].fillna(means)\n",
    "\n",
    "#df = df.apply(lambda x:x.fillna(x.value_counts().index[0]))\n",
    "#df.fillna(df.mean(),inplace=True)\n",
    "#wellcome_clean['Price'] = wellcome_clean['Price'].fillna(wellcome_clean['Price'].groupby(wellcome_clean['Journal title']).mean())"
   ]
  },
  {
   "cell_type": "markdown",
   "metadata": {},
   "source": [
    "Now that we have dealt with the incorrectly coded missing prices, let's take a look at other potentially incorrect values. We will examine the high outliers that are in the top 1% of the dataset. We will find some high outliers with implausible values, and take a closer look at the highest one to identify the source of the problem. "
   ]
  },
  {
   "cell_type": "code",
   "execution_count": 39,
   "metadata": {},
   "outputs": [
    {
     "name": "stdout",
     "output_type": "stream",
     "text": [
      "                             PMID/PMCID                  Publisher  \\\n",
      "490                          PMC3650559                   Elsevier   \n",
      "526                                 NaN                   Elsevier   \n",
      "542                             3605578                   Elsevier   \n",
      "552                 23541370 PMC3744751                   Elsevier   \n",
      "648                                 NaN                   Elsevier   \n",
      "668                   PMCID: PMC3594747                   Elsevier   \n",
      "728                          PMC3748348                   Elsevier   \n",
      "729                             2875410                   Elsevier   \n",
      "786                   PMCID: PMC3694306                   Elsevier   \n",
      "796                          PMC3525981                   Elsevier   \n",
      "797                                 NaN                   Elsevier   \n",
      "798            PMCID:\\r    PMC3627205\\r                   Elsevier   \n",
      "799                                 NaN                   Elsevier   \n",
      "800   PMID: 23041239 /PMCID: PMC3490334                   Elsevier   \n",
      "831                          PMC3685808                  Elsevier    \n",
      "841                 23394834 PMC3629559              Elsevier B.V.   \n",
      "844                23498957 PMC3601332         Elsevier/Cell Press   \n",
      "986                                 NaN                  MacMillan   \n",
      "1470                            3547931  Public Library of Science   \n",
      "1619                             543219       public.service.co.uk   \n",
      "1987                     PMC3664409\\r\\r                      Wiley   \n",
      "\n",
      "              Journal title  \\\n",
      "490                    Cell   \n",
      "526         Current Biology   \n",
      "542      Developmental Cell   \n",
      "552                Elsevier   \n",
      "648                  Lancet   \n",
      "668          Molecular Cell   \n",
      "728                  Neuron   \n",
      "729                  Neuron   \n",
      "786               Structure   \n",
      "796              The Lancet   \n",
      "797              The Lancet   \n",
      "798              The Lancet   \n",
      "799    The Lancet Neurology   \n",
      "800    The Lancet Neurology   \n",
      "831         Cell Metabolism   \n",
      "841              Curr Biol.   \n",
      "844     Cell Host & Microbe   \n",
      "986                     Nan   \n",
      "1470               Plos One   \n",
      "1619  Public Service Review   \n",
      "1987     Movement Disorders   \n",
      "\n",
      "                                          Article title        Cost   freq  \\\n",
      "490   Mapping the human miRNA interactome by CLASH r...    £4163.88    5.0   \n",
      "526                  A fovea for pain at the fingertips    £4112.54   11.0   \n",
      "542   Syndecan-4 phosphorylation is a control point ...    £4099.71   12.0   \n",
      "552   Effects of relative weight gain and linear gro...    £4800.00    7.0   \n",
      "648   Global trends in antiretroviral resistance in ...    £4800.00    2.0   \n",
      "668   Identification and Functional Characterization...    £4148.39    5.0   \n",
      "728   Attention induced variance and noise correclat...    £4105.34    9.0   \n",
      "729   Distinct contributions of rod, cone, and melan...    £4170.35    9.0   \n",
      "786   The architecture of EssB, an integral membrane...    £4095.97    7.0   \n",
      "796   Dementia incidence and mortality in middle inc...    £4320.00    3.0   \n",
      "797   The impact on a serogroup a meningococcal conj...    £4554.01    3.0   \n",
      "798   Effects of unconditional and conditional cash ...    £4800.00    3.0   \n",
      "799   MRI investigation of the sensorimotor cortex a...    £4320.00    2.0   \n",
      "800   Genetic risk factors for ischaemic stroke and ...    £5760.00    2.0   \n",
      "831   Improved insulin sensitivity despite increased...    £4084.51    3.0   \n",
      "841   Calcium flashes orchestrate the wound inflamma...    £4151.77    1.0   \n",
      "844   Human cytomegalovirus UL141 targets the TRAIL ...    £4226.04    1.0   \n",
      "986   Fungal Disease in Britain and the United State...   £13200.00    1.0   \n",
      "1470  Reducing stock-outs of life saving Malaria Com...  £192645.00  190.0   \n",
      "1619            Laboratory Science in Tropical Medicine    £6000.00    1.0   \n",
      "1987  Limb amputations in fixed dystonia: a form of ...  £201024.00   13.0   \n",
      "\n",
      "          Price Currency  \n",
      "490     4163.88      [£]  \n",
      "526     4112.54      [£]  \n",
      "542     4099.71      [£]  \n",
      "552     4800.00      [£]  \n",
      "648     4800.00      [£]  \n",
      "668     4148.39      [£]  \n",
      "728     4105.34      [£]  \n",
      "729     4170.35      [£]  \n",
      "786     4095.97      [£]  \n",
      "796     4320.00      [£]  \n",
      "797     4554.01      [£]  \n",
      "798     4800.00      [£]  \n",
      "799     4320.00      [£]  \n",
      "800     5760.00      [£]  \n",
      "831     4084.51      [£]  \n",
      "841     4151.77      [£]  \n",
      "844     4226.04      [£]  \n",
      "986    13200.00      [£]  \n",
      "1470  192645.00      [£]  \n",
      "1619    6000.00      [£]  \n",
      "1987  201024.00      [£]  \n"
     ]
    }
   ],
   "source": [
    "#Recheck distribution.\n",
    "outliers = wellcome_clean[wellcome_clean['Price'] > wellcome_clean['Price'].quantile(.99)]\n",
    "print(outliers)"
   ]
  },
  {
   "cell_type": "markdown",
   "metadata": {},
   "source": [
    "The max value is \\$201024.00. Other articles in the same journal are $2010.24, so the high value appears to be a decimal placement error. The decimal can be moved to correct the value, and the remaining outliers rechecked for similar anomalies, correcting as necessary."
   ]
  },
  {
   "cell_type": "code",
   "execution_count": 40,
   "metadata": {
    "collapsed": true
   },
   "outputs": [],
   "source": [
    "wellcome_clean['Price'].replace(201024.00, 2010.24, inplace=True)\n",
    "wellcome_clean['Price'].replace(192645.00, 1926.45, inplace=True)\n",
    "wellcome_clean['Price'].replace(13200.00, 1320.00, inplace=True)\n",
    "wellcome_clean['Price'].replace(6000.00, 600.00, inplace=True)"
   ]
  },
  {
   "cell_type": "markdown",
   "metadata": {},
   "source": [
    "Remaining high values appear to be legitimate, so we will not change them.\n",
    "\n",
    "Now we are ready to answer the questions we started with. First, let's print the five most common journals and the number of articles for each. "
   ]
  },
  {
   "cell_type": "code",
   "execution_count": 41,
   "metadata": {
    "scrolled": false
   },
   "outputs": [
    {
     "name": "stdout",
     "output_type": "stream",
     "text": [
      "Plos One                           183\n",
      "Journal Of Biological Chemistry     59\n",
      "Neuroimage                          29\n",
      "Nucleic Acids Research              26\n",
      "Plos Pathogens                      22\n",
      "Name: Journal title, dtype: int64\n"
     ]
    }
   ],
   "source": [
    "print(wellcome_clean['Journal title'].value_counts()[:5])"
   ]
  },
  {
   "cell_type": "markdown",
   "metadata": {},
   "source": [
    "Next, we'll print the description for the price information to identify the mean, median, and standard deviation of prices per journal."
   ]
  },
  {
   "cell_type": "code",
   "execution_count": 42,
   "metadata": {},
   "outputs": [
    {
     "name": "stdout",
     "output_type": "stream",
     "text": [
      "                                                    count         mean  \\\n",
      "Journal title                                                            \n",
      "Academy Of Nutrition And Dietetics                    1.0  2379.540000   \n",
      "Acs Chemical Biology                                  5.0  1418.186000   \n",
      "Acs Chemical Neuroscience                             1.0  1186.800000   \n",
      "Acs Nano                                              2.0   668.140000   \n",
      "Acta Crystallographica Section D,  Biological C...    1.0   771.420000   \n",
      "Acta Crystallographica Section D: Biological Cr...    1.0   773.740000   \n",
      "Acta Crystallographica Section F: Structural Bi...    2.0   796.635000   \n",
      "Acta Crystallographica, Section D                     1.0   757.180000   \n",
      "Acta Crystallography D                                1.0   774.190000   \n",
      "Acta D                                                1.0   750.160000   \n",
      "Acta Dermato Venereologica                            1.0   653.960000   \n",
      "Acta Diabetologica                                    1.0  2336.280000   \n",
      "Acta F                                                1.0   754.900000   \n",
      "Acta Neuropathol                                      1.0  1901.040000   \n",
      "Acta Neuropathologica                                 3.0  2161.063333   \n",
      "Acta Opthalmologica                                   1.0  2270.160000   \n",
      "Acta Physiol                                          1.0  1991.500000   \n",
      "Addiction                                             2.0  2136.225000   \n",
      "Advances In Experimental Medicine And Biology         4.0  1928.457500   \n",
      "Age                                                   2.0  2170.140000   \n",
      "Age And Ageing                                        1.0  2040.000000   \n",
      "Ageing & Society                                      1.0  1695.000000   \n",
      "Aging Cell                                            1.0  1970.570000   \n",
      "Aids                                                  3.0  2059.306667   \n",
      "Aids Behav                                            1.0  1834.770000   \n",
      "Aids Care                                             4.0  2294.225000   \n",
      "Aids Journal                                          1.0  2015.720000   \n",
      "Aids Research And Therapy                             1.0  1240.000000   \n",
      "Aids Uk                                               2.0  1836.920000   \n",
      "Alcohol And Alcoholism                                1.0  2040.000000   \n",
      "...                                                   ...          ...   \n",
      "Tissue Engineering: Part A                            1.0  1741.320000   \n",
      "Traffic                                               6.0  2129.338333   \n",
      "Transactions Of The Royal Society Of Tropical M...    1.0  1524.080000   \n",
      "Translational Psychiatry                              2.0  2880.000000   \n",
      "Trends In Cognitive Science                           1.0  2340.630000   \n",
      "Trends In Genetics                                    2.0  2370.935000   \n",
      "Trends In Microbiology                                1.0  2291.330000   \n",
      "Trends In Molecular Medicine                          1.0  2248.330000   \n",
      "Trends In Neuroscience                                1.0  2402.810000   \n",
      "Trends In Neurosciences                               1.0  2426.960000   \n",
      "Trends In Parasitology                                3.0  2257.653333   \n",
      "Trials                                                4.0  1200.475000   \n",
      "Trop Medicinal Int Health                             1.0  1834.770000   \n",
      "Tropical Animal Health & Production                   1.0  2054.780000   \n",
      "Tropical Medicine And International Health            6.0  1843.163333   \n",
      "Tuberculosis                                          2.0  2161.255000   \n",
      "Urban History                                         1.0  2034.000000   \n",
      "Urolithiasis                                          1.0  1112.400000   \n",
      "Vaccine                                               5.0  1623.394000   \n",
      "Vascular Pharmacology                                 1.0  2352.530000   \n",
      "Veterinary Microbiology                               1.0  2451.490000   \n",
      "Veterinary Parasitology                               1.0  2488.170000   \n",
      "Veterinary Record                                     1.0  2040.000000   \n",
      "Veterinary Research                                   1.0     9.930000   \n",
      "Virology                                              2.0  1928.505000   \n",
      "Virology Journal                                      1.0  1242.000000   \n",
      "Virus Research                                        1.0  1947.090000   \n",
      "Vision Research                                       1.0  1456.180000   \n",
      "Visual Neuroscience                                   1.0  2034.000000   \n",
      "Zoonoses And Public Health                            1.0  2272.150000   \n",
      "\n",
      "                                                           std      min  \\\n",
      "Journal title                                                             \n",
      "Academy Of Nutrition And Dietetics                         NaN  2379.54   \n",
      "Acs Chemical Biology                                507.309560   947.07   \n",
      "Acs Chemical Neuroscience                                  NaN  1186.80   \n",
      "Acs Nano                                             35.708892   642.89   \n",
      "Acta Crystallographica Section D,  Biological C...         NaN   771.42   \n",
      "Acta Crystallographica Section D: Biological Cr...         NaN   773.74   \n",
      "Acta Crystallographica Section F: Structural Bi...   15.605847   785.60   \n",
      "Acta Crystallographica, Section D                          NaN   757.18   \n",
      "Acta Crystallography D                                     NaN   774.19   \n",
      "Acta D                                                     NaN   750.16   \n",
      "Acta Dermato Venereologica                                 NaN   653.96   \n",
      "Acta Diabetologica                                         NaN  2336.28   \n",
      "Acta F                                                     NaN   754.90   \n",
      "Acta Neuropathol                                           NaN  1901.04   \n",
      "Acta Neuropathologica                               244.811798  1884.01   \n",
      "Acta Opthalmologica                                        NaN  2270.16   \n",
      "Acta Physiol                                               NaN  1991.50   \n",
      "Addiction                                           306.481292  1919.51   \n",
      "Advances In Experimental Medicine And Biology         0.005000  1928.45   \n",
      "Age                                                 237.785868  2002.00   \n",
      "Age And Ageing                                             NaN  2040.00   \n",
      "Ageing & Society                                           NaN  1695.00   \n",
      "Aging Cell                                                 NaN  1970.57   \n",
      "Aids                                                281.067979  1834.77   \n",
      "Aids Behav                                                 NaN  1834.77   \n",
      "Aids Care                                           126.415851  2145.60   \n",
      "Aids Journal                                               NaN  2015.72   \n",
      "Aids Research And Therapy                                  NaN  1240.00   \n",
      "Aids Uk                                               0.000000  1836.92   \n",
      "Alcohol And Alcoholism                                     NaN  2040.00   \n",
      "...                                                        ...      ...   \n",
      "Tissue Engineering: Part A                                 NaN  1741.32   \n",
      "Traffic                                             340.691688  1500.00   \n",
      "Transactions Of The Royal Society Of Tropical M...         NaN  1524.08   \n",
      "Translational Psychiatry                              0.000000  2880.00   \n",
      "Trends In Cognitive Science                                NaN  2340.63   \n",
      "Trends In Genetics                                    3.995153  2368.11   \n",
      "Trends In Microbiology                                     NaN  2291.33   \n",
      "Trends In Molecular Medicine                               NaN  2248.33   \n",
      "Trends In Neuroscience                                     NaN  2402.81   \n",
      "Trends In Neurosciences                                    NaN  2426.96   \n",
      "Trends In Parasitology                              232.279561  2004.74   \n",
      "Trials                                              100.764590  1130.40   \n",
      "Trop Medicinal Int Health                                  NaN  1834.77   \n",
      "Tropical Animal Health & Production                        NaN  2054.78   \n",
      "Tropical Medicine And International Health          161.141743  1530.77   \n",
      "Tuberculosis                                        228.133861  1999.94   \n",
      "Urban History                                              NaN  2034.00   \n",
      "Urolithiasis                                               NaN  1112.40   \n",
      "Vaccine                                             394.821486  1428.68   \n",
      "Vascular Pharmacology                                      NaN  2352.53   \n",
      "Veterinary Microbiology                                    NaN  2451.49   \n",
      "Veterinary Parasitology                                    NaN  2488.17   \n",
      "Veterinary Record                                          NaN  2040.00   \n",
      "Veterinary Research                                        NaN     9.93   \n",
      "Virology                                            697.850753  1435.05   \n",
      "Virology Journal                                           NaN  1242.00   \n",
      "Virus Research                                             NaN  1947.09   \n",
      "Vision Research                                            NaN  1456.18   \n",
      "Visual Neuroscience                                        NaN  2034.00   \n",
      "Zoonoses And Public Health                                 NaN  2272.15   \n",
      "\n",
      "                                                          25%       50%  \\\n",
      "Journal title                                                             \n",
      "Academy Of Nutrition And Dietetics                  2379.5400  2379.540   \n",
      "Acs Chemical Biology                                1267.7600  1294.590   \n",
      "Acs Chemical Neuroscience                           1186.8000  1186.800   \n",
      "Acs Nano                                             655.5150   668.140   \n",
      "Acta Crystallographica Section D,  Biological C...   771.4200   771.420   \n",
      "Acta Crystallographica Section D: Biological Cr...   773.7400   773.740   \n",
      "Acta Crystallographica Section F: Structural Bi...   791.1175   796.635   \n",
      "Acta Crystallographica, Section D                    757.1800   757.180   \n",
      "Acta Crystallography D                               774.1900   774.190   \n",
      "Acta D                                               750.1600   750.160   \n",
      "Acta Dermato Venereologica                           653.9600   653.960   \n",
      "Acta Diabetologica                                  2336.2800  2336.280   \n",
      "Acta F                                               754.9000   754.900   \n",
      "Acta Neuropathol                                    1901.0400  1901.040   \n",
      "Acta Neuropathologica                               2067.4900  2250.970   \n",
      "Acta Opthalmologica                                 2270.1600  2270.160   \n",
      "Acta Physiol                                        1991.5000  1991.500   \n",
      "Addiction                                           2027.8675  2136.225   \n",
      "Advances In Experimental Medicine And Biology       1928.4575  1928.460   \n",
      "Age                                                 2086.0700  2170.140   \n",
      "Age And Ageing                                      2040.0000  2040.000   \n",
      "Ageing & Society                                    1695.0000  1695.000   \n",
      "Aging Cell                                          1970.5700  1970.570   \n",
      "Aids                                                1901.7000  1968.630   \n",
      "Aids Behav                                          1834.7700  1834.770   \n",
      "Aids Care                                           2210.9550  2316.010   \n",
      "Aids Journal                                        2015.7200  2015.720   \n",
      "Aids Research And Therapy                           1240.0000  1240.000   \n",
      "Aids Uk                                             1836.9200  1836.920   \n",
      "Alcohol And Alcoholism                              2040.0000  2040.000   \n",
      "...                                                       ...       ...   \n",
      "Tissue Engineering: Part A                          1741.3200  1741.320   \n",
      "Traffic                                             2046.9125  2273.455   \n",
      "Transactions Of The Royal Society Of Tropical M...  1524.0800  1524.080   \n",
      "Translational Psychiatry                            2880.0000  2880.000   \n",
      "Trends In Cognitive Science                         2340.6300  2340.630   \n",
      "Trends In Genetics                                  2369.5225  2370.935   \n",
      "Trends In Microbiology                              2291.3300  2291.330   \n",
      "Trends In Molecular Medicine                        2248.3300  2248.330   \n",
      "Trends In Neuroscience                              2402.8100  2402.810   \n",
      "Trends In Neurosciences                             2426.9600  2426.960   \n",
      "Trends In Parasitology                              2155.7600  2306.780   \n",
      "Trials                                              1149.9750  1160.750   \n",
      "Trop Medicinal Int Health                           1834.7700  1834.770   \n",
      "Tropical Animal Health & Production                 2054.7800  2054.780   \n",
      "Tropical Medicine And International Health          1845.2700  1883.625   \n",
      "Tuberculosis                                        2080.5975  2161.255   \n",
      "Urban History                                       2034.0000  2034.000   \n",
      "Urolithiasis                                        1112.4000  1112.400   \n",
      "Vaccine                                             1433.3400  1448.380   \n",
      "Vascular Pharmacology                               2352.5300  2352.530   \n",
      "Veterinary Microbiology                             2451.4900  2451.490   \n",
      "Veterinary Parasitology                             2488.1700  2488.170   \n",
      "Veterinary Record                                   2040.0000  2040.000   \n",
      "Veterinary Research                                    9.9300     9.930   \n",
      "Virology                                            1681.7775  1928.505   \n",
      "Virology Journal                                    1242.0000  1242.000   \n",
      "Virus Research                                      1947.0900  1947.090   \n",
      "Vision Research                                     1456.1800  1456.180   \n",
      "Visual Neuroscience                                 2034.0000  2034.000   \n",
      "Zoonoses And Public Health                          2272.1500  2272.150   \n",
      "\n",
      "                                                          75%      max  \n",
      "Journal title                                                           \n",
      "Academy Of Nutrition And Dietetics                  2379.5400  2379.54  \n",
      "Acs Chemical Biology                                1294.7800  2286.73  \n",
      "Acs Chemical Neuroscience                           1186.8000  1186.80  \n",
      "Acs Nano                                             680.7650   693.39  \n",
      "Acta Crystallographica Section D,  Biological C...   771.4200   771.42  \n",
      "Acta Crystallographica Section D: Biological Cr...   773.7400   773.74  \n",
      "Acta Crystallographica Section F: Structural Bi...   802.1525   807.67  \n",
      "Acta Crystallographica, Section D                    757.1800   757.18  \n",
      "Acta Crystallography D                               774.1900   774.19  \n",
      "Acta D                                               750.1600   750.16  \n",
      "Acta Dermato Venereologica                           653.9600   653.96  \n",
      "Acta Diabetologica                                  2336.2800  2336.28  \n",
      "Acta F                                               754.9000   754.90  \n",
      "Acta Neuropathol                                    1901.0400  1901.04  \n",
      "Acta Neuropathologica                               2299.5900  2348.21  \n",
      "Acta Opthalmologica                                 2270.1600  2270.16  \n",
      "Acta Physiol                                        1991.5000  1991.50  \n",
      "Addiction                                           2244.5825  2352.94  \n",
      "Advances In Experimental Medicine And Biology       1928.4600  1928.46  \n",
      "Age                                                 2254.2100  2338.28  \n",
      "Age And Ageing                                      2040.0000  2040.00  \n",
      "Ageing & Society                                    1695.0000  1695.00  \n",
      "Aging Cell                                          1970.5700  1970.57  \n",
      "Aids                                                2171.5750  2374.52  \n",
      "Aids Behav                                          1834.7700  1834.77  \n",
      "Aids Care                                           2399.2800  2399.28  \n",
      "Aids Journal                                        2015.7200  2015.72  \n",
      "Aids Research And Therapy                           1240.0000  1240.00  \n",
      "Aids Uk                                             1836.9200  1836.92  \n",
      "Alcohol And Alcoholism                              2040.0000  2040.00  \n",
      "...                                                       ...      ...  \n",
      "Tissue Engineering: Part A                          1741.3200  1741.32  \n",
      "Traffic                                             2353.4175  2377.65  \n",
      "Transactions Of The Royal Society Of Tropical M...  1524.0800  1524.08  \n",
      "Translational Psychiatry                            2880.0000  2880.00  \n",
      "Trends In Cognitive Science                         2340.6300  2340.63  \n",
      "Trends In Genetics                                  2372.3475  2373.76  \n",
      "Trends In Microbiology                              2291.3300  2291.33  \n",
      "Trends In Molecular Medicine                        2248.3300  2248.33  \n",
      "Trends In Neuroscience                              2402.8100  2402.81  \n",
      "Trends In Neurosciences                             2426.9600  2426.96  \n",
      "Trends In Parasitology                              2384.1100  2461.44  \n",
      "Trials                                              1211.2500  1350.00  \n",
      "Trop Medicinal Int Health                           1834.7700  1834.77  \n",
      "Tropical Animal Health & Production                 2054.7800  2054.78  \n",
      "Tropical Medicine And International Health          1936.2225  1974.72  \n",
      "Tuberculosis                                        2241.9125  2322.57  \n",
      "Urban History                                       2034.0000  2034.00  \n",
      "Urolithiasis                                        1112.4000  1112.40  \n",
      "Vaccine                                             1477.7300  2328.84  \n",
      "Vascular Pharmacology                               2352.5300  2352.53  \n",
      "Veterinary Microbiology                             2451.4900  2451.49  \n",
      "Veterinary Parasitology                             2488.1700  2488.17  \n",
      "Veterinary Record                                   2040.0000  2040.00  \n",
      "Veterinary Research                                    9.9300     9.93  \n",
      "Virology                                            2175.2325  2421.96  \n",
      "Virology Journal                                    1242.0000  1242.00  \n",
      "Virus Research                                      1947.0900  1947.09  \n",
      "Vision Research                                     1456.1800  1456.18  \n",
      "Visual Neuroscience                                 2034.0000  2034.00  \n",
      "Zoonoses And Public Health                          2272.1500  2272.15  \n",
      "\n",
      "[875 rows x 8 columns]\n"
     ]
    }
   ],
   "source": [
    "print(wellcome_clean['Price'].groupby(wellcome_clean['Journal title']).describe())"
   ]
  }
 ],
 "metadata": {
  "kernelspec": {
   "display_name": "Python 3",
   "language": "python",
   "name": "python3"
  },
  "language_info": {
   "codemirror_mode": {
    "name": "ipython",
    "version": 3
   },
   "file_extension": ".py",
   "mimetype": "text/x-python",
   "name": "python",
   "nbconvert_exporter": "python",
   "pygments_lexer": "ipython3",
   "version": "3.6.2"
  }
 },
 "nbformat": 4,
 "nbformat_minor": 2
}
