{
 "cells": [
  {
   "cell_type": "code",
   "execution_count": 95,
   "metadata": {},
   "outputs": [],
   "source": [
    "import pandas as pd\n",
    "import numpy as np\n",
    "import matplotlib.pyplot as plt\n",
    "%matplotlib inline"
   ]
  },
  {
   "cell_type": "code",
   "execution_count": 119,
   "metadata": {},
   "outputs": [
    {
     "data": {
      "text/html": [
       "<div>\n",
       "<style>\n",
       "    .dataframe thead tr:only-child th {\n",
       "        text-align: right;\n",
       "    }\n",
       "\n",
       "    .dataframe thead th {\n",
       "        text-align: left;\n",
       "    }\n",
       "\n",
       "    .dataframe tbody tr th {\n",
       "        vertical-align: top;\n",
       "    }\n",
       "</style>\n",
       "<table border=\"1\" class=\"dataframe\">\n",
       "  <thead>\n",
       "    <tr style=\"text-align: right;\">\n",
       "      <th></th>\n",
       "      <th>kids</th>\n",
       "      <th>ages</th>\n",
       "    </tr>\n",
       "  </thead>\n",
       "  <tbody>\n",
       "    <tr>\n",
       "      <th>0</th>\n",
       "      <td>Greg</td>\n",
       "      <td>14</td>\n",
       "    </tr>\n",
       "    <tr>\n",
       "      <th>1</th>\n",
       "      <td>Marcia</td>\n",
       "      <td>12</td>\n",
       "    </tr>\n",
       "    <tr>\n",
       "      <th>2</th>\n",
       "      <td>Peter</td>\n",
       "      <td>11</td>\n",
       "    </tr>\n",
       "    <tr>\n",
       "      <th>3</th>\n",
       "      <td>Jan</td>\n",
       "      <td>10</td>\n",
       "    </tr>\n",
       "    <tr>\n",
       "      <th>4</th>\n",
       "      <td>Bobby</td>\n",
       "      <td>8</td>\n",
       "    </tr>\n",
       "    <tr>\n",
       "      <th>5</th>\n",
       "      <td>Cindy</td>\n",
       "      <td>6</td>\n",
       "    </tr>\n",
       "    <tr>\n",
       "      <th>6</th>\n",
       "      <td>Oliver</td>\n",
       "      <td>8</td>\n",
       "    </tr>\n",
       "  </tbody>\n",
       "</table>\n",
       "</div>"
      ],
      "text/plain": [
       "     kids  ages\n",
       "0    Greg    14\n",
       "1  Marcia    12\n",
       "2   Peter    11\n",
       "3     Jan    10\n",
       "4   Bobby     8\n",
       "5   Cindy     6\n",
       "6  Oliver     8"
      ]
     },
     "execution_count": 119,
     "metadata": {},
     "output_type": "execute_result"
    }
   ],
   "source": [
    "brady = pd.DataFrame()\n",
    "brady['kids'] = ['Greg','Marcia','Peter','Jan','Bobby','Cindy','Oliver']\n",
    "brady['ages'] = [14,12,11,10,8,6,8]\n",
    "brady"
   ]
  },
  {
   "cell_type": "code",
   "execution_count": 117,
   "metadata": {},
   "outputs": [
    {
     "name": "stdout",
     "output_type": "stream",
     "text": [
      "The mean age is 9.0. \n",
      "The median age is 10.0. \n",
      "The mode is 1.\n"
     ]
    }
   ],
   "source": [
    "mean = np.mean(brady['ages'])\n",
    "median = np.median(brady['ages'])\n",
    "(values, counts) = np.unique(brady['ages'], return_counts=True)\n",
    "ind = np.argmax(counts)\n",
    "mode = values[ind]\n",
    "print('The mean age is {}. \\nThe median age is {}. \\nThe mode is {}.'.format(mean,median,mode))"
   ]
  },
  {
   "cell_type": "code",
   "execution_count": 65,
   "metadata": {},
   "outputs": [
    {
     "name": "stdout",
     "output_type": "stream",
     "text": [
      "The variance is 7.47619047619.\n",
      "The standard deviation is 2.73426232761.\n",
      "The standard error is 1.03345401972.\n"
     ]
    }
   ],
   "source": [
    "variance = brady['ages'].var()\n",
    "sd = np.std(brady['ages'], ddof=1)\n",
    "se = np.std(brady['ages'] ,ddof=1) / np.sqrt(len(brady['ages']))\n",
    "print('The variance is {}.\\nThe standard deviation is {}.\\nThe standard error is {}.'.format(variance,sd,se))"
   ]
  },
  {
   "cell_type": "markdown",
   "metadata": {},
   "source": [
    "For such a small data set, which doesn't include any extreme outliers, the mean is perhaps the most informative measure of central tendancy. The variance and the standard deviation are rather high, because the sample size is so small. In this case, we might report the standard deviation, to show that the data aren't normally distributed. "
   ]
  },
  {
   "cell_type": "code",
   "execution_count": 120,
   "metadata": {},
   "outputs": [
    {
     "name": "stdout",
     "output_type": "stream",
     "text": [
      "Now the mean age is 10.0. \n",
      "The median age is 10.0. \n",
      "The mode is 8.\n",
      "The variance is 6.33333333333.\n",
      "The standard deviation is 2.51661147842.\n",
      "The standard error is 0.951189731211.\n"
     ]
    }
   ],
   "source": [
    "brady.loc[brady.kids == 'Cindy', ['ages']] = brady['ages'] +1\n",
    "mean = np.mean(brady['ages'])\n",
    "median = np.median(brady['ages'])\n",
    "(values, counts) = np.unique(brady['ages'], return_counts=True)\n",
    "ind = np.argmax(counts)\n",
    "mode = values[ind]\n",
    "print('Now the mean age is {}. \\nThe median age is {}. \\nThe mode is {}.'.format(mean,median,mode))\n",
    "\n",
    "variance = brady['ages'].var()\n",
    "sd = np.std(brady['ages'], ddof=1)\n",
    "se = np.std(brady['ages'] ,ddof=1) / np.sqrt(len(brady['ages']))\n",
    "print('The variance is {}.\\nThe standard deviation is {}.\\nThe standard error is {}.'.format(variance,sd,se))"
   ]
  },
  {
   "cell_type": "markdown",
   "metadata": {},
   "source": [
    "When one year is added to Cindy's age, the mean and median increase. Because more values are now closer to the mean, the estimates of variance decrease a little bit. "
   ]
  },
  {
   "cell_type": "code",
   "execution_count": 121,
   "metadata": {},
   "outputs": [
    {
     "name": "stdout",
     "output_type": "stream",
     "text": [
      "   ages     kids\n",
      "0    14     Greg\n",
      "1    12   Marcia\n",
      "2    11    Peter\n",
      "3    10      Jan\n",
      "4     8    Bobby\n",
      "5     7    Cindy\n",
      "0     1  Jessica\n",
      "Now the mean age is 9.0. \n",
      "The median age is 10.0. \n",
      "There is no mode.\n",
      "The variance is 18.0.\n",
      "The standard deviation is 4.24264068712.\n",
      "The standard error is 1.60356745147.\n"
     ]
    }
   ],
   "source": [
    "brady = brady[brady.kids != 'Oliver']\n",
    "brady = brady.append(pd.DataFrame([[1, 'Jessica']], columns=list(['ages','kids'])))\n",
    "print(brady)\n",
    "\n",
    "mean = np.mean(brady['ages'])\n",
    "median = np.median(brady['ages'])\n",
    "(values, counts) = np.unique(brady['ages'], return_counts=True)\n",
    "ind = np.argmax(counts)\n",
    "mode = values[ind]\n",
    "print('Now the mean age is {}. \\nThe median age is {}. \\nThere is no mode.'.format(mean,median))\n",
    "\n",
    "variance = brady['ages'].var()\n",
    "sd = np.std(brady['ages'], ddof=1)\n",
    "se = np.std(brady['ages'] ,ddof=1) / np.sqrt(len(brady['ages']))\n",
    "print('The variance is {}.\\nThe standard deviation is {}.\\nThe standard error is {}.'.format(variance,sd,se))"
   ]
  },
  {
   "cell_type": "code",
   "execution_count": 122,
   "metadata": {},
   "outputs": [
    {
     "data": {
      "text/html": [
       "<div>\n",
       "<style>\n",
       "    .dataframe thead tr:only-child th {\n",
       "        text-align: right;\n",
       "    }\n",
       "\n",
       "    .dataframe thead th {\n",
       "        text-align: left;\n",
       "    }\n",
       "\n",
       "    .dataframe tbody tr th {\n",
       "        vertical-align: top;\n",
       "    }\n",
       "</style>\n",
       "<table border=\"1\" class=\"dataframe\">\n",
       "  <thead>\n",
       "    <tr style=\"text-align: right;\">\n",
       "      <th></th>\n",
       "      <th>mags</th>\n",
       "      <th>percents</th>\n",
       "    </tr>\n",
       "  </thead>\n",
       "  <tbody>\n",
       "    <tr>\n",
       "      <th>0</th>\n",
       "      <td>TV Guide</td>\n",
       "      <td>20</td>\n",
       "    </tr>\n",
       "    <tr>\n",
       "      <th>1</th>\n",
       "      <td>EW</td>\n",
       "      <td>23</td>\n",
       "    </tr>\n",
       "    <tr>\n",
       "      <th>2</th>\n",
       "      <td>Pop Culture Today</td>\n",
       "      <td>17</td>\n",
       "    </tr>\n",
       "    <tr>\n",
       "      <th>3</th>\n",
       "      <td>SciPhi Phanatic</td>\n",
       "      <td>5</td>\n",
       "    </tr>\n",
       "  </tbody>\n",
       "</table>\n",
       "</div>"
      ],
      "text/plain": [
       "                mags  percents\n",
       "0           TV Guide        20\n",
       "1                 EW        23\n",
       "2  Pop Culture Today        17\n",
       "3    SciPhi Phanatic         5"
      ]
     },
     "execution_count": 122,
     "metadata": {},
     "output_type": "execute_result"
    }
   ],
   "source": [
    "survey = pd.DataFrame()\n",
    "survey['mags'] = ['TV Guide','EW','Pop Culture Today','SciPhi Phanatic']\n",
    "survey['percents'] = [20,23,17,5]\n",
    "survey"
   ]
  },
  {
   "cell_type": "code",
   "execution_count": 124,
   "metadata": {},
   "outputs": [
    {
     "name": "stdout",
     "output_type": "stream",
     "text": [
      "16.25\n",
      "18.5\n",
      "3.94493345951\n"
     ]
    }
   ],
   "source": [
    "print(np.mean(survey['percents']))\n",
    "print(np.median(survey['percents']))\n",
    "print(np.std(survey['percents'] ,ddof=1) / np.sqrt(len(survey['percents'])))\n",
    "\n"
   ]
  },
  {
   "cell_type": "code",
   "execution_count": 125,
   "metadata": {},
   "outputs": [
    {
     "name": "stdout",
     "output_type": "stream",
     "text": [
      "20.0\n",
      "20.0\n",
      "1.73205080757\n"
     ]
    }
   ],
   "source": [
    "survey = survey[survey.mags != 'SciPhi Phanatic']\n",
    "print(np.mean(survey['percents']))\n",
    "print(np.median(survey['percents']))\n",
    "print(np.std(survey['percents'] ,ddof=1) / np.sqrt(len(survey['percents'])))"
   ]
  },
  {
   "cell_type": "markdown",
   "metadata": {},
   "source": [
    "Given the mean and the standard error of the sample, we could estimate that 16.25% of adults were fans, give or take 3.94%. On the other hand, since the low percentage of respondents from the SciPhi Phanatic sample skews the mean, we could remove this outlier and recompute the mean. If we do so, the mean and the median are the same, suggesting that 20% is a more precise estimate of the population. "
   ]
  }
 ],
 "metadata": {
  "kernelspec": {
   "display_name": "Python 3",
   "language": "python",
   "name": "python3"
  },
  "language_info": {
   "codemirror_mode": {
    "name": "ipython",
    "version": 2
   },
   "file_extension": ".py",
   "mimetype": "text/x-python",
   "name": "python",
   "nbconvert_exporter": "python",
   "pygments_lexer": "ipython2",
   "version": "2.7.13"
  }
 },
 "nbformat": 4,
 "nbformat_minor": 2
}
