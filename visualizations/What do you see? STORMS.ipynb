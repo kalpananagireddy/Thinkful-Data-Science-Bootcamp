{
 "cells": [
  {
   "cell_type": "markdown",
   "metadata": {},
   "source": [
    "## Data Source"
   ]
  },
  {
   "cell_type": "markdown",
   "metadata": {},
   "source": [
    "The National Climatic Data Center publishes annual data associated with significant weather events in the United States. This analysis uses weather data from 2016, and reports on fatalities, injuries, and damage (direct or indirect) associated with significant weather events.\n",
    "\n",
    "###Questions:\n",
    "\n",
    "1. How are significant weather events distributed among the months of the year?\n",
    "2. Which types of significant weather events are most frequent?\n",
    "3. Which types of significant weather events are associated with the greatest number of fatalities?\n",
    "4. Which types of significant weather events are most often deadly?\n",
    "5. Among the deadliest significant weather event types, how are the fatalities distributed across events? That is, are the fatalities disproportionately caused by a few severe events, or are they more distributed across multiple severe events of the same type?"
   ]
  },
  {
   "cell_type": "code",
   "execution_count": 363,
   "metadata": {
    "collapsed": true
   },
   "outputs": [],
   "source": [
    "#Import modules and load the data\n",
    "import matplotlib.pyplot as plt\n",
    "import numpy as np\n",
    "import pandas as pd\n",
    "from collections import Counter\n",
    "%matplotlib inline\n",
    "#locations = pd.read_csv('StormEvents_locations-ftp_v1.0_d2016_c20170816.csv')\n",
    "fatalities = pd.read_csv('StormEvents_fatalities-ftp_v1.0_d2016_c20170816.csv')\n",
    "details = pd.read_csv('StormEvents_details-ftp_v1.0_d2016_c20170816.csv')"
   ]
  },
  {
   "cell_type": "code",
   "execution_count": 364,
   "metadata": {
    "collapsed": true
   },
   "outputs": [],
   "source": [
    "#Create a data frame merging the data from two csv files tracking 2016 weather events.\n",
    "storms = pd.merge(details,fatalities,on='EVENT_ID', how='outer')\n",
    "storms.to_csv('storms_2016.csv')"
   ]
  },
  {
   "cell_type": "code",
   "execution_count": 365,
   "metadata": {},
   "outputs": [
    {
     "data": {
      "text/html": [
       "<div>\n",
       "<style>\n",
       "    .dataframe thead tr:only-child th {\n",
       "        text-align: right;\n",
       "    }\n",
       "\n",
       "    .dataframe thead th {\n",
       "        text-align: left;\n",
       "    }\n",
       "\n",
       "    .dataframe tbody tr th {\n",
       "        vertical-align: top;\n",
       "    }\n",
       "</style>\n",
       "<table border=\"1\" class=\"dataframe\">\n",
       "  <thead>\n",
       "    <tr style=\"text-align: right;\">\n",
       "      <th></th>\n",
       "      <th>BEGIN_YEARMONTH</th>\n",
       "      <th>BEGIN_DAY</th>\n",
       "      <th>BEGIN_TIME</th>\n",
       "      <th>END_YEARMONTH</th>\n",
       "      <th>END_DAY</th>\n",
       "      <th>END_TIME</th>\n",
       "      <th>EPISODE_ID</th>\n",
       "      <th>EVENT_ID</th>\n",
       "      <th>STATE</th>\n",
       "      <th>STATE_FIPS</th>\n",
       "      <th>...</th>\n",
       "      <th>FAT_YEARMONTH</th>\n",
       "      <th>FAT_DAY</th>\n",
       "      <th>FAT_TIME</th>\n",
       "      <th>FATALITY_ID</th>\n",
       "      <th>FATALITY_TYPE</th>\n",
       "      <th>FATALITY_DATE</th>\n",
       "      <th>FATALITY_AGE</th>\n",
       "      <th>FATALITY_SEX</th>\n",
       "      <th>FATALITY_LOCATION</th>\n",
       "      <th>EVENT_YEARMONTH</th>\n",
       "    </tr>\n",
       "  </thead>\n",
       "  <tbody>\n",
       "    <tr>\n",
       "      <th>0</th>\n",
       "      <td>201607.0</td>\n",
       "      <td>15.0</td>\n",
       "      <td>1715.0</td>\n",
       "      <td>201607.0</td>\n",
       "      <td>15.0</td>\n",
       "      <td>1715.0</td>\n",
       "      <td>108769.0</td>\n",
       "      <td>651823</td>\n",
       "      <td>SOUTH CAROLINA</td>\n",
       "      <td>45.0</td>\n",
       "      <td>...</td>\n",
       "      <td>NaN</td>\n",
       "      <td>NaN</td>\n",
       "      <td>NaN</td>\n",
       "      <td>NaN</td>\n",
       "      <td>NaN</td>\n",
       "      <td>NaN</td>\n",
       "      <td>NaN</td>\n",
       "      <td>NaN</td>\n",
       "      <td>NaN</td>\n",
       "      <td>NaN</td>\n",
       "    </tr>\n",
       "    <tr>\n",
       "      <th>1</th>\n",
       "      <td>201607.0</td>\n",
       "      <td>15.0</td>\n",
       "      <td>1725.0</td>\n",
       "      <td>201607.0</td>\n",
       "      <td>15.0</td>\n",
       "      <td>1725.0</td>\n",
       "      <td>108769.0</td>\n",
       "      <td>651825</td>\n",
       "      <td>SOUTH CAROLINA</td>\n",
       "      <td>45.0</td>\n",
       "      <td>...</td>\n",
       "      <td>NaN</td>\n",
       "      <td>NaN</td>\n",
       "      <td>NaN</td>\n",
       "      <td>NaN</td>\n",
       "      <td>NaN</td>\n",
       "      <td>NaN</td>\n",
       "      <td>NaN</td>\n",
       "      <td>NaN</td>\n",
       "      <td>NaN</td>\n",
       "      <td>NaN</td>\n",
       "    </tr>\n",
       "    <tr>\n",
       "      <th>2</th>\n",
       "      <td>201607.0</td>\n",
       "      <td>16.0</td>\n",
       "      <td>1246.0</td>\n",
       "      <td>201607.0</td>\n",
       "      <td>16.0</td>\n",
       "      <td>1246.0</td>\n",
       "      <td>108812.0</td>\n",
       "      <td>651828</td>\n",
       "      <td>NORTH CAROLINA</td>\n",
       "      <td>37.0</td>\n",
       "      <td>...</td>\n",
       "      <td>NaN</td>\n",
       "      <td>NaN</td>\n",
       "      <td>NaN</td>\n",
       "      <td>NaN</td>\n",
       "      <td>NaN</td>\n",
       "      <td>NaN</td>\n",
       "      <td>NaN</td>\n",
       "      <td>NaN</td>\n",
       "      <td>NaN</td>\n",
       "      <td>NaN</td>\n",
       "    </tr>\n",
       "    <tr>\n",
       "      <th>3</th>\n",
       "      <td>201607.0</td>\n",
       "      <td>8.0</td>\n",
       "      <td>1755.0</td>\n",
       "      <td>201607.0</td>\n",
       "      <td>8.0</td>\n",
       "      <td>1755.0</td>\n",
       "      <td>105872.0</td>\n",
       "      <td>635287</td>\n",
       "      <td>TENNESSEE</td>\n",
       "      <td>47.0</td>\n",
       "      <td>...</td>\n",
       "      <td>NaN</td>\n",
       "      <td>NaN</td>\n",
       "      <td>NaN</td>\n",
       "      <td>NaN</td>\n",
       "      <td>NaN</td>\n",
       "      <td>NaN</td>\n",
       "      <td>NaN</td>\n",
       "      <td>NaN</td>\n",
       "      <td>NaN</td>\n",
       "      <td>NaN</td>\n",
       "    </tr>\n",
       "    <tr>\n",
       "      <th>4</th>\n",
       "      <td>201607.0</td>\n",
       "      <td>8.0</td>\n",
       "      <td>1810.0</td>\n",
       "      <td>201607.0</td>\n",
       "      <td>8.0</td>\n",
       "      <td>1810.0</td>\n",
       "      <td>105872.0</td>\n",
       "      <td>635296</td>\n",
       "      <td>TENNESSEE</td>\n",
       "      <td>47.0</td>\n",
       "      <td>...</td>\n",
       "      <td>NaN</td>\n",
       "      <td>NaN</td>\n",
       "      <td>NaN</td>\n",
       "      <td>NaN</td>\n",
       "      <td>NaN</td>\n",
       "      <td>NaN</td>\n",
       "      <td>NaN</td>\n",
       "      <td>NaN</td>\n",
       "      <td>NaN</td>\n",
       "      <td>NaN</td>\n",
       "    </tr>\n",
       "  </tbody>\n",
       "</table>\n",
       "<p>5 rows × 61 columns</p>\n",
       "</div>"
      ],
      "text/plain": [
       "   BEGIN_YEARMONTH  BEGIN_DAY  BEGIN_TIME  END_YEARMONTH  END_DAY  END_TIME  \\\n",
       "0         201607.0       15.0      1715.0       201607.0     15.0    1715.0   \n",
       "1         201607.0       15.0      1725.0       201607.0     15.0    1725.0   \n",
       "2         201607.0       16.0      1246.0       201607.0     16.0    1246.0   \n",
       "3         201607.0        8.0      1755.0       201607.0      8.0    1755.0   \n",
       "4         201607.0        8.0      1810.0       201607.0      8.0    1810.0   \n",
       "\n",
       "   EPISODE_ID  EVENT_ID           STATE  STATE_FIPS       ...        \\\n",
       "0    108769.0    651823  SOUTH CAROLINA        45.0       ...         \n",
       "1    108769.0    651825  SOUTH CAROLINA        45.0       ...         \n",
       "2    108812.0    651828  NORTH CAROLINA        37.0       ...         \n",
       "3    105872.0    635287       TENNESSEE        47.0       ...         \n",
       "4    105872.0    635296       TENNESSEE        47.0       ...         \n",
       "\n",
       "   FAT_YEARMONTH FAT_DAY FAT_TIME FATALITY_ID  FATALITY_TYPE FATALITY_DATE  \\\n",
       "0            NaN     NaN      NaN         NaN            NaN           NaN   \n",
       "1            NaN     NaN      NaN         NaN            NaN           NaN   \n",
       "2            NaN     NaN      NaN         NaN            NaN           NaN   \n",
       "3            NaN     NaN      NaN         NaN            NaN           NaN   \n",
       "4            NaN     NaN      NaN         NaN            NaN           NaN   \n",
       "\n",
       "  FATALITY_AGE FATALITY_SEX FATALITY_LOCATION EVENT_YEARMONTH  \n",
       "0          NaN          NaN               NaN             NaN  \n",
       "1          NaN          NaN               NaN             NaN  \n",
       "2          NaN          NaN               NaN             NaN  \n",
       "3          NaN          NaN               NaN             NaN  \n",
       "4          NaN          NaN               NaN             NaN  \n",
       "\n",
       "[5 rows x 61 columns]"
      ]
     },
     "execution_count": 365,
     "metadata": {},
     "output_type": "execute_result"
    }
   ],
   "source": [
    "#Drop multiple occurrences of rows detailing the same weather event.\n",
    "storms.drop_duplicates(subset='EPISODE_ID', keep=\"first\")\n",
    "storms[:5]"
   ]
  },
  {
   "cell_type": "markdown",
   "metadata": {},
   "source": [
    "Figure 1 shows how significant weather phenomena are distributed throughout the year. The largest number of events is reported in the summer months, peaking in July; by contrast, November is the least eventful month. "
   ]
  },
  {
   "cell_type": "code",
   "execution_count": 366,
   "metadata": {},
   "outputs": [
    {
     "data": {
      "text/plain": [
       "<matplotlib.text.Text at 0x2609d9490>"
      ]
     },
     "execution_count": 366,
     "metadata": {},
     "output_type": "execute_result"
    },
    {
     "data": {
      "image/png": "[encoded data removed]",
      "text/plain": [
       "<matplotlib.figure.Figure at 0x1357d9090>"
      ]
     },
     "metadata": {},
     "output_type": "display_data"
    }
   ],
   "source": [
    "#Plot the number of significant weather phenomena per month to show the distribution of storms in time.\n",
    "#NOTE FOR HOA: How can I get all the labels of the categories on the x axis to display, and angle them so that the axis is not cluttered?\n",
    "order = ['January','February','March','April','May','June','July','August','September','October','November','December']\n",
    "storms['MONTH_NAME'].value_counts().loc[order].plot(color='m', linewidth=3)\n",
    "plt.title('Figure 1: Number of significant weather phenomena by month')"
   ]
  },
  {
   "cell_type": "markdown",
   "metadata": {},
   "source": [
    "In Figure 2, we see the 12 most frequently reported types of significant weather events. Thunderstorm wind and hail are by far the most frequent, with over 9,000 and 15,000 events each, respectively. "
   ]
  },
  {
   "cell_type": "code",
   "execution_count": 367,
   "metadata": {},
   "outputs": [
    {
     "data": {
      "text/plain": [
       "<matplotlib.text.Text at 0x268a26c10>"
      ]
     },
     "execution_count": 367,
     "metadata": {},
     "output_type": "execute_result"
    },
    {
     "data": {
      "image/png": "[encoded data removed]",
      "text/plain": [
       "<matplotlib.figure.Figure at 0x1ac793850>"
      ]
     },
     "metadata": {},
     "output_type": "display_data"
    }
   ],
   "source": [
    "#Total and plot the 12 most frequent storm event types.\n",
    "storms['EVENT_TYPE'].value_counts().head(12).plot(kind='barh')\n",
    "plt.title('Figure 2: Most frequent significant weather events')"
   ]
  },
  {
   "cell_type": "code",
   "execution_count": 368,
   "metadata": {},
   "outputs": [
    {
     "data": {
      "text/plain": [
       "<pandas.core.groupby.SeriesGroupBy object at 0x270213e10>"
      ]
     },
     "execution_count": 368,
     "metadata": {},
     "output_type": "execute_result"
    }
   ],
   "source": [
    "#Total the number of direct and indirect deaths and injuries associated with each type of storm event.\n",
    "storms['fatalities'] = storms['DEATHS_DIRECT'] + storms['DEATHS_INDIRECT']\n",
    "storms['injuries'] = storms['INJURIES_DIRECT'] + storms['INJURIES_INDIRECT']\n",
    "storms.groupby('EVENT_TYPE')['fatalities']"
   ]
  },
  {
   "cell_type": "markdown",
   "metadata": {},
   "source": [
    "Below, I would like to use a bar chart to plot the sum of fatalities by event type, taking the top 10 in descending order of sum of fatalities. "
   ]
  },
  {
   "cell_type": "code",
   "execution_count": 369,
   "metadata": {},
   "outputs": [
    {
     "data": {
      "image/png": "[encoded data removed]",
      "text/plain": [
       "<matplotlib.figure.Figure at 0x1ab0f2790>"
      ]
     },
     "metadata": {},
     "output_type": "display_data"
    }
   ],
   "source": [
    "s = storms.groupby('EVENT_TYPE').sum()['fatalities'].sort_values(ascending=False) \n",
    "s = s[:10]\n",
    "s.plot.bar()\n",
    "plt.show()"
   ]
  },
  {
   "cell_type": "code",
   "execution_count": 370,
   "metadata": {},
   "outputs": [
    {
     "data": {
      "image/png": "[encoded data removed]",
      "text/plain": [
       "<matplotlib.figure.Figure at 0x1ab0e7810>"
      ]
     },
     "metadata": {},
     "output_type": "display_data"
    }
   ],
   "source": [
    "h = storms[storms['EVENT_TYPE'] == 'Excessive Heat']\n",
    "f = storms[storms['EVENT_TYPE'] == 'Flash Flood']\n",
    "plt.hist(h['fatalities'])\n",
    "plt.hist(f['fatalities']) \n",
    "plt.show()"
   ]
  },
  {
   "cell_type": "code",
   "execution_count": null,
   "metadata": {
    "collapsed": true
   },
   "outputs": [],
   "source": []
  },
  {
   "cell_type": "code",
   "execution_count": 371,
   "metadata": {},
   "outputs": [
    {
     "data": {
      "text/html": [
       "<div>\n",
       "<style>\n",
       "    .dataframe thead tr:only-child th {\n",
       "        text-align: right;\n",
       "    }\n",
       "\n",
       "    .dataframe thead th {\n",
       "        text-align: left;\n",
       "    }\n",
       "\n",
       "    .dataframe tbody tr th {\n",
       "        vertical-align: top;\n",
       "    }\n",
       "</style>\n",
       "<table border=\"1\" class=\"dataframe\">\n",
       "  <thead>\n",
       "    <tr style=\"text-align: right;\">\n",
       "      <th></th>\n",
       "      <th>BEGIN_YEARMONTH</th>\n",
       "      <th>BEGIN_DAY</th>\n",
       "      <th>BEGIN_TIME</th>\n",
       "      <th>END_YEARMONTH</th>\n",
       "      <th>END_DAY</th>\n",
       "      <th>END_TIME</th>\n",
       "      <th>EPISODE_ID</th>\n",
       "      <th>EVENT_ID</th>\n",
       "      <th>STATE</th>\n",
       "      <th>STATE_FIPS</th>\n",
       "      <th>...</th>\n",
       "      <th>FATALITY_TYPE</th>\n",
       "      <th>FATALITY_DATE</th>\n",
       "      <th>FATALITY_AGE</th>\n",
       "      <th>FATALITY_SEX</th>\n",
       "      <th>FATALITY_LOCATION</th>\n",
       "      <th>EVENT_YEARMONTH</th>\n",
       "      <th>fatalities</th>\n",
       "      <th>injuries</th>\n",
       "      <th>type_frequency</th>\n",
       "      <th>fatal</th>\n",
       "    </tr>\n",
       "  </thead>\n",
       "  <tbody>\n",
       "    <tr>\n",
       "      <th>0</th>\n",
       "      <td>201607.0</td>\n",
       "      <td>15.0</td>\n",
       "      <td>1715.0</td>\n",
       "      <td>201607.0</td>\n",
       "      <td>15.0</td>\n",
       "      <td>1715.0</td>\n",
       "      <td>108769.0</td>\n",
       "      <td>651823</td>\n",
       "      <td>SOUTH CAROLINA</td>\n",
       "      <td>45.0</td>\n",
       "      <td>...</td>\n",
       "      <td>NaN</td>\n",
       "      <td>NaN</td>\n",
       "      <td>NaN</td>\n",
       "      <td>NaN</td>\n",
       "      <td>NaN</td>\n",
       "      <td>NaN</td>\n",
       "      <td>0.0</td>\n",
       "      <td>0.0</td>\n",
       "      <td>NaN</td>\n",
       "      <td>False</td>\n",
       "    </tr>\n",
       "    <tr>\n",
       "      <th>1</th>\n",
       "      <td>201607.0</td>\n",
       "      <td>15.0</td>\n",
       "      <td>1725.0</td>\n",
       "      <td>201607.0</td>\n",
       "      <td>15.0</td>\n",
       "      <td>1725.0</td>\n",
       "      <td>108769.0</td>\n",
       "      <td>651825</td>\n",
       "      <td>SOUTH CAROLINA</td>\n",
       "      <td>45.0</td>\n",
       "      <td>...</td>\n",
       "      <td>NaN</td>\n",
       "      <td>NaN</td>\n",
       "      <td>NaN</td>\n",
       "      <td>NaN</td>\n",
       "      <td>NaN</td>\n",
       "      <td>NaN</td>\n",
       "      <td>0.0</td>\n",
       "      <td>0.0</td>\n",
       "      <td>NaN</td>\n",
       "      <td>False</td>\n",
       "    </tr>\n",
       "    <tr>\n",
       "      <th>2</th>\n",
       "      <td>201607.0</td>\n",
       "      <td>16.0</td>\n",
       "      <td>1246.0</td>\n",
       "      <td>201607.0</td>\n",
       "      <td>16.0</td>\n",
       "      <td>1246.0</td>\n",
       "      <td>108812.0</td>\n",
       "      <td>651828</td>\n",
       "      <td>NORTH CAROLINA</td>\n",
       "      <td>37.0</td>\n",
       "      <td>...</td>\n",
       "      <td>NaN</td>\n",
       "      <td>NaN</td>\n",
       "      <td>NaN</td>\n",
       "      <td>NaN</td>\n",
       "      <td>NaN</td>\n",
       "      <td>NaN</td>\n",
       "      <td>0.0</td>\n",
       "      <td>0.0</td>\n",
       "      <td>NaN</td>\n",
       "      <td>False</td>\n",
       "    </tr>\n",
       "    <tr>\n",
       "      <th>3</th>\n",
       "      <td>201607.0</td>\n",
       "      <td>8.0</td>\n",
       "      <td>1755.0</td>\n",
       "      <td>201607.0</td>\n",
       "      <td>8.0</td>\n",
       "      <td>1755.0</td>\n",
       "      <td>105872.0</td>\n",
       "      <td>635287</td>\n",
       "      <td>TENNESSEE</td>\n",
       "      <td>47.0</td>\n",
       "      <td>...</td>\n",
       "      <td>NaN</td>\n",
       "      <td>NaN</td>\n",
       "      <td>NaN</td>\n",
       "      <td>NaN</td>\n",
       "      <td>NaN</td>\n",
       "      <td>NaN</td>\n",
       "      <td>0.0</td>\n",
       "      <td>0.0</td>\n",
       "      <td>NaN</td>\n",
       "      <td>False</td>\n",
       "    </tr>\n",
       "    <tr>\n",
       "      <th>4</th>\n",
       "      <td>201607.0</td>\n",
       "      <td>8.0</td>\n",
       "      <td>1810.0</td>\n",
       "      <td>201607.0</td>\n",
       "      <td>8.0</td>\n",
       "      <td>1810.0</td>\n",
       "      <td>105872.0</td>\n",
       "      <td>635296</td>\n",
       "      <td>TENNESSEE</td>\n",
       "      <td>47.0</td>\n",
       "      <td>...</td>\n",
       "      <td>NaN</td>\n",
       "      <td>NaN</td>\n",
       "      <td>NaN</td>\n",
       "      <td>NaN</td>\n",
       "      <td>NaN</td>\n",
       "      <td>NaN</td>\n",
       "      <td>0.0</td>\n",
       "      <td>0.0</td>\n",
       "      <td>NaN</td>\n",
       "      <td>False</td>\n",
       "    </tr>\n",
       "  </tbody>\n",
       "</table>\n",
       "<p>5 rows × 65 columns</p>\n",
       "</div>"
      ],
      "text/plain": [
       "   BEGIN_YEARMONTH  BEGIN_DAY  BEGIN_TIME  END_YEARMONTH  END_DAY  END_TIME  \\\n",
       "0         201607.0       15.0      1715.0       201607.0     15.0    1715.0   \n",
       "1         201607.0       15.0      1725.0       201607.0     15.0    1725.0   \n",
       "2         201607.0       16.0      1246.0       201607.0     16.0    1246.0   \n",
       "3         201607.0        8.0      1755.0       201607.0      8.0    1755.0   \n",
       "4         201607.0        8.0      1810.0       201607.0      8.0    1810.0   \n",
       "\n",
       "   EPISODE_ID  EVENT_ID           STATE  STATE_FIPS  ...    FATALITY_TYPE  \\\n",
       "0    108769.0    651823  SOUTH CAROLINA        45.0  ...              NaN   \n",
       "1    108769.0    651825  SOUTH CAROLINA        45.0  ...              NaN   \n",
       "2    108812.0    651828  NORTH CAROLINA        37.0  ...              NaN   \n",
       "3    105872.0    635287       TENNESSEE        47.0  ...              NaN   \n",
       "4    105872.0    635296       TENNESSEE        47.0  ...              NaN   \n",
       "\n",
       "  FATALITY_DATE FATALITY_AGE FATALITY_SEX  FATALITY_LOCATION EVENT_YEARMONTH  \\\n",
       "0           NaN          NaN          NaN                NaN             NaN   \n",
       "1           NaN          NaN          NaN                NaN             NaN   \n",
       "2           NaN          NaN          NaN                NaN             NaN   \n",
       "3           NaN          NaN          NaN                NaN             NaN   \n",
       "4           NaN          NaN          NaN                NaN             NaN   \n",
       "\n",
       "  fatalities injuries type_frequency  fatal  \n",
       "0        0.0      0.0            NaN  False  \n",
       "1        0.0      0.0            NaN  False  \n",
       "2        0.0      0.0            NaN  False  \n",
       "3        0.0      0.0            NaN  False  \n",
       "4        0.0      0.0            NaN  False  \n",
       "\n",
       "[5 rows x 65 columns]"
      ]
     },
     "execution_count": 371,
     "metadata": {},
     "output_type": "execute_result"
    }
   ],
   "source": [
    "#Create two new columns.\n",
    "#'TYPE_FREQUENCY' counts the number of storms of each type.\n",
    "#NOTE for Hoa: a few cells above, use storms['EVENT_TYPE'].value_counts() directly in a plot call; does it make sense to create the type_frequency column earlier, so that it can be reused? \n",
    "#'fatal' is a Boolean, recording whether or not each storm episode caused fatalities. \n",
    "storms['type_frequency'] = storms.EVENT_TYPE.value_counts()\n",
    "storms['fatal'] = storms['fatalities'].apply(lambda x: x > 0)\n",
    "storms[:5]"
   ]
  },
  {
   "cell_type": "code",
   "execution_count": 372,
   "metadata": {},
   "outputs": [
    {
     "data": {
      "text/html": [
       "<div>\n",
       "<style>\n",
       "    .dataframe thead tr:only-child th {\n",
       "        text-align: right;\n",
       "    }\n",
       "\n",
       "    .dataframe thead th {\n",
       "        text-align: left;\n",
       "    }\n",
       "\n",
       "    .dataframe tbody tr th {\n",
       "        vertical-align: top;\n",
       "    }\n",
       "</style>\n",
       "<table border=\"1\" class=\"dataframe\">\n",
       "  <thead>\n",
       "    <tr style=\"text-align: right;\">\n",
       "      <th>fatal</th>\n",
       "      <th>EVENT_TYPE</th>\n",
       "      <th>False</th>\n",
       "      <th>True</th>\n",
       "    </tr>\n",
       "  </thead>\n",
       "  <tbody>\n",
       "    <tr>\n",
       "      <th>0</th>\n",
       "      <td>Astronomical Low Tide</td>\n",
       "      <td>46.0</td>\n",
       "      <td>0.0</td>\n",
       "    </tr>\n",
       "    <tr>\n",
       "      <th>1</th>\n",
       "      <td>Avalanche</td>\n",
       "      <td>13.0</td>\n",
       "      <td>18.0</td>\n",
       "    </tr>\n",
       "    <tr>\n",
       "      <th>2</th>\n",
       "      <td>Blizzard</td>\n",
       "      <td>538.0</td>\n",
       "      <td>10.0</td>\n",
       "    </tr>\n",
       "    <tr>\n",
       "      <th>3</th>\n",
       "      <td>Coastal Flood</td>\n",
       "      <td>218.0</td>\n",
       "      <td>1.0</td>\n",
       "    </tr>\n",
       "    <tr>\n",
       "      <th>4</th>\n",
       "      <td>Cold/Wind Chill</td>\n",
       "      <td>158.0</td>\n",
       "      <td>27.0</td>\n",
       "    </tr>\n",
       "  </tbody>\n",
       "</table>\n",
       "</div>"
      ],
      "text/plain": [
       "fatal             EVENT_TYPE  False  True\n",
       "0      Astronomical Low Tide   46.0   0.0\n",
       "1                  Avalanche   13.0  18.0\n",
       "2                   Blizzard  538.0  10.0\n",
       "3              Coastal Flood  218.0   1.0\n",
       "4            Cold/Wind Chill  158.0  27.0"
      ]
     },
     "execution_count": 372,
     "metadata": {},
     "output_type": "execute_result"
    }
   ],
   "source": [
    "#Group the data by storm event type and fatalities and assign to a new data frame.\n",
    "#Replace NaN with 0 in 'fatal', so that values are numerical. \n",
    "fatal_by_type = storms.groupby(['EVENT_TYPE','fatal']).size().unstack().reset_index()\n",
    "fatal_by_type[True or False].fillna(0, inplace=True)\n",
    "fatal_by_type[:5]"
   ]
  },
  {
   "cell_type": "markdown",
   "metadata": {},
   "source": [
    "Below this chart, I would like to plot the percentage-fatal by event type, in descending order of the 10 event types with the highest percentage-fatal. "
   ]
  },
  {
   "cell_type": "code",
   "execution_count": 373,
   "metadata": {},
   "outputs": [
    {
     "data": {
      "text/html": [
       "<div>\n",
       "<style>\n",
       "    .dataframe thead tr:only-child th {\n",
       "        text-align: right;\n",
       "    }\n",
       "\n",
       "    .dataframe thead th {\n",
       "        text-align: left;\n",
       "    }\n",
       "\n",
       "    .dataframe tbody tr th {\n",
       "        vertical-align: top;\n",
       "    }\n",
       "</style>\n",
       "<table border=\"1\" class=\"dataframe\">\n",
       "  <thead>\n",
       "    <tr style=\"text-align: right;\">\n",
       "      <th>fatal</th>\n",
       "      <th>EVENT_TYPE</th>\n",
       "      <th>False</th>\n",
       "      <th>True</th>\n",
       "      <th>types_count</th>\n",
       "      <th>percentage_fatal</th>\n",
       "    </tr>\n",
       "  </thead>\n",
       "  <tbody>\n",
       "    <tr>\n",
       "      <th>32</th>\n",
       "      <td>Marine Strong Wind</td>\n",
       "      <td>2.0</td>\n",
       "      <td>13.0</td>\n",
       "      <td>15.0</td>\n",
       "      <td>86.666667</td>\n",
       "    </tr>\n",
       "    <tr>\n",
       "      <th>36</th>\n",
       "      <td>Rip Current</td>\n",
       "      <td>25.0</td>\n",
       "      <td>51.0</td>\n",
       "      <td>76.0</td>\n",
       "      <td>67.105263</td>\n",
       "    </tr>\n",
       "    <tr>\n",
       "      <th>1</th>\n",
       "      <td>Avalanche</td>\n",
       "      <td>13.0</td>\n",
       "      <td>18.0</td>\n",
       "      <td>31.0</td>\n",
       "      <td>58.064516</td>\n",
       "    </tr>\n",
       "    <tr>\n",
       "      <th>23</th>\n",
       "      <td>Hurricane (Typhoon)</td>\n",
       "      <td>31.0</td>\n",
       "      <td>6.0</td>\n",
       "      <td>37.0</td>\n",
       "      <td>16.216216</td>\n",
       "    </tr>\n",
       "    <tr>\n",
       "      <th>4</th>\n",
       "      <td>Cold/Wind Chill</td>\n",
       "      <td>158.0</td>\n",
       "      <td>27.0</td>\n",
       "      <td>185.0</td>\n",
       "      <td>14.594595</td>\n",
       "    </tr>\n",
       "    <tr>\n",
       "      <th>10</th>\n",
       "      <td>Excessive Heat</td>\n",
       "      <td>536.0</td>\n",
       "      <td>82.0</td>\n",
       "      <td>618.0</td>\n",
       "      <td>13.268608</td>\n",
       "    </tr>\n",
       "    <tr>\n",
       "      <th>27</th>\n",
       "      <td>Lightning</td>\n",
       "      <td>369.0</td>\n",
       "      <td>41.0</td>\n",
       "      <td>410.0</td>\n",
       "      <td>10.000000</td>\n",
       "    </tr>\n",
       "    <tr>\n",
       "      <th>18</th>\n",
       "      <td>Heat</td>\n",
       "      <td>770.0</td>\n",
       "      <td>61.0</td>\n",
       "      <td>831.0</td>\n",
       "      <td>7.340554</td>\n",
       "    </tr>\n",
       "    <tr>\n",
       "      <th>9</th>\n",
       "      <td>Dust Storm</td>\n",
       "      <td>64.0</td>\n",
       "      <td>4.0</td>\n",
       "      <td>68.0</td>\n",
       "      <td>5.882353</td>\n",
       "    </tr>\n",
       "    <tr>\n",
       "      <th>45</th>\n",
       "      <td>Tropical Storm</td>\n",
       "      <td>309.0</td>\n",
       "      <td>15.0</td>\n",
       "      <td>324.0</td>\n",
       "      <td>4.629630</td>\n",
       "    </tr>\n",
       "  </tbody>\n",
       "</table>\n",
       "</div>"
      ],
      "text/plain": [
       "fatal           EVENT_TYPE  False  True  types_count  percentage_fatal\n",
       "32      Marine Strong Wind    2.0  13.0         15.0         86.666667\n",
       "36             Rip Current   25.0  51.0         76.0         67.105263\n",
       "1                Avalanche   13.0  18.0         31.0         58.064516\n",
       "23     Hurricane (Typhoon)   31.0   6.0         37.0         16.216216\n",
       "4          Cold/Wind Chill  158.0  27.0        185.0         14.594595\n",
       "10          Excessive Heat  536.0  82.0        618.0         13.268608\n",
       "27               Lightning  369.0  41.0        410.0         10.000000\n",
       "18                    Heat  770.0  61.0        831.0          7.340554\n",
       "9               Dust Storm   64.0   4.0         68.0          5.882353\n",
       "45          Tropical Storm  309.0  15.0        324.0          4.629630"
      ]
     },
     "execution_count": 373,
     "metadata": {},
     "output_type": "execute_result"
    }
   ],
   "source": [
    "#Generate a new column calculating the percentage of storm events of each type that is associated with fatalities.\n",
    "fatal_by_type['types_count'] = (fatal_by_type[False] + fatal_by_type[True])\n",
    "fatal_by_type['percentage_fatal'] = fatal_by_type[True] / fatal_by_type['types_count'] * 100\n",
    "fatal_by_type.sort_values('percentage_fatal', inplace=True, ascending=False)\n",
    "fatal_by_type[:10]"
   ]
  },
  {
   "cell_type": "markdown",
   "metadata": {},
   "source": [
    "Here, I would like to examine the distribution of number of fatalities by fatal storm event, grouped by the 10 deadliest storm event types. I need the subset of the data frame where fatalities > 0, and then either a histogram or a boxplot of the distribution of number of fatalities by storm event type. A histogram will be useful, because I doubt the distribution is normal--it'll probably show a lot of 1s and then a few higher values in the right tail. "
   ]
  },
  {
   "cell_type": "code",
   "execution_count": 374,
   "metadata": {},
   "outputs": [
    {
     "data": {
      "text/plain": [
       "<matplotlib.axes._subplots.AxesSubplot at 0x2660f69d0>"
      ]
     },
     "execution_count": 374,
     "metadata": {},
     "output_type": "execute_result"
    },
    {
     "data": {
      "image/png": "[encoded data removed]",
      "text/plain": [
       "<matplotlib.figure.Figure at 0x25f8855d0>"
      ]
     },
     "metadata": {},
     "output_type": "display_data"
    }
   ],
   "source": [
    "storms.boxplot(column=['fatalities'], by='EVENT_TYPE')"
   ]
  },
  {
   "cell_type": "code",
   "execution_count": null,
   "metadata": {
    "collapsed": true
   },
   "outputs": [],
   "source": []
  }
 ],
 "metadata": {
  "kernelspec": {
   "display_name": "Python 3",
   "language": "python",
   "name": "python3"
  },
  "language_info": {
   "codemirror_mode": {
    "name": "ipython",
    "version": 2
   },
   "file_extension": ".py",
   "mimetype": "text/x-python",
   "name": "python",
   "nbconvert_exporter": "python",
   "pygments_lexer": "ipython2",
   "version": "2.7.13"
  }
 },
 "nbformat": 4,
 "nbformat_minor": 2
}
